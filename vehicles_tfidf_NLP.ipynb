{
 "cells": [
  {
   "cell_type": "code",
   "execution_count": 1,
   "metadata": {},
   "outputs": [],
   "source": [
    "import pandas as pd\n",
    "import numpy as np\n",
    "from sklearn import preprocessing\n",
    "from sklearn.pipeline import Pipeline"
   ]
  },
  {
   "cell_type": "code",
   "execution_count": 2,
   "metadata": {},
   "outputs": [],
   "source": [
    "df = pd.read_csv('data/df_cleaned.csv', index_col=0)"
   ]
  },
  {
   "cell_type": "code",
   "execution_count": 3,
   "metadata": {},
   "outputs": [
    {
     "name": "stdout",
     "output_type": "stream",
     "text": [
      "<class 'pandas.core.frame.DataFrame'>\n",
      "Int64Index: 318994 entries, 0 to 458210\n",
      "Columns: 352 entries, price to state_west\n",
      "dtypes: float64(4), int64(347), object(1)\n",
      "memory usage: 859.1+ MB\n"
     ]
    }
   ],
   "source": [
    "df.info()"
   ]
  },
  {
   "cell_type": "code",
   "execution_count": 4,
   "metadata": {},
   "outputs": [
    {
     "data": {
      "text/html": [
       "<div>\n",
       "<style scoped>\n",
       "    .dataframe tbody tr th:only-of-type {\n",
       "        vertical-align: middle;\n",
       "    }\n",
       "\n",
       "    .dataframe tbody tr th {\n",
       "        vertical-align: top;\n",
       "    }\n",
       "\n",
       "    .dataframe thead th {\n",
       "        text-align: right;\n",
       "    }\n",
       "</style>\n",
       "<table border=\"1\" class=\"dataframe\">\n",
       "  <thead>\n",
       "    <tr style=\"text-align: right;\">\n",
       "      <th></th>\n",
       "      <th>price</th>\n",
       "      <th>year</th>\n",
       "      <th>cylinders</th>\n",
       "      <th>odometer</th>\n",
       "      <th>description</th>\n",
       "      <th>lat</th>\n",
       "      <th>long</th>\n",
       "      <th>posting_weekday</th>\n",
       "      <th>posting_month</th>\n",
       "      <th>posting_year</th>\n",
       "      <th>...</th>\n",
       "      <th>car_model_volkswagen passat</th>\n",
       "      <th>car_model_volkswagen tiguan</th>\n",
       "      <th>car_model_volvo s60</th>\n",
       "      <th>car_model_volvo xc60</th>\n",
       "      <th>car_model_volvo xc70</th>\n",
       "      <th>car_model_volvo xc90</th>\n",
       "      <th>state_midwest</th>\n",
       "      <th>state_northeast</th>\n",
       "      <th>state_south</th>\n",
       "      <th>state_west</th>\n",
       "    </tr>\n",
       "  </thead>\n",
       "  <tbody>\n",
       "    <tr>\n",
       "      <th>0</th>\n",
       "      <td>35990</td>\n",
       "      <td>2010.0</td>\n",
       "      <td>8</td>\n",
       "      <td>32742.0</td>\n",
       "      <td>Carvana is the safer way to buy a car During t...</td>\n",
       "      <td>32.590000</td>\n",
       "      <td>-85.480000</td>\n",
       "      <td>2</td>\n",
       "      <td>12</td>\n",
       "      <td>2020</td>\n",
       "      <td>...</td>\n",
       "      <td>0</td>\n",
       "      <td>0</td>\n",
       "      <td>0</td>\n",
       "      <td>0</td>\n",
       "      <td>0</td>\n",
       "      <td>0</td>\n",
       "      <td>0</td>\n",
       "      <td>0</td>\n",
       "      <td>1</td>\n",
       "      <td>0</td>\n",
       "    </tr>\n",
       "    <tr>\n",
       "      <th>1</th>\n",
       "      <td>7500</td>\n",
       "      <td>2014.0</td>\n",
       "      <td>4</td>\n",
       "      <td>93600.0</td>\n",
       "      <td>I'll move to another city and try to sell my c...</td>\n",
       "      <td>32.547500</td>\n",
       "      <td>-85.468200</td>\n",
       "      <td>2</td>\n",
       "      <td>12</td>\n",
       "      <td>2020</td>\n",
       "      <td>...</td>\n",
       "      <td>0</td>\n",
       "      <td>0</td>\n",
       "      <td>0</td>\n",
       "      <td>0</td>\n",
       "      <td>0</td>\n",
       "      <td>0</td>\n",
       "      <td>0</td>\n",
       "      <td>0</td>\n",
       "      <td>1</td>\n",
       "      <td>0</td>\n",
       "    </tr>\n",
       "    <tr>\n",
       "      <th>2</th>\n",
       "      <td>4900</td>\n",
       "      <td>2006.0</td>\n",
       "      <td>6</td>\n",
       "      <td>87046.0</td>\n",
       "      <td>Clean 2006 BMW X3 3.0I.  Beautiful and rare Bl...</td>\n",
       "      <td>32.616807</td>\n",
       "      <td>-85.464149</td>\n",
       "      <td>2</td>\n",
       "      <td>12</td>\n",
       "      <td>2020</td>\n",
       "      <td>...</td>\n",
       "      <td>0</td>\n",
       "      <td>0</td>\n",
       "      <td>0</td>\n",
       "      <td>0</td>\n",
       "      <td>0</td>\n",
       "      <td>0</td>\n",
       "      <td>0</td>\n",
       "      <td>0</td>\n",
       "      <td>1</td>\n",
       "      <td>0</td>\n",
       "    </tr>\n",
       "    <tr>\n",
       "      <th>4</th>\n",
       "      <td>19500</td>\n",
       "      <td>2005.0</td>\n",
       "      <td>8</td>\n",
       "      <td>116000.0</td>\n",
       "      <td>2005 Ford F350 Lariat (Bullet Proofed). This t...</td>\n",
       "      <td>32.547500</td>\n",
       "      <td>-85.468200</td>\n",
       "      <td>1</td>\n",
       "      <td>12</td>\n",
       "      <td>2020</td>\n",
       "      <td>...</td>\n",
       "      <td>0</td>\n",
       "      <td>0</td>\n",
       "      <td>0</td>\n",
       "      <td>0</td>\n",
       "      <td>0</td>\n",
       "      <td>0</td>\n",
       "      <td>0</td>\n",
       "      <td>0</td>\n",
       "      <td>1</td>\n",
       "      <td>0</td>\n",
       "    </tr>\n",
       "    <tr>\n",
       "      <th>5</th>\n",
       "      <td>29590</td>\n",
       "      <td>2016.0</td>\n",
       "      <td>6</td>\n",
       "      <td>33290.0</td>\n",
       "      <td>Carvana is the safer way to buy a car During t...</td>\n",
       "      <td>32.590000</td>\n",
       "      <td>-85.480000</td>\n",
       "      <td>1</td>\n",
       "      <td>12</td>\n",
       "      <td>2020</td>\n",
       "      <td>...</td>\n",
       "      <td>0</td>\n",
       "      <td>0</td>\n",
       "      <td>0</td>\n",
       "      <td>0</td>\n",
       "      <td>0</td>\n",
       "      <td>0</td>\n",
       "      <td>0</td>\n",
       "      <td>0</td>\n",
       "      <td>1</td>\n",
       "      <td>0</td>\n",
       "    </tr>\n",
       "  </tbody>\n",
       "</table>\n",
       "<p>5 rows × 352 columns</p>\n",
       "</div>"
      ],
      "text/plain": [
       "   price    year  cylinders  odometer  \\\n",
       "0  35990  2010.0          8   32742.0   \n",
       "1   7500  2014.0          4   93600.0   \n",
       "2   4900  2006.0          6   87046.0   \n",
       "4  19500  2005.0          8  116000.0   \n",
       "5  29590  2016.0          6   33290.0   \n",
       "\n",
       "                                         description        lat       long  \\\n",
       "0  Carvana is the safer way to buy a car During t...  32.590000 -85.480000   \n",
       "1  I'll move to another city and try to sell my c...  32.547500 -85.468200   \n",
       "2  Clean 2006 BMW X3 3.0I.  Beautiful and rare Bl...  32.616807 -85.464149   \n",
       "4  2005 Ford F350 Lariat (Bullet Proofed). This t...  32.547500 -85.468200   \n",
       "5  Carvana is the safer way to buy a car During t...  32.590000 -85.480000   \n",
       "\n",
       "   posting_weekday  posting_month  posting_year  ...  \\\n",
       "0                2             12          2020  ...   \n",
       "1                2             12          2020  ...   \n",
       "2                2             12          2020  ...   \n",
       "4                1             12          2020  ...   \n",
       "5                1             12          2020  ...   \n",
       "\n",
       "   car_model_volkswagen passat  car_model_volkswagen tiguan  \\\n",
       "0                            0                            0   \n",
       "1                            0                            0   \n",
       "2                            0                            0   \n",
       "4                            0                            0   \n",
       "5                            0                            0   \n",
       "\n",
       "   car_model_volvo s60  car_model_volvo xc60  car_model_volvo xc70  \\\n",
       "0                    0                     0                     0   \n",
       "1                    0                     0                     0   \n",
       "2                    0                     0                     0   \n",
       "4                    0                     0                     0   \n",
       "5                    0                     0                     0   \n",
       "\n",
       "   car_model_volvo xc90  state_midwest  state_northeast  state_south  \\\n",
       "0                     0              0                0            1   \n",
       "1                     0              0                0            1   \n",
       "2                     0              0                0            1   \n",
       "4                     0              0                0            1   \n",
       "5                     0              0                0            1   \n",
       "\n",
       "   state_west  \n",
       "0           0  \n",
       "1           0  \n",
       "2           0  \n",
       "4           0  \n",
       "5           0  \n",
       "\n",
       "[5 rows x 352 columns]"
      ]
     },
     "execution_count": 4,
     "metadata": {},
     "output_type": "execute_result"
    }
   ],
   "source": [
    "df.head()"
   ]
  },
  {
   "cell_type": "code",
   "execution_count": 5,
   "metadata": {},
   "outputs": [
    {
     "name": "stdout",
     "output_type": "stream",
     "text": [
      "(255195, 351) (255195,)\n",
      "(63799, 351) (63799,)\n"
     ]
    }
   ],
   "source": [
    "from sklearn.model_selection import train_test_split\n",
    "\n",
    "#Spliting the data in train and test\n",
    "X = df.drop('price', axis=1)\n",
    "y=df['price']\n",
    "\n",
    "#Train and test split with split size of 25% for training data\n",
    "split = 0.20\n",
    "X_tr, X_test, y_tr, y_test = train_test_split(X, y, test_size=split, random_state=35)\n",
    "\n",
    "print(X_tr.shape, y_tr.shape)\n",
    "print(X_test.shape, y_test.shape)"
   ]
  },
  {
   "cell_type": "code",
   "execution_count": 6,
   "metadata": {},
   "outputs": [
    {
     "name": "stdout",
     "output_type": "stream",
     "text": [
      "(204156, 351) (204156,)\n",
      "(51039, 351) (51039,)\n"
     ]
    }
   ],
   "source": [
    "# Further splitting data in train and validation\n",
    "\n",
    "#Train and test split with split size of 25% for training data\n",
    "split = 0.20\n",
    "X_train, X_val, y_train, y_val = train_test_split(X_tr, y_tr, test_size=split, random_state=35)\n",
    "\n",
    "print(X_train.shape, y_train.shape)\n",
    "print(X_val.shape, y_val.shape)"
   ]
  },
  {
   "cell_type": "code",
   "execution_count": 7,
   "metadata": {},
   "outputs": [],
   "source": [
    "#saving train test data before encoding\n",
    "\n",
    "X_train.to_csv('data/X_train.csv')\n",
    "X_val.to_csv('data/X_val.csv')\n",
    "X_test.to_csv('data/X_test.csv')\n",
    "y_train.to_csv('data/y_train.csv')\n",
    "y_val.to_csv('data/y_val.csv')\n",
    "y_test.to_csv('data/y_test.csv')"
   ]
  },
  {
   "cell_type": "code",
   "execution_count": 7,
   "metadata": {},
   "outputs": [],
   "source": [
    "index = X_train.columns"
   ]
  },
  {
   "cell_type": "markdown",
   "metadata": {},
   "source": [
    "#### Initially we will use nltk, Tfidf to vectorize description column to start with (later part would use sentence encoders and other NLP libraries)"
   ]
  },
  {
   "cell_type": "code",
   "execution_count": 8,
   "metadata": {},
   "outputs": [
    {
     "name": "stderr",
     "output_type": "stream",
     "text": [
      "[nltk_data] Downloading package wordnet to\n",
      "[nltk_data]     C:\\Users\\zesha\\AppData\\Roaming\\nltk_data...\n",
      "[nltk_data]   Package wordnet is already up-to-date!\n",
      "[nltk_data] Downloading package stopwords to\n",
      "[nltk_data]     C:\\Users\\zesha\\AppData\\Roaming\\nltk_data...\n",
      "[nltk_data]   Package stopwords is already up-to-date!\n",
      "[nltk_data] Downloading package punkt to\n",
      "[nltk_data]     C:\\Users\\zesha\\AppData\\Roaming\\nltk_data...\n",
      "[nltk_data]   Package punkt is already up-to-date!\n"
     ]
    },
    {
     "data": {
      "text/plain": [
       "True"
      ]
     },
     "execution_count": 8,
     "metadata": {},
     "output_type": "execute_result"
    }
   ],
   "source": [
    "import nltk\n",
    "nltk.download('wordnet')\n",
    "nltk.download('stopwords')\n",
    "nltk.download('punkt')"
   ]
  },
  {
   "cell_type": "code",
   "execution_count": 12,
   "metadata": {},
   "outputs": [],
   "source": [
    "from nltk.stem import WordNetLemmatizer\n",
    "from nltk.tokenize import word_tokenize\n",
    "from nltk.corpus import stopwords\n",
    "import string\n",
    "\n",
    "def preprocess(text):\n",
    "    stop_words =stopwords.words('english')\n",
    "    \n",
    "    # Split whitespace\n",
    "    text=text.split(' ')\n",
    "    \n",
    "    # Lowercase\n",
    "    text = [word.lower() for word in text]\n",
    "    \n",
    "    # Remove punctuation - \n",
    "    #  translate table functions by firstly removing translation table which will replace punctuations with empty strings. By calling .translate(), \n",
    "    #  function will be applied on character level which will capture cases where puncutation is joined with a word\n",
    "    punc_table = str.maketrans('', '', string.punctuation) #translation table\n",
    "    text = [word.translate(punc_table) for word in text]\n",
    "    \n",
    "    #Stop Words removal\n",
    "    text=[word for word in text if word not in stop_words]\n",
    "    \n",
    "    #LEMMATIZE\n",
    "    #  Intantiate\n",
    "    lemmatizer = WordNetLemmatizer()\n",
    "    \n",
    "    #Part-of-speech constants\n",
    "    #Loop is run and lemmatize will take two arguments one is token and other is a mapping of pos_tag with wordnet value. \n",
    "    #  Verb lemmatizing\n",
    "    text = [lemmatizer.lemmatize(word, pos='v') for word in text]\n",
    "    #  Noun lemmatizing\n",
    "    text = [lemmatizer.lemmatize(word, pos='n') for word in text]\n",
    "    #  Adjective lemmatizing\n",
    "    text = [lemmatizer.lemmatize(word, pos='a') for word in text]\n",
    "    #text = [lemmatizer.lemmatize(word, pos='j') for word in text]\n",
    "    #  Adverb lemmatizing\n",
    "    text = [lemmatizer.lemmatize(word, pos='r') for word in text]\n",
    "    #ADJ_SAT\n",
    "    text = [lemmatizer.lemmatize(word, pos='s') for word in text]\n",
    "    \n",
    "    \n",
    "    return text"
   ]
  },
  {
   "cell_type": "markdown",
   "metadata": {},
   "source": [
    "Lemmatization is preferred over the Stemming \n",
    "\n",
    "Stemming algorithm works by cutting the suffix from the word. In a broader sense cuts either the beginning or end of the word.\n",
    "\n",
    "On the contrary, Lemmatization is a more powerful operation, and it takes into consideration morphological analysis of the words. It returns the lemma which is the base form of all its inflectional forms. In-depth linguistic knowledge is required to create dictionaries and look for the proper form of the word. Stemming is a general operation while lemmatization is an intelligent operation where the proper form will be looked in the dictionary. Hence, lemmatization helps in forming better machine learning features. "
   ]
  },
  {
   "cell_type": "code",
   "execution_count": 14,
   "metadata": {},
   "outputs": [],
   "source": [
    "from sklearn.feature_extraction.text import TfidfVectorizer\n",
    "\n",
    "#Instantiate vectorizer\n",
    "tfidf = TfidfVectorizer(tokenizer=preprocess, min_df=0.1, max_df=0.6)\n",
    "\n",
    "#Fit Veectorizers\n",
    "#tfidf = tfidf.fit(df['description'])\n",
    "X_train_tfidf = tfidf.fit(X_train['description'])\n",
    "\n",
    "#Transform\n",
    "#df_des = tfidf.transform(df['description'])\n",
    "X_train_id = X_train_tfidf.transform(X_train['description'])\n",
    "X_test_id = X_train_tfidf.transform(X_test['description'])\n",
    "X_val_id = X_train_tfidf.transform(X_val['description'])\n",
    "#tfidf_train = tfidf.transform(X_train['description'])\n",
    "#tfidf_test = tfidf.transform(X_test['description'])"
   ]
  },
  {
   "cell_type": "code",
   "execution_count": null,
   "metadata": {},
   "outputs": [],
   "source": [
    "#X_train_idf = X_train_id.copy()\n",
    "#X_test_idf = X_test_id.copy()\n",
    "#X_vel_idf = "
   ]
  },
  {
   "cell_type": "code",
   "execution_count": null,
   "metadata": {},
   "outputs": [],
   "source": [
    "#X_vel_idf = "
   ]
  },
  {
   "cell_type": "code",
   "execution_count": 15,
   "metadata": {},
   "outputs": [],
   "source": [
    "col_names = [\"d_\"+column for column in X_train_tfidf.get_feature_names()]"
   ]
  },
  {
   "cell_type": "code",
   "execution_count": 16,
   "metadata": {},
   "outputs": [],
   "source": [
    "X_train_id = pd.DataFrame(X_train_id.todense(), columns=col_names)"
   ]
  },
  {
   "cell_type": "code",
   "execution_count": 17,
   "metadata": {},
   "outputs": [
    {
     "data": {
      "text/plain": [
       "(204156, 444)"
      ]
     },
     "execution_count": 17,
     "metadata": {},
     "output_type": "execute_result"
    }
   ],
   "source": [
    "X_train_id.shape"
   ]
  },
  {
   "cell_type": "code",
   "execution_count": 18,
   "metadata": {},
   "outputs": [
    {
     "data": {
      "text/plain": [
       "(63799, 444)"
      ]
     },
     "execution_count": 18,
     "metadata": {},
     "output_type": "execute_result"
    }
   ],
   "source": [
    "X_test_id = pd.DataFrame(X_test_id.todense(), columns=col_names)\n",
    "X_test_id.shape"
   ]
  },
  {
   "cell_type": "code",
   "execution_count": 19,
   "metadata": {},
   "outputs": [
    {
     "data": {
      "text/plain": [
       "(51039, 444)"
      ]
     },
     "execution_count": 19,
     "metadata": {},
     "output_type": "execute_result"
    }
   ],
   "source": [
    "X_val_id = pd.DataFrame(X_val_id.todense(), columns=col_names)\n",
    "X_val_id.shape"
   ]
  },
  {
   "cell_type": "code",
   "execution_count": 22,
   "metadata": {},
   "outputs": [
    {
     "data": {
      "text/plain": [
       "state_west                       0.0\n",
       "car_model_chevrolet nan          0.0\n",
       "car_model_chevrolet corvette     0.0\n",
       "car_model_chevrolet cruze        0.0\n",
       "car_model_chevrolet equinox      0.0\n",
       "                                ... \n",
       "car_model_lexus ls               0.0\n",
       "car_model_lexus rx               0.0\n",
       "car_model_lincoln continental    0.0\n",
       "car_model_lincoln mkc            0.0\n",
       "year                             0.0\n",
       "Length: 351, dtype: float64"
      ]
     },
     "execution_count": 22,
     "metadata": {},
     "output_type": "execute_result"
    }
   ],
   "source": [
    "(X_val.isna().mean()*100.0).sort_values(ascending=False)"
   ]
  },
  {
   "cell_type": "code",
   "execution_count": 25,
   "metadata": {},
   "outputs": [
    {
     "data": {
      "text/html": [
       "<div>\n",
       "<style scoped>\n",
       "    .dataframe tbody tr th:only-of-type {\n",
       "        vertical-align: middle;\n",
       "    }\n",
       "\n",
       "    .dataframe tbody tr th {\n",
       "        vertical-align: top;\n",
       "    }\n",
       "\n",
       "    .dataframe thead th {\n",
       "        text-align: right;\n",
       "    }\n",
       "</style>\n",
       "<table border=\"1\" class=\"dataframe\">\n",
       "  <thead>\n",
       "    <tr style=\"text-align: right;\">\n",
       "      <th></th>\n",
       "      <th>d_00</th>\n",
       "      <th>d_01</th>\n",
       "      <th>d_02</th>\n",
       "      <th>d_03</th>\n",
       "      <th>d_04</th>\n",
       "      <th>d_05</th>\n",
       "      <th>d_06</th>\n",
       "      <th>d_07</th>\n",
       "      <th>d_08</th>\n",
       "      <th>d_09</th>\n",
       "      <th>...</th>\n",
       "      <th>d_wheel</th>\n",
       "      <th>d_white</th>\n",
       "      <th>d_window</th>\n",
       "      <th>d_wiper</th>\n",
       "      <th>d_without</th>\n",
       "      <th>d_won’t</th>\n",
       "      <th>d_work</th>\n",
       "      <th>d_year</th>\n",
       "      <th>d_youdisclaimer</th>\n",
       "      <th>d_✅</th>\n",
       "    </tr>\n",
       "  </thead>\n",
       "  <tbody>\n",
       "    <tr>\n",
       "      <th>0</th>\n",
       "      <td>0.046727</td>\n",
       "      <td>0.04657</td>\n",
       "      <td>0.04641</td>\n",
       "      <td>0.046276</td>\n",
       "      <td>0.046186</td>\n",
       "      <td>0.045945</td>\n",
       "      <td>0.045816</td>\n",
       "      <td>0.045671</td>\n",
       "      <td>0.045413</td>\n",
       "      <td>0.045424</td>\n",
       "      <td>...</td>\n",
       "      <td>0.000000</td>\n",
       "      <td>0.000000</td>\n",
       "      <td>0.000000</td>\n",
       "      <td>0.0</td>\n",
       "      <td>0.075496</td>\n",
       "      <td>0.049316</td>\n",
       "      <td>0.034560</td>\n",
       "      <td>0.000000</td>\n",
       "      <td>0.049584</td>\n",
       "      <td>0.0</td>\n",
       "    </tr>\n",
       "    <tr>\n",
       "      <th>1</th>\n",
       "      <td>0.000000</td>\n",
       "      <td>0.00000</td>\n",
       "      <td>0.00000</td>\n",
       "      <td>0.000000</td>\n",
       "      <td>0.000000</td>\n",
       "      <td>0.000000</td>\n",
       "      <td>0.000000</td>\n",
       "      <td>0.000000</td>\n",
       "      <td>0.000000</td>\n",
       "      <td>0.000000</td>\n",
       "      <td>...</td>\n",
       "      <td>0.000000</td>\n",
       "      <td>0.180568</td>\n",
       "      <td>0.000000</td>\n",
       "      <td>0.0</td>\n",
       "      <td>0.000000</td>\n",
       "      <td>0.000000</td>\n",
       "      <td>0.000000</td>\n",
       "      <td>0.000000</td>\n",
       "      <td>0.000000</td>\n",
       "      <td>0.0</td>\n",
       "    </tr>\n",
       "    <tr>\n",
       "      <th>2</th>\n",
       "      <td>0.000000</td>\n",
       "      <td>0.00000</td>\n",
       "      <td>0.00000</td>\n",
       "      <td>0.000000</td>\n",
       "      <td>0.000000</td>\n",
       "      <td>0.000000</td>\n",
       "      <td>0.000000</td>\n",
       "      <td>0.000000</td>\n",
       "      <td>0.000000</td>\n",
       "      <td>0.000000</td>\n",
       "      <td>...</td>\n",
       "      <td>0.137737</td>\n",
       "      <td>0.000000</td>\n",
       "      <td>0.042267</td>\n",
       "      <td>0.0</td>\n",
       "      <td>0.000000</td>\n",
       "      <td>0.000000</td>\n",
       "      <td>0.086605</td>\n",
       "      <td>0.046066</td>\n",
       "      <td>0.000000</td>\n",
       "      <td>0.0</td>\n",
       "    </tr>\n",
       "    <tr>\n",
       "      <th>3</th>\n",
       "      <td>0.000000</td>\n",
       "      <td>0.00000</td>\n",
       "      <td>0.00000</td>\n",
       "      <td>0.000000</td>\n",
       "      <td>0.000000</td>\n",
       "      <td>0.000000</td>\n",
       "      <td>0.000000</td>\n",
       "      <td>0.000000</td>\n",
       "      <td>0.000000</td>\n",
       "      <td>0.000000</td>\n",
       "      <td>...</td>\n",
       "      <td>0.102461</td>\n",
       "      <td>0.000000</td>\n",
       "      <td>0.041922</td>\n",
       "      <td>0.0</td>\n",
       "      <td>0.046912</td>\n",
       "      <td>0.000000</td>\n",
       "      <td>0.085900</td>\n",
       "      <td>0.045691</td>\n",
       "      <td>0.000000</td>\n",
       "      <td>0.0</td>\n",
       "    </tr>\n",
       "    <tr>\n",
       "      <th>4</th>\n",
       "      <td>0.000000</td>\n",
       "      <td>0.00000</td>\n",
       "      <td>0.00000</td>\n",
       "      <td>0.000000</td>\n",
       "      <td>0.000000</td>\n",
       "      <td>0.000000</td>\n",
       "      <td>0.000000</td>\n",
       "      <td>0.000000</td>\n",
       "      <td>0.000000</td>\n",
       "      <td>0.000000</td>\n",
       "      <td>...</td>\n",
       "      <td>0.000000</td>\n",
       "      <td>0.000000</td>\n",
       "      <td>0.000000</td>\n",
       "      <td>0.0</td>\n",
       "      <td>0.000000</td>\n",
       "      <td>0.000000</td>\n",
       "      <td>0.137320</td>\n",
       "      <td>0.438253</td>\n",
       "      <td>0.000000</td>\n",
       "      <td>0.0</td>\n",
       "    </tr>\n",
       "  </tbody>\n",
       "</table>\n",
       "<p>5 rows × 444 columns</p>\n",
       "</div>"
      ],
      "text/plain": [
       "       d_00     d_01     d_02      d_03      d_04      d_05      d_06  \\\n",
       "0  0.046727  0.04657  0.04641  0.046276  0.046186  0.045945  0.045816   \n",
       "1  0.000000  0.00000  0.00000  0.000000  0.000000  0.000000  0.000000   \n",
       "2  0.000000  0.00000  0.00000  0.000000  0.000000  0.000000  0.000000   \n",
       "3  0.000000  0.00000  0.00000  0.000000  0.000000  0.000000  0.000000   \n",
       "4  0.000000  0.00000  0.00000  0.000000  0.000000  0.000000  0.000000   \n",
       "\n",
       "       d_07      d_08      d_09  ...   d_wheel   d_white  d_window  d_wiper  \\\n",
       "0  0.045671  0.045413  0.045424  ...  0.000000  0.000000  0.000000      0.0   \n",
       "1  0.000000  0.000000  0.000000  ...  0.000000  0.180568  0.000000      0.0   \n",
       "2  0.000000  0.000000  0.000000  ...  0.137737  0.000000  0.042267      0.0   \n",
       "3  0.000000  0.000000  0.000000  ...  0.102461  0.000000  0.041922      0.0   \n",
       "4  0.000000  0.000000  0.000000  ...  0.000000  0.000000  0.000000      0.0   \n",
       "\n",
       "   d_without   d_won’t    d_work    d_year  d_youdisclaimer  d_✅  \n",
       "0   0.075496  0.049316  0.034560  0.000000         0.049584  0.0  \n",
       "1   0.000000  0.000000  0.000000  0.000000         0.000000  0.0  \n",
       "2   0.000000  0.000000  0.086605  0.046066         0.000000  0.0  \n",
       "3   0.046912  0.000000  0.085900  0.045691         0.000000  0.0  \n",
       "4   0.000000  0.000000  0.137320  0.438253         0.000000  0.0  \n",
       "\n",
       "[5 rows x 444 columns]"
      ]
     },
     "execution_count": 25,
     "metadata": {},
     "output_type": "execute_result"
    }
   ],
   "source": [
    "X_val_id.head()"
   ]
  },
  {
   "cell_type": "code",
   "execution_count": 29,
   "metadata": {},
   "outputs": [],
   "source": [
    "X_train_id = X_train_id.reset_index()\n",
    "X_test_id = X_test_id.reset_index()\n",
    "X_val_id = X_val_id.reset_index()"
   ]
  },
  {
   "cell_type": "code",
   "execution_count": 30,
   "metadata": {},
   "outputs": [],
   "source": [
    "X_train = X_train.reset_index()\n",
    "X_test = X_test.reset_index()\n",
    "X_val = X_val.reset_index()"
   ]
  },
  {
   "cell_type": "code",
   "execution_count": 31,
   "metadata": {},
   "outputs": [],
   "source": [
    "#dropping description column\n",
    "X_train.drop(['description'], axis = 1, inplace = True)\n",
    "X_test.drop(['description'], axis = 1, inplace = True)\n",
    "X_val.drop(['description'], axis = 1, inplace = True)"
   ]
  },
  {
   "cell_type": "code",
   "execution_count": 32,
   "metadata": {},
   "outputs": [],
   "source": [
    "X_train_tfidf = pd.concat([X_train, X_train_id], axis=1)"
   ]
  },
  {
   "cell_type": "code",
   "execution_count": 33,
   "metadata": {},
   "outputs": [],
   "source": [
    "X_test_tfidf = pd.concat([X_test, X_test_id], axis=1) "
   ]
  },
  {
   "cell_type": "code",
   "execution_count": 34,
   "metadata": {},
   "outputs": [],
   "source": [
    "X_val_tfidf = pd.concat([X_val, X_val_id], axis=1) "
   ]
  },
  {
   "cell_type": "code",
   "execution_count": 35,
   "metadata": {},
   "outputs": [
    {
     "data": {
      "text/html": [
       "<div>\n",
       "<style scoped>\n",
       "    .dataframe tbody tr th:only-of-type {\n",
       "        vertical-align: middle;\n",
       "    }\n",
       "\n",
       "    .dataframe tbody tr th {\n",
       "        vertical-align: top;\n",
       "    }\n",
       "\n",
       "    .dataframe thead th {\n",
       "        text-align: right;\n",
       "    }\n",
       "</style>\n",
       "<table border=\"1\" class=\"dataframe\">\n",
       "  <thead>\n",
       "    <tr style=\"text-align: right;\">\n",
       "      <th></th>\n",
       "      <th>index</th>\n",
       "      <th>year</th>\n",
       "      <th>cylinders</th>\n",
       "      <th>odometer</th>\n",
       "      <th>lat</th>\n",
       "      <th>long</th>\n",
       "      <th>posting_weekday</th>\n",
       "      <th>posting_month</th>\n",
       "      <th>posting_year</th>\n",
       "      <th>condition_excellent</th>\n",
       "      <th>...</th>\n",
       "      <th>d_wheel</th>\n",
       "      <th>d_white</th>\n",
       "      <th>d_window</th>\n",
       "      <th>d_wiper</th>\n",
       "      <th>d_without</th>\n",
       "      <th>d_won’t</th>\n",
       "      <th>d_work</th>\n",
       "      <th>d_year</th>\n",
       "      <th>d_youdisclaimer</th>\n",
       "      <th>d_✅</th>\n",
       "    </tr>\n",
       "  </thead>\n",
       "  <tbody>\n",
       "    <tr>\n",
       "      <th>0</th>\n",
       "      <td>322098</td>\n",
       "      <td>2017.0</td>\n",
       "      <td>8</td>\n",
       "      <td>74863.0</td>\n",
       "      <td>45.519861</td>\n",
       "      <td>-122.434111</td>\n",
       "      <td>3</td>\n",
       "      <td>11</td>\n",
       "      <td>2020</td>\n",
       "      <td>0</td>\n",
       "      <td>...</td>\n",
       "      <td>0.067461</td>\n",
       "      <td>0.0</td>\n",
       "      <td>0.0</td>\n",
       "      <td>0.0</td>\n",
       "      <td>0.000000</td>\n",
       "      <td>0.000000</td>\n",
       "      <td>0.000000</td>\n",
       "      <td>0.0</td>\n",
       "      <td>0.000000</td>\n",
       "      <td>0.0</td>\n",
       "    </tr>\n",
       "    <tr>\n",
       "      <th>1</th>\n",
       "      <td>344532</td>\n",
       "      <td>2019.0</td>\n",
       "      <td>4</td>\n",
       "      <td>4142.0</td>\n",
       "      <td>41.400000</td>\n",
       "      <td>-75.660000</td>\n",
       "      <td>1</td>\n",
       "      <td>11</td>\n",
       "      <td>2020</td>\n",
       "      <td>0</td>\n",
       "      <td>...</td>\n",
       "      <td>0.000000</td>\n",
       "      <td>0.0</td>\n",
       "      <td>0.0</td>\n",
       "      <td>0.0</td>\n",
       "      <td>0.059981</td>\n",
       "      <td>0.039182</td>\n",
       "      <td>0.027457</td>\n",
       "      <td>0.0</td>\n",
       "      <td>0.039394</td>\n",
       "      <td>0.0</td>\n",
       "    </tr>\n",
       "    <tr>\n",
       "      <th>2</th>\n",
       "      <td>13565</td>\n",
       "      <td>2013.0</td>\n",
       "      <td>4</td>\n",
       "      <td>61674.0</td>\n",
       "      <td>34.620000</td>\n",
       "      <td>-112.420000</td>\n",
       "      <td>3</td>\n",
       "      <td>11</td>\n",
       "      <td>2020</td>\n",
       "      <td>0</td>\n",
       "      <td>...</td>\n",
       "      <td>0.000000</td>\n",
       "      <td>0.0</td>\n",
       "      <td>0.0</td>\n",
       "      <td>0.0</td>\n",
       "      <td>0.075885</td>\n",
       "      <td>0.049570</td>\n",
       "      <td>0.034738</td>\n",
       "      <td>0.0</td>\n",
       "      <td>0.049839</td>\n",
       "      <td>0.0</td>\n",
       "    </tr>\n",
       "    <tr>\n",
       "      <th>3</th>\n",
       "      <td>334734</td>\n",
       "      <td>2017.0</td>\n",
       "      <td>6</td>\n",
       "      <td>26451.0</td>\n",
       "      <td>40.270000</td>\n",
       "      <td>-76.880000</td>\n",
       "      <td>4</td>\n",
       "      <td>11</td>\n",
       "      <td>2020</td>\n",
       "      <td>0</td>\n",
       "      <td>...</td>\n",
       "      <td>0.000000</td>\n",
       "      <td>0.0</td>\n",
       "      <td>0.0</td>\n",
       "      <td>0.0</td>\n",
       "      <td>0.075588</td>\n",
       "      <td>0.049377</td>\n",
       "      <td>0.034602</td>\n",
       "      <td>0.0</td>\n",
       "      <td>0.049645</td>\n",
       "      <td>0.0</td>\n",
       "    </tr>\n",
       "    <tr>\n",
       "      <th>4</th>\n",
       "      <td>36265</td>\n",
       "      <td>2019.0</td>\n",
       "      <td>4</td>\n",
       "      <td>4161.0</td>\n",
       "      <td>33.779214</td>\n",
       "      <td>-84.411811</td>\n",
       "      <td>1</td>\n",
       "      <td>12</td>\n",
       "      <td>2020</td>\n",
       "      <td>0</td>\n",
       "      <td>...</td>\n",
       "      <td>0.000000</td>\n",
       "      <td>0.0</td>\n",
       "      <td>0.0</td>\n",
       "      <td>0.0</td>\n",
       "      <td>0.073911</td>\n",
       "      <td>0.048281</td>\n",
       "      <td>0.033834</td>\n",
       "      <td>0.0</td>\n",
       "      <td>0.048543</td>\n",
       "      <td>0.0</td>\n",
       "    </tr>\n",
       "  </tbody>\n",
       "</table>\n",
       "<p>5 rows × 796 columns</p>\n",
       "</div>"
      ],
      "text/plain": [
       "    index    year  cylinders  odometer        lat        long  \\\n",
       "0  322098  2017.0          8   74863.0  45.519861 -122.434111   \n",
       "1  344532  2019.0          4    4142.0  41.400000  -75.660000   \n",
       "2   13565  2013.0          4   61674.0  34.620000 -112.420000   \n",
       "3  334734  2017.0          6   26451.0  40.270000  -76.880000   \n",
       "4   36265  2019.0          4    4161.0  33.779214  -84.411811   \n",
       "\n",
       "   posting_weekday  posting_month  posting_year  condition_excellent  ...  \\\n",
       "0                3             11          2020                    0  ...   \n",
       "1                1             11          2020                    0  ...   \n",
       "2                3             11          2020                    0  ...   \n",
       "3                4             11          2020                    0  ...   \n",
       "4                1             12          2020                    0  ...   \n",
       "\n",
       "    d_wheel  d_white  d_window  d_wiper  d_without   d_won’t    d_work  \\\n",
       "0  0.067461      0.0       0.0      0.0   0.000000  0.000000  0.000000   \n",
       "1  0.000000      0.0       0.0      0.0   0.059981  0.039182  0.027457   \n",
       "2  0.000000      0.0       0.0      0.0   0.075885  0.049570  0.034738   \n",
       "3  0.000000      0.0       0.0      0.0   0.075588  0.049377  0.034602   \n",
       "4  0.000000      0.0       0.0      0.0   0.073911  0.048281  0.033834   \n",
       "\n",
       "   d_year  d_youdisclaimer  d_✅  \n",
       "0     0.0         0.000000  0.0  \n",
       "1     0.0         0.039394  0.0  \n",
       "2     0.0         0.049839  0.0  \n",
       "3     0.0         0.049645  0.0  \n",
       "4     0.0         0.048543  0.0  \n",
       "\n",
       "[5 rows x 796 columns]"
      ]
     },
     "execution_count": 35,
     "metadata": {},
     "output_type": "execute_result"
    }
   ],
   "source": [
    "X_train_tfidf.head()"
   ]
  },
  {
   "cell_type": "code",
   "execution_count": 36,
   "metadata": {},
   "outputs": [
    {
     "data": {
      "text/plain": [
       "d_✅                               0.0\n",
       "car_model_mitsubishi outlander    0.0\n",
       "car_model_mitsubishi lancer       0.0\n",
       "car_model_mitsubishi eclipse      0.0\n",
       "car_model_mini hardtop            0.0\n",
       "                                 ... \n",
       "d_easy                            0.0\n",
       "d_dual                            0.0\n",
       "d_driver                          0.0\n",
       "d_drive                           0.0\n",
       "index                             0.0\n",
       "Length: 796, dtype: float64"
      ]
     },
     "execution_count": 36,
     "metadata": {},
     "output_type": "execute_result"
    }
   ],
   "source": [
    "(X_test_tfidf.isna().mean()*100.0).sort_values(ascending=False)"
   ]
  },
  {
   "cell_type": "code",
   "execution_count": 37,
   "metadata": {},
   "outputs": [
    {
     "data": {
      "text/plain": [
       "d_✅                               0.0\n",
       "car_model_mitsubishi outlander    0.0\n",
       "car_model_mitsubishi lancer       0.0\n",
       "car_model_mitsubishi eclipse      0.0\n",
       "car_model_mini hardtop            0.0\n",
       "                                 ... \n",
       "d_easy                            0.0\n",
       "d_dual                            0.0\n",
       "d_driver                          0.0\n",
       "d_drive                           0.0\n",
       "index                             0.0\n",
       "Length: 796, dtype: float64"
      ]
     },
     "execution_count": 37,
     "metadata": {},
     "output_type": "execute_result"
    }
   ],
   "source": [
    "(X_test_tfidf.isna().mean()*100.0).sort_values(ascending=False)"
   ]
  },
  {
   "cell_type": "code",
   "execution_count": 39,
   "metadata": {},
   "outputs": [
    {
     "data": {
      "text/plain": [
       "d_✅                               0.0\n",
       "car_model_mitsubishi outlander    0.0\n",
       "car_model_mitsubishi lancer       0.0\n",
       "car_model_mitsubishi eclipse      0.0\n",
       "car_model_mini hardtop            0.0\n",
       "                                 ... \n",
       "d_easy                            0.0\n",
       "d_dual                            0.0\n",
       "d_driver                          0.0\n",
       "d_drive                           0.0\n",
       "index                             0.0\n",
       "Length: 796, dtype: float64"
      ]
     },
     "execution_count": 39,
     "metadata": {},
     "output_type": "execute_result"
    }
   ],
   "source": [
    "(X_val_tfidf.isna().mean()*100.0).sort_values(ascending=False)"
   ]
  },
  {
   "cell_type": "code",
   "execution_count": 40,
   "metadata": {},
   "outputs": [],
   "source": [
    "#Copying clean data for next notebook\n",
    "X_train_tfidf.to_csv('data/X_train_tfidf.csv') \n",
    "X_test_tfidf.to_csv('data/X_test_tfidf.csv') \n",
    "X_val_tfidf.to_csv('data/X_val_tfidf.csv') "
   ]
  }
 ],
 "metadata": {
  "kernelspec": {
   "display_name": "Python 3",
   "language": "python",
   "name": "python3"
  },
  "language_info": {
   "codemirror_mode": {
    "name": "ipython",
    "version": 3
   },
   "file_extension": ".py",
   "mimetype": "text/x-python",
   "name": "python",
   "nbconvert_exporter": "python",
   "pygments_lexer": "ipython3",
   "version": "3.8.5"
  }
 },
 "nbformat": 4,
 "nbformat_minor": 4
}
