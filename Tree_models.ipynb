{
 "cells": [
  {
   "cell_type": "code",
   "execution_count": 1,
   "metadata": {},
   "outputs": [],
   "source": [
    "import pandas as pd\n",
    "from sklearn.tree import DecisionTreeRegressor\n",
    "import pandas as pd #For data related tasks\n",
    "from sklearn.preprocessing import StandardScaler\n",
    "from sklearn.metrics import r2_score\n",
    "from sklearn import metrics\n",
    "import math \n",
    "from sklearn.metrics import mean_absolute_error\n",
    "from sklearn.metrics import mean_squared_error\n",
    "from math import sqrt\n",
    "import time\n",
    "from time import perf_counter\n",
    "import matplotlib.pyplot as plt\n",
    "import seaborn as sns\n",
    "color = sns.color_palette()\n",
    "from tempfile import mkdtemp\n",
    "%matplotlib inline\n",
    "from sklearn.pipeline import Pipeline\n",
    "from sklearn.model_selection import GridSearchCV\n",
    "from sklearn.model_selection import RandomizedSearchCV\n",
    "from sklearn.ensemble import RandomForestRegressor "
   ]
  },
  {
   "cell_type": "code",
   "execution_count": 2,
   "metadata": {},
   "outputs": [],
   "source": [
    "X_train = pd.read_csv('data/X_train.csv', index_col=0) \n",
    "X_val = pd.read_csv('data/X_val.csv', index_col=0) \n",
    "X_test = pd.read_csv('data/X_test.csv', index_col=0) \n",
    "y_train = pd.read_csv('data/y_train.csv', index_col=0) \n",
    "y_val = pd.read_csv('data/y_val.csv', index_col=0)\n",
    "y_test = pd.read_csv('data/y_test.csv', index_col=0)"
   ]
  },
  {
   "cell_type": "code",
   "execution_count": 3,
   "metadata": {},
   "outputs": [],
   "source": [
    "y_train = y_train.iloc[:, 0]\n",
    "y_val = y_val.iloc[:, 0]\n",
    "y_test = y_test.iloc[:, 0]"
   ]
  },
  {
   "cell_type": "code",
   "execution_count": 4,
   "metadata": {},
   "outputs": [],
   "source": [
    "X_train.drop(['description'], axis = 1, inplace = True)\n",
    "X_val.drop(['description'], axis = 1, inplace = True)\n",
    "X_test.drop(['description'], axis = 1, inplace = True)"
   ]
  },
  {
   "cell_type": "code",
   "execution_count": 5,
   "metadata": {},
   "outputs": [],
   "source": [
    "index = X_train.columns\n",
    "model_score = pd.DataFrame(columns=('r2', 'mae','rmse', 'mse', 'run_time' ))"
   ]
  },
  {
   "cell_type": "code",
   "execution_count": 6,
   "metadata": {},
   "outputs": [
    {
     "name": "stdout",
     "output_type": "stream",
     "text": [
      "X_train Shape: (204156, 350)\n",
      "y_train Shape: (204156,)\n",
      "X_test Shape: (63799, 350)\n",
      "y_test Shape: (63799,)\n",
      "X_val Shape: (51039, 350)\n",
      "y_val Shape: (51039,)\n"
     ]
    }
   ],
   "source": [
    "#analyzing shape to find if there any discrepancy before starting to model\n",
    "print(f'X_train Shape: {X_train.shape}')\n",
    "print(f'y_train Shape: {y_train.shape}')\n",
    "print(f'X_test Shape: {X_test.shape}') \n",
    "print(f'y_test Shape: {y_test.shape}') \n",
    "print(f'X_val Shape: {X_val.shape}') \n",
    "print(f'y_val Shape: {y_val.shape}')"
   ]
  },
  {
   "cell_type": "code",
   "execution_count": 7,
   "metadata": {},
   "outputs": [],
   "source": [
    "# Instantiate model & fit the DT\n",
    "t0 = perf_counter()\n",
    "dtr_model = DecisionTreeRegressor()\n",
    "dtr_model.fit(X_train, y_train)\n",
    "t1 = perf_counter()\n",
    "time_taken_dt = t1 - t0"
   ]
  },
  {
   "cell_type": "code",
   "execution_count": 8,
   "metadata": {},
   "outputs": [
    {
     "name": "stdout",
     "output_type": "stream",
     "text": [
      "Decision Tree Regressor R2 score for train set: 0.9996522273204056\n",
      "Decision Tree Regressor R2 score for val set:  0.8901142041703581\n",
      "Decision Tree Regressor MAE for val set: 1791.8294667261632\n",
      "Decision Tree Regressor RMSE for val set: 4212.110729919623\n",
      "Decision Tree Regressor MSE for val set: 17741876.80110402\n",
      "Model runtime: 0.2305328216666667\n"
     ]
    }
   ],
   "source": [
    "dtr_predict = dtr_model.predict(X_val)\n",
    "\n",
    "dtr_r2 = dtr_model.score(X_val,y_val)\n",
    "dtr_mse = mean_squared_error(y_val, dtr_predict)\n",
    "dtr_mae = mean_absolute_error(y_val, dtr_predict)\n",
    "dtr_rmse = sqrt(mean_squared_error(y_val, dtr_predict))\n",
    "\n",
    "#model_score = model_score.append(pd.DataFrame({'r2':[dtr_r2], 'mae':[dtr_mae],'rmse':[dtr_rmse], 'mse': [dtr_mse],\n",
    "#                                               'run_time':[(time_taken_dt)/60]} ,index = ['Decision Tree Regression']))\n",
    "\n",
    "# Evaluate\n",
    "print(f\"Decision Tree Regressor R2 score for train set: {dtr_model.score(X_train, y_train)}\")\n",
    "print(f\"Decision Tree Regressor R2 score for val set:  {dtr_model.score(X_val,y_val)}\")\n",
    "print(f\"Decision Tree Regressor MAE for val set: {dtr_mae}\")\n",
    "print(f\"Decision Tree Regressor RMSE for val set: {dtr_rmse}\" )\n",
    "print(f\"Decision Tree Regressor MSE for val set: {dtr_mse}\")\n",
    "print(f\"Model runtime: {time_taken_dt/60}\")"
   ]
  },
  {
   "cell_type": "markdown",
   "metadata": {},
   "source": [
    "Scoring Matrices\n",
    "\n",
    "Mean Absolute Error (MAE) is a measure of errors between paired observations. It is thus an arithmetic average of the absolute errors, which is th most important error rate for price prediction and we would give priorirty to this on R2 score\n",
    "R-Squared value or The Coefficient of Determination\n",
    "And for plain vanila Decision Tree model the error rate is 1791 and R2 on validation set is 0.89\n",
    "\n",
    "Other matices for error rate for understanding purpose of readers\n",
    "\n",
    "Mean Squared Error (MSE) - penalizing the model for larger magnitude errors (Another way to interpret MSE is, Variance of error values(How widely dispersed errors are)!)\n",
    "\n",
    "Root Mean Squared Error - RMSE is standard deviation of errors"
   ]
  },
  {
   "cell_type": "code",
   "execution_count": 9,
   "metadata": {},
   "outputs": [
    {
     "data": {
      "image/png": "[encoded data removed]",
      "text/plain": [
       "<Figure size 720x360 with 1 Axes>"
      ]
     },
     "metadata": {
      "needs_background": "light"
     },
     "output_type": "display_data"
    }
   ],
   "source": [
    "#Optimizing model to find max depth\n",
    "# (number of samples required to populate the tree doubles for each additional level the tree grows to. \n",
    "#  trying to find optimal max_depth to control the size of the tree for preventing overfitting.)\n",
    "\n",
    "#create some lists\n",
    "train_accs = []\n",
    "val_accs = []\n",
    "depth_value = list(range(1,25))\n",
    "\n",
    "\n",
    "# set up the loop\n",
    "for i in depth_value:\n",
    "    my_dt = DecisionTreeRegressor(max_depth=i)\n",
    "    my_dt.fit(X_train,y_train)\n",
    "    \n",
    "    # append to lists\n",
    "    train_accs.append(my_dt.score(X_train,y_train))\n",
    "    val_accs.append(my_dt.score(X_val,y_val))\n",
    "    \n",
    "\n",
    "plt.figure(figsize=(10,5)) # plot classifier results\n",
    "plt.plot(depth_value, train_accs, label='train', marker='.')\n",
    "plt.plot(depth_value, val_accs , label='val', marker='.')\n",
    "plt.legend()\n",
    "plt.xlabel('max depth')\n",
    "plt.ylabel('R2')\n",
    "plt.grid(True)\n",
    "plt.title('DecisionTree R2')\n",
    "plt.show()"
   ]
  },
  {
   "cell_type": "code",
   "execution_count": 10,
   "metadata": {},
   "outputs": [
    {
     "name": "stdout",
     "output_type": "stream",
     "text": [
      "Decision Tree Regressor max_depth 20 R2 score for train set: 0.9560945914076457\n",
      "Decision Tree Regressor max_depth 20 R2 score for val set:  0.8865744816487545\n",
      "Decision Tree Regressor max_depth 20 MAE for val set: 2242.965565738786\n",
      "Decision Tree Regressor max_depth 20 RMSE for val set: 4279.414826547483\n",
      "Decision Tree Regressor max_depth 20 MSE for val set: 18313391.25767443\n",
      "Decision Tree Regressor max_depth 20 Model runtime: 0.16634901666666668\n"
     ]
    }
   ],
   "source": [
    "#Fitting the model with optimal value of 20 as max_depth\n",
    "#Fit to the training data\n",
    "t0 = perf_counter()\n",
    "dtr20_model = DecisionTreeRegressor(max_depth=20)\n",
    "dtr20_model.fit(X_train, y_train)\n",
    "\n",
    "dtr20_predict = dtr20_model.predict(X_val)\n",
    "\n",
    "\n",
    "dtr20_r2 = dtr20_model.score(X_val,y_val)\n",
    "dtr20_mse = mean_squared_error(y_val, dtr20_predict)\n",
    "dtr20_mae = mean_absolute_error(y_val, dtr20_predict)\n",
    "dtr20_rmse = sqrt(mean_squared_error(y_val, dtr20_predict))\n",
    "t1 = perf_counter()\n",
    "time_taken = t1 - t0\n",
    "#model_score = model_score.append(pd.DataFrame({'r2':[dtr20_r2], 'mae':[dtr20_mae],'rmse':[dtr20_rmse], 'mse': [dtr20_mse],\n",
    "#                                               'run_time':[(time_taken)/60]} ,index = ['Decision Tree Regressor max_depth of 20']))\n",
    "\n",
    "\n",
    "# Evaluate\n",
    "print(f\"Decision Tree Regressor max_depth 20 R2 score for train set: {dtr20_model.score(X_train, y_train)}\")\n",
    "print(f\"Decision Tree Regressor max_depth 20 R2 score for val set:  {dtr20_model.score(X_val,y_val)}\")\n",
    "print(f\"Decision Tree Regressor max_depth 20 MAE for val set: {dtr20_mae}\")\n",
    "print(f\"Decision Tree Regressor max_depth 20 RMSE for val set: {dtr20_rmse}\" )\n",
    "print(f\"Decision Tree Regressor max_depth 20 MSE for val set: {dtr20_mse}\")\n",
    "print(f\"Decision Tree Regressor max_depth 20 Model runtime: {time_taken/60}\")"
   ]
  },
  {
   "cell_type": "markdown",
   "metadata": {},
   "source": [
    "The first parameter for decision tree model was to tune max_depth. This parameter indicates how deep we want our tree to be. As initially tree was deep, it means we were creating a large number of splits in the parameter space and capturing more information about underlying train data. Where we observed R2 score of 0.99 indicating overfitting in training data and out model was having  R2 score for val data which was higher difference. That resulted in low training error but a large val/testing error.\n",
    "\n",
    "On the other hand, if the tree was too shallow, we may run into underfitting, i.e. we would not have our tree learn enough information about the data and the accuracy of model stays low for both val/test and training samples. Hence, We fit a decision tree with depths ranging from 1 to 25 and plot the training and test.\n",
    "\n",
    "\n",
    "In above plt, we see that as the tree depth increases, our validation/test accuracy starts to stabilize after a depth of around 20. But with even greater depths, the training accuracy keeps on rising , as the model learns more information from the data , but this can not be mapped onto unseen data, hence the validation accuracy stays stable. Finding the sweet spot (max depth=20) in this case would be the first hyper parameter that we tuned. "
   ]
  },
  {
   "cell_type": "code",
   "execution_count": 11,
   "metadata": {},
   "outputs": [
    {
     "data": {
      "text/plain": [
       "<matplotlib.collections.PathCollection at 0x1eebe444100>"
      ]
     },
     "execution_count": 11,
     "metadata": {},
     "output_type": "execute_result"
    },
    {
     "data": {
      "image/png": "[encoded data removed]",
      "text/plain": [
       "<Figure size 1080x576 with 1 Axes>"
      ]
     },
     "metadata": {
      "needs_background": "light"
     },
     "output_type": "display_data"
    }
   ],
   "source": [
    "fig, ax = plt.subplots(figsize=(15,8))\n",
    "ax.set_title('Comparison between predicted prices and actual prices in val set, Decision Tree regression')\n",
    "plt.scatter(y_val, dtr20_predict)"
   ]
  },
  {
   "cell_type": "code",
   "execution_count": 12,
   "metadata": {},
   "outputs": [],
   "source": [
    "#setup directory to cache pipeline results\n",
    "cachedir=mkdtemp()"
   ]
  },
  {
   "cell_type": "code",
   "execution_count": 13,
   "metadata": {},
   "outputs": [],
   "source": [
    "#Decision Tree\n",
    "#selected max depth of 10 and now cross validation throuigh Grid Search via pipeline \n",
    "\n",
    "my_dt_pipeline = Pipeline(steps=[('model', DecisionTreeRegressor())], memory=cachedir)\n",
    "\n",
    "#parameter grid\n",
    "dt_param_grid = [\n",
    "    #Linear Regression\n",
    "    {'model':[DecisionTreeRegressor(max_depth=20)],\n",
    "     'model__min_samples_leaf': [2, 3, 4, 5],\n",
    "     'model__min_samples_split':[2,5,10,25],\n",
    "     'model__max_features':['auto', 'sqrt', 'log2'],\n",
    "     'model__random_state': [1]\n",
    "     }\n",
    "]\n",
    "dt_gs = GridSearchCV(estimator=my_dt_pipeline, param_grid=dt_param_grid, cv=5,n_jobs=-1, verbose=3)"
   ]
  },
  {
   "cell_type": "code",
   "execution_count": 14,
   "metadata": {},
   "outputs": [
    {
     "name": "stdout",
     "output_type": "stream",
     "text": [
      "Fitting 5 folds for each of 48 candidates, totalling 240 fits\n"
     ]
    },
    {
     "name": "stderr",
     "output_type": "stream",
     "text": [
      "[Parallel(n_jobs=-1)]: Using backend LokyBackend with 8 concurrent workers.\n",
      "[Parallel(n_jobs=-1)]: Done  16 tasks      | elapsed:  1.2min\n",
      "[Parallel(n_jobs=-1)]: Done 112 tasks      | elapsed:  5.0min\n",
      "[Parallel(n_jobs=-1)]: Done 240 out of 240 | elapsed:  6.4min finished\n"
     ]
    }
   ],
   "source": [
    "t0 = perf_counter()\n",
    "fitted_dt = dt_gs.fit(X_train, y_train)\n",
    "t1 = perf_counter()\n",
    "time_taken_dt = t1 - t0"
   ]
  },
  {
   "cell_type": "code",
   "execution_count": 38,
   "metadata": {},
   "outputs": [
    {
     "name": "stdout",
     "output_type": "stream",
     "text": [
      "Decision Tree optmized R2 score for train set: 0.9362022747262446\n",
      "Decision Tree optmized R2 score for val set:  0.8959287389137133\n",
      "Decision Tree optmized MAE for val set: 2319.8870796957217\n",
      "Decision Tree optmized RMSE for val set: 4099.155649422365\n",
      "Decision Tree optmized MSE for val set: 16803077.03819129\n",
      "Decision Tree optmized runtime: 6.553155911666667\n",
      "Decision Tree optmized Parameters: Pipeline(memory='C:\\\\Users\\\\zesha\\\\AppData\\\\Local\\\\Temp\\\\tmpv_qdzdn8',\n",
      "         steps=[('model',\n",
      "                 DecisionTreeRegressor(max_depth=20, max_features='auto',\n",
      "                                       min_samples_leaf=4, min_samples_split=10,\n",
      "                                       random_state=1))])\n"
     ]
    }
   ],
   "source": [
    "dt_predict = fitted_dt.predict(X_val)\n",
    "\n",
    "dt_r2 = dt_gs.score(X_val,y_val)\n",
    "dt_mse = mean_squared_error(y_val, dt_predict)\n",
    "dt_mae = mean_absolute_error(y_val, dt_predict)\n",
    "dt_rmse = sqrt(mean_squared_error(y_val, dt_predict))\n",
    "#t1 = perf_counter()\n",
    "#time_taken = t1 - t0\n",
    "#model_score = model_score.append(pd.DataFrame({'r2':[lr_r2], 'mae':[lr_mae],'rmse':[lr_rmse], 'mse': [lr_mse],\n",
    "                                              # 'run_time':[(time_taken_lr)/60],'best_parameters':[fitted_lr.best_estimator_]} ,index = ['Linear Regression']))\n",
    "\n",
    "\n",
    "# Evaluate\n",
    "print(f\"Decision Tree optmized R2 score for train set: {dt_gs.score(X_train, y_train)}\")\n",
    "print(f\"Decision Tree optmized R2 score for val set:  {dt_gs.score(X_val,y_val)}\")\n",
    "print(f\"Decision Tree optmized MAE for val set: {dt_mae}\")\n",
    "print(f\"Decision Tree optmized RMSE for val set: {dt_rmse}\" )\n",
    "print(f\"Decision Tree optmized MSE for val set: {dt_mse}\")\n",
    "print(f\"Decision Tree optmized runtime: {time_taken_dt/60}\")\n",
    "print(f\"Decision Tree optmized Parameters: {fitted_dt.best_estimator_}\")"
   ]
  },
  {
   "attachments": {
    "a51ba8ea-0d8e-4e17-ba71-efc61d8b4578.png": {
     "image/png": "[encoded data removed]"
    }
   },
   "cell_type": "markdown",
   "metadata": {},
   "source": [
    "### Random Forest \n",
    "\n",
    "Random forest is a type of supervised machine learning algorithm based on ensemble learning. Ensemble learning is a type of learning where you join different types of algorithms or same algorithm multiple times to form a more powerful prediction model. The random forest algorithm combines multiple algorithm of the same type i.e. multiple decision trees, resulting in a forest of trees, hence the name \"Random Forest\". \n",
    "\n",
    "\n",
    "Random Forest Regression in Python\n",
    "\n",
    "\n",
    "Every decision tree has high variance, but when we combine all of them together in parallel then the resultant variance is low as each decision tree gets perfectly trained on that particular sample data and hence the output doesn’t depend on one decision tree but multiple decision trees. For our regression the final output would be average of all decisoin tree which is part of Aggregation\n",
    "\n",
    "![image.png](attachment:a51ba8ea-0d8e-4e17-ba71-efc61d8b4578.png)\n"
   ]
  },
  {
   "cell_type": "markdown",
   "metadata": {},
   "source": [
    "Each Decision tree will do is take the average of all true y of each leaf (the node that doesn't have anymore splits) as the estimated y-hat for that particular path, so that when you predict your val/test dataset, each record from that test dataset will basically follow some path down the tree until it hits a leaf node, and the estimated y-hat for that record will be the average true y of all observations in that leaf node.\n",
    "\n",
    "A random forest is basically a collection of decision trees which use a subset of your training data to do the training. These trees are usually not as deep as a single decision tree model, which helps alleviate the overfitting symptoms of a single decision tree. The idea of a RF is that you're using many weak learners that can generalize your data well. Hence, less overfit.\n",
    "\n",
    "The R-squared metric is basically 1 - (SS_res / SS_tot). Breaking that formula down, you're basically looking at the sum of squared residuals and the sum of squared total. Therefore, you just have to know the true y values, the estimated y-hat values, and the mean of the true y values, y-bar."
   ]
  },
  {
   "cell_type": "code",
   "execution_count": 17,
   "metadata": {},
   "outputs": [],
   "source": [
    "from sklearn.ensemble import RandomForestRegressor "
   ]
  },
  {
   "cell_type": "code",
   "execution_count": 18,
   "metadata": {},
   "outputs": [
    {
     "name": "stdout",
     "output_type": "stream",
     "text": [
      "Random Forest Regressor R2 score for train set: 0.9908465724339516\n",
      "Random Forest Regressor R2 score for val set:  0.9395761929728107\n",
      "Random Forest Regressor MAE for val set: 1490.5240088458172\n",
      "Random Forest Regressor RMSE for val set: 3123.439103090496\n",
      "Random Forest Regressor MSE for val set: 9755871.830714762\n",
      "Random Forest Regressor Model runtime: 11.968785893333331\n"
     ]
    }
   ],
   "source": [
    "# create regressor object \n",
    "t0 = perf_counter()\n",
    "rfr_model = RandomForestRegressor() \n",
    "  \n",
    "# fit the regressor with x and y data \n",
    "rfr_model.fit(X_train, y_train)\n",
    "\n",
    "rfr_predict = rfr_model.predict(X_val)\n",
    "\n",
    "rfr_r2 = metrics.r2_score(y_val, rfr_predict)\n",
    "rfr_rmse = math.sqrt(metrics.mean_squared_error(y_val, rfr_predict))\n",
    "\n",
    "model_score = model_score.append(pd.DataFrame({'r2':[rfr_r2], 'rmse':[rfr_rmse]}, index = ['Random Forest Regressor']))\n",
    "\n",
    "\n",
    "rfr_r2 = rfr_model.score(X_val,y_val)\n",
    "rfr_mse = mean_squared_error(y_val, rfr_predict)\n",
    "rfr_mae = mean_absolute_error(y_val, rfr_predict)\n",
    "rfr_rmse = sqrt(mean_squared_error(y_val, rfr_predict))\n",
    "t1 = perf_counter()\n",
    "time_taken = t1 - t0\n",
    "model_score = model_score.append(pd.DataFrame({'r2':[rfr_r2], 'mae':[rfr_mae],'rmse':[rfr_rmse], 'mse': [rfr_mse],\n",
    "                                               'run_time':[(time_taken)/60]} ,index = ['Random Forest Regressor ']))\n",
    "\n",
    "\n",
    "\n",
    "# Evaluate\n",
    "print(f\"Random Forest Regressor R2 score for train set: {rfr_model.score(X_train, y_train)}\")\n",
    "print(f\"Random Forest Regressor R2 score for val set:  {rfr_model.score(X_val,y_val)}\")\n",
    "print(f\"Random Forest Regressor MAE for val set: {rfr_mae}\")\n",
    "print(f\"Random Forest Regressor RMSE for val set: {rfr_rmse}\" )\n",
    "print(f\"Random Forest Regressor MSE for val set: {rfr_mse}\")\n",
    "print(f\"Random Forest Regressor Model runtime: {time_taken/60}\")"
   ]
  },
  {
   "cell_type": "code",
   "execution_count": 19,
   "metadata": {},
   "outputs": [
    {
     "data": {
      "text/html": [
       "<div>\n",
       "<style scoped>\n",
       "    .dataframe tbody tr th:only-of-type {\n",
       "        vertical-align: middle;\n",
       "    }\n",
       "\n",
       "    .dataframe tbody tr th {\n",
       "        vertical-align: top;\n",
       "    }\n",
       "\n",
       "    .dataframe thead th {\n",
       "        text-align: right;\n",
       "    }\n",
       "</style>\n",
       "<table border=\"1\" class=\"dataframe\">\n",
       "  <thead>\n",
       "    <tr style=\"text-align: right;\">\n",
       "      <th></th>\n",
       "      <th>r2</th>\n",
       "      <th>mae</th>\n",
       "      <th>rmse</th>\n",
       "      <th>mse</th>\n",
       "      <th>run_time</th>\n",
       "    </tr>\n",
       "  </thead>\n",
       "  <tbody>\n",
       "    <tr>\n",
       "      <th>Random Forest Regressor</th>\n",
       "      <td>0.939576</td>\n",
       "      <td>NaN</td>\n",
       "      <td>3123.439103</td>\n",
       "      <td>NaN</td>\n",
       "      <td>NaN</td>\n",
       "    </tr>\n",
       "    <tr>\n",
       "      <th>Random Forest Regressor</th>\n",
       "      <td>0.939576</td>\n",
       "      <td>1490.524009</td>\n",
       "      <td>3123.439103</td>\n",
       "      <td>9.755872e+06</td>\n",
       "      <td>11.968786</td>\n",
       "    </tr>\n",
       "  </tbody>\n",
       "</table>\n",
       "</div>"
      ],
      "text/plain": [
       "                                r2          mae         rmse           mse  \\\n",
       "Random Forest Regressor   0.939576          NaN  3123.439103           NaN   \n",
       "Random Forest Regressor   0.939576  1490.524009  3123.439103  9.755872e+06   \n",
       "\n",
       "                           run_time  \n",
       "Random Forest Regressor         NaN  \n",
       "Random Forest Regressor   11.968786  "
      ]
     },
     "execution_count": 19,
     "metadata": {},
     "output_type": "execute_result"
    }
   ],
   "source": [
    "model_score"
   ]
  },
  {
   "cell_type": "markdown",
   "metadata": {},
   "source": [
    " can be observed that MAE and R2 scores immediately increase while implementing Random Forest model to 0.9461 and 1490 which is significant improvement"
   ]
  },
  {
   "cell_type": "code",
   "execution_count": 21,
   "metadata": {},
   "outputs": [],
   "source": [
    "importance = rfr_model.feature_importances_"
   ]
  },
  {
   "cell_type": "code",
   "execution_count": 22,
   "metadata": {},
   "outputs": [],
   "source": [
    "Coef_df = pd.DataFrame(importance, index=index.values, columns=['importance'])"
   ]
  },
  {
   "cell_type": "code",
   "execution_count": 23,
   "metadata": {},
   "outputs": [
    {
     "data": {
      "text/html": [
       "<div>\n",
       "<style scoped>\n",
       "    .dataframe tbody tr th:only-of-type {\n",
       "        vertical-align: middle;\n",
       "    }\n",
       "\n",
       "    .dataframe tbody tr th {\n",
       "        vertical-align: top;\n",
       "    }\n",
       "\n",
       "    .dataframe thead th {\n",
       "        text-align: right;\n",
       "    }\n",
       "</style>\n",
       "<table border=\"1\" class=\"dataframe\">\n",
       "  <thead>\n",
       "    <tr style=\"text-align: right;\">\n",
       "      <th></th>\n",
       "      <th>importance</th>\n",
       "    </tr>\n",
       "  </thead>\n",
       "  <tbody>\n",
       "    <tr>\n",
       "      <th>year</th>\n",
       "      <td>0.404016</td>\n",
       "    </tr>\n",
       "    <tr>\n",
       "      <th>cylinders</th>\n",
       "      <td>0.204793</td>\n",
       "    </tr>\n",
       "    <tr>\n",
       "      <th>odometer</th>\n",
       "      <td>0.099097</td>\n",
       "    </tr>\n",
       "    <tr>\n",
       "      <th>lat</th>\n",
       "      <td>0.016778</td>\n",
       "    </tr>\n",
       "    <tr>\n",
       "      <th>long</th>\n",
       "      <td>0.019486</td>\n",
       "    </tr>\n",
       "  </tbody>\n",
       "</table>\n",
       "</div>"
      ],
      "text/plain": [
       "           importance\n",
       "year         0.404016\n",
       "cylinders    0.204793\n",
       "odometer     0.099097\n",
       "lat          0.016778\n",
       "long         0.019486"
      ]
     },
     "execution_count": 23,
     "metadata": {},
     "output_type": "execute_result"
    }
   ],
   "source": [
    "Coef_df.head(5)"
   ]
  },
  {
   "cell_type": "code",
   "execution_count": 24,
   "metadata": {},
   "outputs": [
    {
     "data": {
      "text/html": [
       "<div>\n",
       "<style scoped>\n",
       "    .dataframe tbody tr th:only-of-type {\n",
       "        vertical-align: middle;\n",
       "    }\n",
       "\n",
       "    .dataframe tbody tr th {\n",
       "        vertical-align: top;\n",
       "    }\n",
       "\n",
       "    .dataframe thead th {\n",
       "        text-align: right;\n",
       "    }\n",
       "</style>\n",
       "<table border=\"1\" class=\"dataframe\">\n",
       "  <thead>\n",
       "    <tr style=\"text-align: right;\">\n",
       "      <th></th>\n",
       "      <th>importance</th>\n",
       "    </tr>\n",
       "  </thead>\n",
       "  <tbody>\n",
       "    <tr>\n",
       "      <th>year</th>\n",
       "      <td>0.404016</td>\n",
       "    </tr>\n",
       "    <tr>\n",
       "      <th>cylinders</th>\n",
       "      <td>0.204793</td>\n",
       "    </tr>\n",
       "    <tr>\n",
       "      <th>odometer</th>\n",
       "      <td>0.099097</td>\n",
       "    </tr>\n",
       "    <tr>\n",
       "      <th>fuel_diesel</th>\n",
       "      <td>0.054782</td>\n",
       "    </tr>\n",
       "    <tr>\n",
       "      <th>drive_fwd</th>\n",
       "      <td>0.036346</td>\n",
       "    </tr>\n",
       "    <tr>\n",
       "      <th>long</th>\n",
       "      <td>0.019486</td>\n",
       "    </tr>\n",
       "    <tr>\n",
       "      <th>drive_4wd</th>\n",
       "      <td>0.016821</td>\n",
       "    </tr>\n",
       "    <tr>\n",
       "      <th>lat</th>\n",
       "      <td>0.016778</td>\n",
       "    </tr>\n",
       "    <tr>\n",
       "      <th>car_model_chevrolet corvette</th>\n",
       "      <td>0.012034</td>\n",
       "    </tr>\n",
       "    <tr>\n",
       "      <th>car_model_jeep wrangler</th>\n",
       "      <td>0.006336</td>\n",
       "    </tr>\n",
       "    <tr>\n",
       "      <th>car_model_porsche 911</th>\n",
       "      <td>0.005364</td>\n",
       "    </tr>\n",
       "    <tr>\n",
       "      <th>car_model_ford f150</th>\n",
       "      <td>0.004652</td>\n",
       "    </tr>\n",
       "    <tr>\n",
       "      <th>posting_weekday</th>\n",
       "      <td>0.004348</td>\n",
       "    </tr>\n",
       "    <tr>\n",
       "      <th>condition_good</th>\n",
       "      <td>0.004038</td>\n",
       "    </tr>\n",
       "    <tr>\n",
       "      <th>type_SUV</th>\n",
       "      <td>0.003777</td>\n",
       "    </tr>\n",
       "    <tr>\n",
       "      <th>fuel_gas</th>\n",
       "      <td>0.002853</td>\n",
       "    </tr>\n",
       "    <tr>\n",
       "      <th>car_model_ram 1500</th>\n",
       "      <td>0.002742</td>\n",
       "    </tr>\n",
       "    <tr>\n",
       "      <th>car_model_toyota tacoma</th>\n",
       "      <td>0.002434</td>\n",
       "    </tr>\n",
       "    <tr>\n",
       "      <th>type_sedan</th>\n",
       "      <td>0.002359</td>\n",
       "    </tr>\n",
       "    <tr>\n",
       "      <th>type_pickup</th>\n",
       "      <td>0.002306</td>\n",
       "    </tr>\n",
       "  </tbody>\n",
       "</table>\n",
       "</div>"
      ],
      "text/plain": [
       "                              importance\n",
       "year                            0.404016\n",
       "cylinders                       0.204793\n",
       "odometer                        0.099097\n",
       "fuel_diesel                     0.054782\n",
       "drive_fwd                       0.036346\n",
       "long                            0.019486\n",
       "drive_4wd                       0.016821\n",
       "lat                             0.016778\n",
       "car_model_chevrolet corvette    0.012034\n",
       "car_model_jeep wrangler         0.006336\n",
       "car_model_porsche 911           0.005364\n",
       "car_model_ford f150             0.004652\n",
       "posting_weekday                 0.004348\n",
       "condition_good                  0.004038\n",
       "type_SUV                        0.003777\n",
       "fuel_gas                        0.002853\n",
       "car_model_ram 1500              0.002742\n",
       "car_model_toyota tacoma         0.002434\n",
       "type_sedan                      0.002359\n",
       "type_pickup                     0.002306"
      ]
     },
     "execution_count": 24,
     "metadata": {},
     "output_type": "execute_result"
    }
   ],
   "source": [
    "Coef_df.sort_values(by='importance', ascending=False).head(20)"
   ]
  },
  {
   "cell_type": "code",
   "execution_count": 25,
   "metadata": {},
   "outputs": [],
   "source": [
    "imp = Coef_df.sort_values(by='importance', ascending=False).head(20)"
   ]
  },
  {
   "cell_type": "code",
   "execution_count": 26,
   "metadata": {},
   "outputs": [
    {
     "data": {
      "image/png": "[encoded data removed]",
      "text/plain": [
       "<Figure size 1080x720 with 1 Axes>"
      ]
     },
     "metadata": {},
     "output_type": "display_data"
    }
   ],
   "source": [
    "import pandas as pd\n",
    "import matplotlib.pyplot as plt  \n",
    "\n",
    "\n",
    "plt.style.use('ggplot')\n",
    "ax = imp[['importance']].plot(kind='bar', title =\"Top 20 features\",figsize=(15,10),legend=True, fontsize=12)\n",
    "ax.set_xlabel(\"Features\",fontsize=12)\n",
    "ax.set_ylabel(\"Importance\",fontsize=12)\n",
    "plt.show()"
   ]
  },
  {
   "cell_type": "markdown",
   "metadata": {},
   "source": [
    "Top 20 important features are plotted above and it is pertinent to note that year of vehicle model is the single most important feture followed by number of cylinders and odometer reading. "
   ]
  },
  {
   "cell_type": "markdown",
   "metadata": {},
   "source": [
    "### Hyperparameter tuning using grid search with k-fold cross-validation\n",
    "we use a procedure called k-fold cross-validation where k is the number of folds (which is usually 5 or 10). \n",
    "\n",
    "In k-fold cross-validation,\n",
    " -  first divide the original dataset into the train set and test set using train_test_split() function.\n",
    " - The train set is further divided into k-number of folds.\n",
    " - The model is trained using k−1 of the folds and validated on the remaining fold.\n",
    " - The process is done k times and the performance measure is reported at each execution. Then it takes the average.\n",
    " - After finding the parameters, the final evaluation is done on the test set.\n",
    " - The following diagram illustrates the k-fold cross-validation procedure.\n",
    " \n",
    "\n",
    " \n",
    " Image from Scikit-learn official website: https://scikit-learn.org\n",
    " \n",
    " \n",
    " Tuning hyperparameters can be done using the Grid Search method along with k-fold cross-validation. The equivalent Scikit-learn function is GridSearchCV and Randomized Search. It finds all the hyperparameter combinations for a specified k number of folds. \n",
    " "
   ]
  },
  {
   "cell_type": "code",
   "execution_count": 27,
   "metadata": {},
   "outputs": [],
   "source": [
    "#GRID SEARCH\n",
    "\n",
    "my_rf_pipeline = Pipeline(steps=[('model', RandomForestRegressor())], memory=cachedir)\n",
    "\n",
    "#parameter grid\n",
    "rf_param_grid = [\n",
    "    #Linear Regression\n",
    "    {'model':[RandomForestRegressor()],\n",
    "     'model__max_depth': [15,20,25],\n",
    "     'model__min_samples_split':[2,5,10,25],\n",
    "     'model__max_features':['auto', 'sqrt', 'log2'],\n",
    "     'model__random_state': [1]\n",
    "     }\n",
    "]\n",
    "rf_gs = GridSearchCV(estimator=my_rf_pipeline, param_grid=rf_param_grid, cv=5,n_jobs=-1, verbose=3)"
   ]
  },
  {
   "cell_type": "code",
   "execution_count": 28,
   "metadata": {},
   "outputs": [
    {
     "name": "stdout",
     "output_type": "stream",
     "text": [
      "Fitting 5 folds for each of 36 candidates, totalling 180 fits\n"
     ]
    },
    {
     "name": "stderr",
     "output_type": "stream",
     "text": [
      "[Parallel(n_jobs=-1)]: Using backend LokyBackend with 8 concurrent workers.\n",
      "[Parallel(n_jobs=-1)]: Done  16 tasks      | elapsed: 45.8min\n",
      "[Parallel(n_jobs=-1)]: Done 112 tasks      | elapsed: 149.2min\n",
      "[Parallel(n_jobs=-1)]: Done 180 out of 180 | elapsed: 240.8min finished\n"
     ]
    }
   ],
   "source": [
    "t0 = perf_counter()\n",
    "fitted_rf = rf_gs.fit(X_train, y_train)\n",
    "t1 = perf_counter()\n",
    "time_taken_rf = t1 - t0"
   ]
  },
  {
   "cell_type": "code",
   "execution_count": 29,
   "metadata": {},
   "outputs": [
    {
     "name": "stdout",
     "output_type": "stream",
     "text": [
      "Decition Tree R2 score for train set: 0.9788102845061294\n",
      "Decition Tree R2 score for val set:  0.9337222696395087\n",
      "Decition Tree MAE for val set: 1737.9721790765445\n",
      "Decition Tree RMSE for val set: 3271.2430624511003\n",
      "Decition Tree MSE for val set: 10701031.173634455\n",
      "Decition Tree runtime: 252.26351026\n",
      "Decition Tree Parameters: Pipeline(memory='C:\\\\Users\\\\zesha\\\\AppData\\\\Local\\\\Temp\\\\tmpv_qdzdn8',\n",
      "         steps=[('model', RandomForestRegressor(max_depth=25, random_state=1))])\n"
     ]
    }
   ],
   "source": [
    "rf_predict = fitted_rf.predict(X_val)\n",
    "\n",
    "\n",
    "rf_r2 = rf_gs.score(X_val,y_val)\n",
    "rf_mse = mean_squared_error(y_val, rf_predict)\n",
    "rf_mae = mean_absolute_error(y_val, rf_predict)\n",
    "rf_rmse = sqrt(mean_squared_error(y_val, rf_predict))\n",
    "#t1 = perf_counter()\n",
    "#time_taken = t1 - t0\n",
    "#model_score = model_score.append(pd.DataFrame({'r2':[lr_r2], 'mae':[lr_mae],'rmse':[lr_rmse], 'mse': [lr_mse],\n",
    "                                              # 'run_time':[(time_taken_lr)/60],'best_parameters':[fitted_lr.best_estimator_]} ,index = ['Linear Regression']))\n",
    "\n",
    "\n",
    "# Evaluate\n",
    "print(f\"Random Forest optimized R2 score for train set: {rf_gs.score(X_train, y_train)}\")\n",
    "print(f\"Decition Tree R2 score for val set:  {rf_gs.score(X_val,y_val)}\")\n",
    "print(f\"Decition Tree MAE for val set: {rf_mae}\")\n",
    "print(f\"Decition Tree RMSE for val set: {rf_rmse}\" )\n",
    "print(f\"Decition Tree MSE for val set: {rf_mse}\")\n",
    "print(f\"Decition Tree runtime: {time_taken_rf/60}\")\n",
    "print(f\"Decition Tree Parameters: {fitted_rf.best_estimator_}\")"
   ]
  },
  {
   "cell_type": "code",
   "execution_count": 34,
   "metadata": {},
   "outputs": [],
   "source": [
    "#GRID SEARCH\n",
    "\n",
    "my_rf_pipeline = Pipeline(steps=[('model', RandomForestRegressor())], memory=cachedir)\n",
    "\n",
    "#parameter grid\n",
    "rf1_param_grid = [\n",
    "    #Linear Regression\n",
    "    {'model':[RandomForestRegressor()],\n",
    "     #'model__max_depth': [15,20,25],\n",
    "     'model__min_samples_split':[2,5,10,25],\n",
    "     'model__max_features':['auto', 'sqrt', 'log2'],\n",
    "     'model__n_estimators':[150,200,250],\n",
    "     'model__random_state': [1]\n",
    "     }\n",
    "]\n",
    "rf1_gs = GridSearchCV(estimator=my_rf_pipeline, param_grid=rf1_param_grid, cv=5,n_jobs=-1, verbose=3)"
   ]
  },
  {
   "cell_type": "code",
   "execution_count": 33,
   "metadata": {},
   "outputs": [
    {
     "data": {
      "text/plain": [
       "dict_keys(['memory', 'steps', 'verbose', 'model', 'model__bootstrap', 'model__ccp_alpha', 'model__criterion', 'model__max_depth', 'model__max_features', 'model__max_leaf_nodes', 'model__max_samples', 'model__min_impurity_decrease', 'model__min_impurity_split', 'model__min_samples_leaf', 'model__min_samples_split', 'model__min_weight_fraction_leaf', 'model__n_estimators', 'model__n_jobs', 'model__oob_score', 'model__random_state', 'model__verbose', 'model__warm_start'])"
      ]
     },
     "execution_count": 33,
     "metadata": {},
     "output_type": "execute_result"
    }
   ],
   "source": [
    "my_rf_pipeline.get_params().keys()"
   ]
  },
  {
   "cell_type": "code",
   "execution_count": 35,
   "metadata": {},
   "outputs": [
    {
     "name": "stdout",
     "output_type": "stream",
     "text": [
      "Fitting 5 folds for each of 36 candidates, totalling 180 fits\n"
     ]
    },
    {
     "name": "stderr",
     "output_type": "stream",
     "text": [
      "[Parallel(n_jobs=-1)]: Using backend LokyBackend with 8 concurrent workers.\n",
      "[Parallel(n_jobs=-1)]: Done  16 tasks      | elapsed: 129.7min\n",
      "[Parallel(n_jobs=-1)]: Done 112 tasks      | elapsed: 482.5min\n",
      "[Parallel(n_jobs=-1)]: Done 180 out of 180 | elapsed: 557.4min finished\n"
     ]
    }
   ],
   "source": [
    "t0 = perf_counter()\n",
    "fitted_rf1 = rf1_gs.fit(X_train, y_train)\n",
    "t1 = perf_counter()\n",
    "time_taken_rf1 = t1 - t0"
   ]
  },
  {
   "cell_type": "code",
   "execution_count": 37,
   "metadata": {},
   "outputs": [
    {
     "name": "stdout",
     "output_type": "stream",
     "text": [
      "Random Forest optimized R2 score for train set: 0.9910871068482754\n",
      "Random Forest optimized R2 score for val set:  0.9401967955307837\n",
      "Random Forest optimized MAE for val set: 1482.496644196783\n",
      "Random Forest optimized RMSE for val set: 3107.3575501520077\n",
      "Random Forest optimized MSE for val set: 9655670.944486687\n",
      "Random Forest optimized runtime: 587.4520615433335\n",
      "Random Forest optimized Parameters: Pipeline(memory='C:\\\\Users\\\\zesha\\\\AppData\\\\Local\\\\Temp\\\\tmpv_qdzdn8',\n",
      "         steps=[('model',\n",
      "                 RandomForestRegressor(n_estimators=250, random_state=1))])\n"
     ]
    }
   ],
   "source": [
    "rf1_predict = fitted_rf1.predict(X_val)\n",
    "\n",
    "\n",
    "rf1_r2 = rf_gs.score(X_val,y_val)\n",
    "rf1_mse = mean_squared_error(y_val, rf1_predict)\n",
    "rf1_mae = mean_absolute_error(y_val, rf1_predict)\n",
    "rf1_rmse = sqrt(mean_squared_error(y_val, rf1_predict))\n",
    "#t1 = perf_counter()\n",
    "#time_taken = t1 - t0\n",
    "#model_score = model_score.append(pd.DataFrame({'r2':[lr_r2], 'mae':[lr_mae],'rmse':[lr_rmse], 'mse': [lr_mse],\n",
    "                                              # 'run_time':[(time_taken_lr)/60],'best_parameters':[fitted_lr.best_estimator_]} ,index = ['Linear Regression']))\n",
    "\n",
    "\n",
    "# Evaluate\n",
    "print(f\"Random Forest optimized R2 score for train set: {rf1_gs.score(X_train, y_train)}\")\n",
    "print(f\"Random Forest optimized R2 score for val set:  {rf1_gs.score(X_val,y_val)}\")\n",
    "print(f\"Random Forest optimized MAE for val set: {rf1_mae}\")\n",
    "print(f\"Random Forest optimized RMSE for val set: {rf1_rmse}\" )\n",
    "print(f\"Random Forest optimized MSE for val set: {rf1_mse}\")\n",
    "print(f\"Random Forest optimized runtime: {time_taken_rf1/60}\")\n",
    "print(f\"Random Forest optimized Parameters: {fitted_rf1.best_estimator_}\")"
   ]
  },
  {
   "cell_type": "markdown",
   "metadata": {},
   "source": [
    "Hyper paramter optimized for Random Forest are n_estimators=250\n",
    "\n",
    "And we found that val set resulted in R2 and MAE values of 0.940 and 1482 which though are better then vanilla random forest model. We also continued modelling Natural language processed data for which we found the results to be slightly better then \n"
   ]
  },
  {
   "cell_type": "code",
   "execution_count": null,
   "metadata": {},
   "outputs": [],
   "source": []
  },
  {
   "cell_type": "code",
   "execution_count": null,
   "metadata": {},
   "outputs": [],
   "source": []
  },
  {
   "cell_type": "code",
   "execution_count": null,
   "metadata": {},
   "outputs": [],
   "source": [
    "#model_score.to_csv('data/model_scores.csv', mode='a', index=False, header=False)"
   ]
  },
  {
   "cell_type": "code",
   "execution_count": null,
   "metadata": {},
   "outputs": [],
   "source": [
    "#imp.to_csv('data/imp_features.csv')"
   ]
  },
  {
   "cell_type": "code",
   "execution_count": null,
   "metadata": {},
   "outputs": [],
   "source": []
  }
 ],
 "metadata": {
  "kernelspec": {
   "display_name": "Python 3",
   "language": "python",
   "name": "python3"
  },
  "language_info": {
   "codemirror_mode": {
    "name": "ipython",
    "version": 3
   },
   "file_extension": ".py",
   "mimetype": "text/x-python",
   "name": "python",
   "nbconvert_exporter": "python",
   "pygments_lexer": "ipython3",
   "version": "3.8.5"
  }
 },
 "nbformat": 4,
 "nbformat_minor": 4
}
