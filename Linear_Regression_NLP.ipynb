{
 "cells": [
  {
   "cell_type": "code",
   "execution_count": 14,
   "metadata": {},
   "outputs": [],
   "source": [
    "import pandas as pd\n",
    "import time\n",
    "from time import perf_counter\n",
    "import sklearn\n",
    "from sklearn.linear_model import LinearRegression\n",
    "from sklearn.metrics import r2_score\n",
    "from sklearn import metrics\n",
    "import math \n",
    "from sklearn.metrics import mean_absolute_error\n",
    "from sklearn.metrics import mean_squared_error\n",
    "from math import sqrt"
   ]
  },
  {
   "cell_type": "code",
   "execution_count": 3,
   "metadata": {},
   "outputs": [],
   "source": [
    "X_train = pd.read_csv('data/X_train_tfidf.csv', index_col=0) \n",
    "X_test = pd.read_csv('data/X_test_tfidf.csv', index_col=0) \n",
    "X_val = pd.read_csv('data/X_val_tfidf.csv', index_col=0) \n",
    "y_train = pd.read_csv('data/y_train.csv', index_col=0) \n",
    "y_test = pd.read_csv('data/y_test.csv', index_col=0)\n",
    "y_val = pd.read_csv('data/y_val.csv', index_col=0)"
   ]
  },
  {
   "cell_type": "code",
   "execution_count": 4,
   "metadata": {},
   "outputs": [],
   "source": [
    "y_train = y_train.iloc[:, 0]\n",
    "y_val = y_val.iloc[:, 0]\n",
    "y_test = y_test.iloc[:, 0]"
   ]
  },
  {
   "cell_type": "code",
   "execution_count": 5,
   "metadata": {},
   "outputs": [
    {
     "data": {
      "text/html": [
       "<div>\n",
       "<style scoped>\n",
       "    .dataframe tbody tr th:only-of-type {\n",
       "        vertical-align: middle;\n",
       "    }\n",
       "\n",
       "    .dataframe tbody tr th {\n",
       "        vertical-align: top;\n",
       "    }\n",
       "\n",
       "    .dataframe thead th {\n",
       "        text-align: right;\n",
       "    }\n",
       "</style>\n",
       "<table border=\"1\" class=\"dataframe\">\n",
       "  <thead>\n",
       "    <tr style=\"text-align: right;\">\n",
       "      <th></th>\n",
       "      <th>index</th>\n",
       "      <th>year</th>\n",
       "      <th>cylinders</th>\n",
       "      <th>odometer</th>\n",
       "      <th>lat</th>\n",
       "      <th>long</th>\n",
       "      <th>posting_weekday</th>\n",
       "      <th>posting_month</th>\n",
       "      <th>posting_year</th>\n",
       "      <th>condition_excellent</th>\n",
       "      <th>...</th>\n",
       "      <th>d_wheel</th>\n",
       "      <th>d_white</th>\n",
       "      <th>d_window</th>\n",
       "      <th>d_wiper</th>\n",
       "      <th>d_without</th>\n",
       "      <th>d_won’t</th>\n",
       "      <th>d_work</th>\n",
       "      <th>d_year</th>\n",
       "      <th>d_youdisclaimer</th>\n",
       "      <th>d_✅</th>\n",
       "    </tr>\n",
       "  </thead>\n",
       "  <tbody>\n",
       "    <tr>\n",
       "      <th>0</th>\n",
       "      <td>322098</td>\n",
       "      <td>2017.0</td>\n",
       "      <td>8</td>\n",
       "      <td>74863.0</td>\n",
       "      <td>45.519861</td>\n",
       "      <td>-122.434111</td>\n",
       "      <td>3</td>\n",
       "      <td>11</td>\n",
       "      <td>2020</td>\n",
       "      <td>0</td>\n",
       "      <td>...</td>\n",
       "      <td>0.067461</td>\n",
       "      <td>0.0</td>\n",
       "      <td>0.0</td>\n",
       "      <td>0.0</td>\n",
       "      <td>0.000000</td>\n",
       "      <td>0.000000</td>\n",
       "      <td>0.000000</td>\n",
       "      <td>0.0</td>\n",
       "      <td>0.000000</td>\n",
       "      <td>0.0</td>\n",
       "    </tr>\n",
       "    <tr>\n",
       "      <th>1</th>\n",
       "      <td>344532</td>\n",
       "      <td>2019.0</td>\n",
       "      <td>4</td>\n",
       "      <td>4142.0</td>\n",
       "      <td>41.400000</td>\n",
       "      <td>-75.660000</td>\n",
       "      <td>1</td>\n",
       "      <td>11</td>\n",
       "      <td>2020</td>\n",
       "      <td>0</td>\n",
       "      <td>...</td>\n",
       "      <td>0.000000</td>\n",
       "      <td>0.0</td>\n",
       "      <td>0.0</td>\n",
       "      <td>0.0</td>\n",
       "      <td>0.059981</td>\n",
       "      <td>0.039182</td>\n",
       "      <td>0.027457</td>\n",
       "      <td>0.0</td>\n",
       "      <td>0.039394</td>\n",
       "      <td>0.0</td>\n",
       "    </tr>\n",
       "    <tr>\n",
       "      <th>2</th>\n",
       "      <td>13565</td>\n",
       "      <td>2013.0</td>\n",
       "      <td>4</td>\n",
       "      <td>61674.0</td>\n",
       "      <td>34.620000</td>\n",
       "      <td>-112.420000</td>\n",
       "      <td>3</td>\n",
       "      <td>11</td>\n",
       "      <td>2020</td>\n",
       "      <td>0</td>\n",
       "      <td>...</td>\n",
       "      <td>0.000000</td>\n",
       "      <td>0.0</td>\n",
       "      <td>0.0</td>\n",
       "      <td>0.0</td>\n",
       "      <td>0.075885</td>\n",
       "      <td>0.049570</td>\n",
       "      <td>0.034738</td>\n",
       "      <td>0.0</td>\n",
       "      <td>0.049839</td>\n",
       "      <td>0.0</td>\n",
       "    </tr>\n",
       "    <tr>\n",
       "      <th>3</th>\n",
       "      <td>334734</td>\n",
       "      <td>2017.0</td>\n",
       "      <td>6</td>\n",
       "      <td>26451.0</td>\n",
       "      <td>40.270000</td>\n",
       "      <td>-76.880000</td>\n",
       "      <td>4</td>\n",
       "      <td>11</td>\n",
       "      <td>2020</td>\n",
       "      <td>0</td>\n",
       "      <td>...</td>\n",
       "      <td>0.000000</td>\n",
       "      <td>0.0</td>\n",
       "      <td>0.0</td>\n",
       "      <td>0.0</td>\n",
       "      <td>0.075588</td>\n",
       "      <td>0.049377</td>\n",
       "      <td>0.034602</td>\n",
       "      <td>0.0</td>\n",
       "      <td>0.049645</td>\n",
       "      <td>0.0</td>\n",
       "    </tr>\n",
       "    <tr>\n",
       "      <th>4</th>\n",
       "      <td>36265</td>\n",
       "      <td>2019.0</td>\n",
       "      <td>4</td>\n",
       "      <td>4161.0</td>\n",
       "      <td>33.779214</td>\n",
       "      <td>-84.411811</td>\n",
       "      <td>1</td>\n",
       "      <td>12</td>\n",
       "      <td>2020</td>\n",
       "      <td>0</td>\n",
       "      <td>...</td>\n",
       "      <td>0.000000</td>\n",
       "      <td>0.0</td>\n",
       "      <td>0.0</td>\n",
       "      <td>0.0</td>\n",
       "      <td>0.073911</td>\n",
       "      <td>0.048281</td>\n",
       "      <td>0.033834</td>\n",
       "      <td>0.0</td>\n",
       "      <td>0.048543</td>\n",
       "      <td>0.0</td>\n",
       "    </tr>\n",
       "  </tbody>\n",
       "</table>\n",
       "<p>5 rows × 796 columns</p>\n",
       "</div>"
      ],
      "text/plain": [
       "    index    year  cylinders  odometer        lat        long  \\\n",
       "0  322098  2017.0          8   74863.0  45.519861 -122.434111   \n",
       "1  344532  2019.0          4    4142.0  41.400000  -75.660000   \n",
       "2   13565  2013.0          4   61674.0  34.620000 -112.420000   \n",
       "3  334734  2017.0          6   26451.0  40.270000  -76.880000   \n",
       "4   36265  2019.0          4    4161.0  33.779214  -84.411811   \n",
       "\n",
       "   posting_weekday  posting_month  posting_year  condition_excellent  ...  \\\n",
       "0                3             11          2020                    0  ...   \n",
       "1                1             11          2020                    0  ...   \n",
       "2                3             11          2020                    0  ...   \n",
       "3                4             11          2020                    0  ...   \n",
       "4                1             12          2020                    0  ...   \n",
       "\n",
       "    d_wheel  d_white  d_window  d_wiper  d_without   d_won’t    d_work  \\\n",
       "0  0.067461      0.0       0.0      0.0   0.000000  0.000000  0.000000   \n",
       "1  0.000000      0.0       0.0      0.0   0.059981  0.039182  0.027457   \n",
       "2  0.000000      0.0       0.0      0.0   0.075885  0.049570  0.034738   \n",
       "3  0.000000      0.0       0.0      0.0   0.075588  0.049377  0.034602   \n",
       "4  0.000000      0.0       0.0      0.0   0.073911  0.048281  0.033834   \n",
       "\n",
       "   d_year  d_youdisclaimer  d_✅  \n",
       "0     0.0         0.000000  0.0  \n",
       "1     0.0         0.039394  0.0  \n",
       "2     0.0         0.049839  0.0  \n",
       "3     0.0         0.049645  0.0  \n",
       "4     0.0         0.048543  0.0  \n",
       "\n",
       "[5 rows x 796 columns]"
      ]
     },
     "execution_count": 5,
     "metadata": {},
     "output_type": "execute_result"
    }
   ],
   "source": [
    "X_train.head()"
   ]
  },
  {
   "cell_type": "code",
   "execution_count": 6,
   "metadata": {},
   "outputs": [
    {
     "data": {
      "text/plain": [
       "322098    61900\n",
       "344532    17990\n",
       "13565     13590\n",
       "334734    30990\n",
       "36265     33990\n",
       "Name: price, dtype: int64"
      ]
     },
     "execution_count": 6,
     "metadata": {},
     "output_type": "execute_result"
    }
   ],
   "source": [
    "y_train.head()"
   ]
  },
  {
   "cell_type": "code",
   "execution_count": 7,
   "metadata": {},
   "outputs": [],
   "source": [
    "#dropping description column\n",
    "X_train.drop(['index'], axis = 1, inplace = True)\n",
    "X_val.drop(['index'], axis = 1, inplace = True)\n",
    "X_test.drop(['index'], axis = 1, inplace = True)"
   ]
  },
  {
   "cell_type": "code",
   "execution_count": 82,
   "metadata": {},
   "outputs": [
    {
     "ename": "AttributeError",
     "evalue": "'numpy.ndarray' object has no attribute 'columns'",
     "output_type": "error",
     "traceback": [
      "\u001b[1;31m---------------------------------------------------------------------------\u001b[0m",
      "\u001b[1;31mAttributeError\u001b[0m                            Traceback (most recent call last)",
      "\u001b[1;32m<ipython-input-82-51d469bd3b63>\u001b[0m in \u001b[0;36m<module>\u001b[1;34m\u001b[0m\n\u001b[1;32m----> 1\u001b[1;33m \u001b[0mindex\u001b[0m \u001b[1;33m=\u001b[0m \u001b[0mX_train\u001b[0m\u001b[1;33m.\u001b[0m\u001b[0mcolumns\u001b[0m\u001b[1;33m\u001b[0m\u001b[1;33m\u001b[0m\u001b[0m\n\u001b[0m\u001b[0;32m      2\u001b[0m \u001b[0mmodel_score\u001b[0m \u001b[1;33m=\u001b[0m \u001b[0mpd\u001b[0m\u001b[1;33m.\u001b[0m\u001b[0mDataFrame\u001b[0m\u001b[1;33m(\u001b[0m\u001b[0mcolumns\u001b[0m\u001b[1;33m=\u001b[0m\u001b[1;33m(\u001b[0m\u001b[1;34m'r2'\u001b[0m\u001b[1;33m,\u001b[0m \u001b[1;34m'mae'\u001b[0m\u001b[1;33m,\u001b[0m\u001b[1;34m'rmse'\u001b[0m\u001b[1;33m,\u001b[0m \u001b[1;34m'mse'\u001b[0m\u001b[1;33m,\u001b[0m \u001b[1;34m'run_time'\u001b[0m \u001b[1;33m)\u001b[0m\u001b[1;33m)\u001b[0m\u001b[1;33m\u001b[0m\u001b[1;33m\u001b[0m\u001b[0m\n",
      "\u001b[1;31mAttributeError\u001b[0m: 'numpy.ndarray' object has no attribute 'columns'"
     ]
    }
   ],
   "source": [
    "index = X_train.columns\n",
    "model_score = pd.DataFrame(columns=('r2', 'mae','rmse', 'mse', 'run_time' ))"
   ]
  },
  {
   "cell_type": "code",
   "execution_count": 80,
   "metadata": {},
   "outputs": [
    {
     "name": "stdout",
     "output_type": "stream",
     "text": [
      "X_train Shape: (204156, 795)\n",
      "y_train Shape: (204156,)\n",
      "X_test Shape: (63799, 795)\n",
      "y_test Shape: (63799,)\n",
      "X_val Shape: (51039, 795)\n",
      "y_val Shape: (51039,)\n"
     ]
    }
   ],
   "source": [
    "#analyzing shape to find if there any discrepancy before starting to model\n",
    "print(f'X_train Shape: {X_train.shape}')\n",
    "print(f'y_train Shape: {y_train.shape}')\n",
    "print(f'X_test Shape: {X_test.shape}') \n",
    "print(f'y_test Shape: {y_test.shape}') \n",
    "print(f'X_val Shape: {X_val.shape}') \n",
    "print(f'y_val Shape: {y_val.shape}')"
   ]
  },
  {
   "cell_type": "code",
   "execution_count": 10,
   "metadata": {},
   "outputs": [],
   "source": [
    "from sklearn.preprocessing import StandardScaler\n",
    "# Scaling data\n",
    "scaler = StandardScaler()\n",
    "scaler.fit(X_train)\n",
    "X_train = scaler.transform(X_train)\n",
    "X_test = scaler.transform(X_test)\n",
    "X_val = scaler.transform(X_val)"
   ]
  },
  {
   "cell_type": "code",
   "execution_count": 11,
   "metadata": {},
   "outputs": [],
   "source": [
    "import sklearn\n",
    "from sklearn.linear_model import LinearRegression"
   ]
  },
  {
   "cell_type": "code",
   "execution_count": 12,
   "metadata": {},
   "outputs": [],
   "source": [
    "from sklearn.metrics import r2_score\n",
    "from sklearn import metrics\n",
    "import math "
   ]
  },
  {
   "cell_type": "code",
   "execution_count": 84,
   "metadata": {},
   "outputs": [
    {
     "name": "stdout",
     "output_type": "stream",
     "text": [
      "Linear Regression R2 score for train set: 0.8237887198028895\n",
      "Linear Regression R2 score for val set:  -4.2444169250460365e+17\n",
      "Linear Regression MAE for val set: 36642659203.09941\n",
      "Linear Regression RMSE for val set: 8278240120885.983\n",
      "Linear Regression MSE for val set: 6.852925949904639e+25\n",
      "Linear Regression runtime: 0.18272054499999893\n"
     ]
    }
   ],
   "source": [
    "t0 = perf_counter()\n",
    "lr_model = LinearRegression()\n",
    "lr_model.fit(X_train,y_train)\n",
    "lr_predict = lr_model.predict(X_val)\n",
    "\n",
    "\n",
    "lr_r2 = lr_model.score(X_val,y_val)\n",
    "lr_mse = mean_squared_error(y_val, lr_predict)\n",
    "lr_mae = mean_absolute_error(y_val, lr_predict)\n",
    "lr_rmse = sqrt(mean_squared_error(y_val, lr_predict))\n",
    "t1 = perf_counter()\n",
    "time_taken = t1 - t0\n",
    "model_score = model_score.append(pd.DataFrame({'r2':[lr_r2], 'mae':[lr_mae],'rmse':[lr_rmse], 'mse': [lr_mse],\n",
    "                                               'run_time':[(time_taken)/60]} ,index = ['Linear Regression tf-idf']))\n",
    "\n",
    "\n",
    "# Evaluate\n",
    "print(f\"Linear Regression R2 score for train set: {lr_model.score(X_train, y_train)}\")\n",
    "print(f\"Linear Regression R2 score for val set:  {lr_model.score(X_val,y_val)}\")\n",
    "print(f\"Linear Regression MAE for val set: {lr_mae}\")\n",
    "print(f\"Linear Regression RMSE for val set: {lr_rmse}\" )\n",
    "print(f\"Linear Regression MSE for val set: {lr_mse}\")\n",
    "print(f\"Linear Regression runtime: {time_taken/60}\")"
   ]
  },
  {
   "cell_type": "code",
   "execution_count": 16,
   "metadata": {},
   "outputs": [],
   "source": [
    "import numpy as np \n",
    "import matplotlib.pyplot as plt\n",
    "import seaborn as sns\n",
    "color = sns.color_palette()\n",
    "%matplotlib inline"
   ]
  },
  {
   "cell_type": "code",
   "execution_count": 17,
   "metadata": {},
   "outputs": [
    {
     "data": {
      "text/plain": [
       "<matplotlib.collections.PathCollection at 0x1a2c9c6fdc0>"
      ]
     },
     "execution_count": 17,
     "metadata": {},
     "output_type": "execute_result"
    },
    {
     "data": {
      "image/png": "[encoded data removed]",
      "text/plain": [
       "<Figure size 1080x576 with 1 Axes>"
      ]
     },
     "metadata": {
      "needs_background": "light"
     },
     "output_type": "display_data"
    }
   ],
   "source": [
    "fig, ax = plt.subplots(figsize=(15,8))\n",
    "ax.set_title('Comparison between predicted prices and actual prices in val set, linear regrssion')\n",
    "plt.scatter(y_val, lr_predict)"
   ]
  },
  {
   "cell_type": "code",
   "execution_count": 18,
   "metadata": {},
   "outputs": [
    {
     "data": {
      "text/plain": [
       "<bound method BaseEstimator.get_params of LinearRegression()>"
      ]
     },
     "execution_count": 18,
     "metadata": {},
     "output_type": "execute_result"
    }
   ],
   "source": [
    "lr_model.get_params"
   ]
  },
  {
   "cell_type": "code",
   "execution_count": 19,
   "metadata": {},
   "outputs": [
    {
     "data": {
      "text/plain": [
       "{'copy_X': True, 'fit_intercept': True, 'n_jobs': None, 'normalize': False}"
      ]
     },
     "execution_count": 19,
     "metadata": {},
     "output_type": "execute_result"
    }
   ],
   "source": [
    "lr_model.get_params()"
   ]
  },
  {
   "cell_type": "code",
   "execution_count": 20,
   "metadata": {},
   "outputs": [],
   "source": [
    "from sklearn.model_selection import GridSearchCV\n",
    "from sklearn.model_selection import RandomizedSearchCV"
   ]
  },
  {
   "cell_type": "code",
   "execution_count": 22,
   "metadata": {},
   "outputs": [],
   "source": [
    "from tempfile import mkdtemp\n",
    "from sklearn.pipeline import Pipeline\n",
    "cachedir=mkdtemp()\n",
    "\n",
    "my_pipeline = Pipeline(steps=[('model', LinearRegression())], memory=cachedir )"
   ]
  },
  {
   "cell_type": "code",
   "execution_count": 23,
   "metadata": {},
   "outputs": [
    {
     "data": {
      "text/plain": [
       "dict_keys(['memory', 'steps', 'verbose', 'model', 'model__copy_X', 'model__fit_intercept', 'model__n_jobs', 'model__normalize'])"
      ]
     },
     "execution_count": 23,
     "metadata": {},
     "output_type": "execute_result"
    }
   ],
   "source": [
    "estimator=my_pipeline\n",
    "estimator.get_params().keys()"
   ]
  },
  {
   "cell_type": "code",
   "execution_count": 24,
   "metadata": {},
   "outputs": [],
   "source": [
    "lr_params = {\"model__fit_intercept\": [True, False],\n",
    "             \"model__copy_X\":[True, False]\n",
    "             }"
   ]
  },
  {
   "cell_type": "code",
   "execution_count": 25,
   "metadata": {},
   "outputs": [],
   "source": [
    "rs=RandomizedSearchCV(estimator, lr_params, cv=5, n_jobs=-1, verbose=20, n_iter=100)\n",
    "gs=GridSearchCV(estimator, lr_params, cv=5, n_jobs=-1, verbose=20)"
   ]
  },
  {
   "cell_type": "code",
   "execution_count": 26,
   "metadata": {},
   "outputs": [
    {
     "name": "stderr",
     "output_type": "stream",
     "text": [
      "C:\\Users\\zesha\\anaconda3\\lib\\site-packages\\sklearn\\model_selection\\_search.py:278: UserWarning: The total space of parameters 4 is smaller than n_iter=100. Running 4 iterations. For exhaustive searches, use GridSearchCV.\n",
      "  warnings.warn(\n",
      "[Parallel(n_jobs=-1)]: Using backend LokyBackend with 8 concurrent workers.\n"
     ]
    },
    {
     "name": "stdout",
     "output_type": "stream",
     "text": [
      "Fitting 5 folds for each of 4 candidates, totalling 20 fits\n"
     ]
    },
    {
     "name": "stderr",
     "output_type": "stream",
     "text": [
      "[Parallel(n_jobs=-1)]: Done   1 tasks      | elapsed:  5.4min\n",
      "[Parallel(n_jobs=-1)]: Done   2 tasks      | elapsed:  5.6min\n",
      "[Parallel(n_jobs=-1)]: Done   3 tasks      | elapsed:  5.9min\n",
      "[Parallel(n_jobs=-1)]: Done   4 tasks      | elapsed:  6.6min\n",
      "[Parallel(n_jobs=-1)]: Done   5 tasks      | elapsed:  6.6min\n",
      "[Parallel(n_jobs=-1)]: Done   7 out of  20 | elapsed:  7.0min remaining: 13.1min\n",
      "[Parallel(n_jobs=-1)]: Done   9 out of  20 | elapsed:  7.1min remaining:  8.6min\n",
      "[Parallel(n_jobs=-1)]: Done  11 out of  20 | elapsed:  7.6min remaining:  6.2min\n",
      "[Parallel(n_jobs=-1)]: Done  13 out of  20 | elapsed:  8.4min remaining:  4.5min\n",
      "[Parallel(n_jobs=-1)]: Done  15 out of  20 | elapsed:  8.6min remaining:  2.9min\n",
      "[Parallel(n_jobs=-1)]: Done  17 out of  20 | elapsed:  8.9min remaining:  1.6min\n",
      "[Parallel(n_jobs=-1)]: Done  20 out of  20 | elapsed:  9.1min finished\n"
     ]
    }
   ],
   "source": [
    "fitted_rs=rs.fit(X_train,y_train)"
   ]
  },
  {
   "cell_type": "code",
   "execution_count": 27,
   "metadata": {},
   "outputs": [
    {
     "data": {
      "text/plain": [
       "Pipeline(memory='C:\\\\Users\\\\zesha\\\\AppData\\\\Local\\\\Temp\\\\tmpgcyy8_pw',\n",
       "         steps=[('model', LinearRegression(fit_intercept=False))])"
      ]
     },
     "execution_count": 27,
     "metadata": {},
     "output_type": "execute_result"
    }
   ],
   "source": [
    "fitted_rs.best_estimator_"
   ]
  },
  {
   "cell_type": "code",
   "execution_count": 28,
   "metadata": {},
   "outputs": [
    {
     "name": "stdout",
     "output_type": "stream",
     "text": [
      "Randomized Search CV with k folds of 5 R2 on train set: -1.0363363830362893\n",
      "Randomized Search CV with k folds of 5 R2 on test set: -2.416901251017641e+23\n"
     ]
    }
   ],
   "source": [
    "print(f\"Randomized Search CV with k folds of 5 R2 on train set: {fitted_rs.score(X_train, y_train)}\")\n",
    "print(f\"Randomized Search CV with k folds of 5 R2 on test set: {fitted_rs.score(X_val, y_val)}\")"
   ]
  },
  {
   "cell_type": "code",
   "execution_count": 30,
   "metadata": {},
   "outputs": [
    {
     "name": "stdout",
     "output_type": "stream",
     "text": [
      "Fitting 5 folds for each of 4 candidates, totalling 20 fits\n"
     ]
    },
    {
     "name": "stderr",
     "output_type": "stream",
     "text": [
      "[Parallel(n_jobs=-1)]: Using backend LokyBackend with 8 concurrent workers.\n",
      "[Parallel(n_jobs=-1)]: Done   1 tasks      | elapsed:  3.2min\n",
      "[Parallel(n_jobs=-1)]: Done   2 tasks      | elapsed:  3.5min\n",
      "[Parallel(n_jobs=-1)]: Done   3 tasks      | elapsed:  3.5min\n",
      "[Parallel(n_jobs=-1)]: Done   4 tasks      | elapsed:  4.2min\n",
      "[Parallel(n_jobs=-1)]: Done   5 tasks      | elapsed:  4.5min\n",
      "[Parallel(n_jobs=-1)]: Done   7 out of  20 | elapsed:  5.1min remaining:  9.5min\n",
      "[Parallel(n_jobs=-1)]: Done   9 out of  20 | elapsed:  5.5min remaining:  6.7min\n",
      "[Parallel(n_jobs=-1)]: Done  11 out of  20 | elapsed:  5.6min remaining:  4.6min\n",
      "[Parallel(n_jobs=-1)]: Done  13 out of  20 | elapsed:  6.0min remaining:  3.2min\n",
      "[Parallel(n_jobs=-1)]: Done  15 out of  20 | elapsed:  6.5min remaining:  2.2min\n",
      "[Parallel(n_jobs=-1)]: Done  17 out of  20 | elapsed:  6.5min remaining:  1.2min\n",
      "[Parallel(n_jobs=-1)]: Done  20 out of  20 | elapsed:  7.0min finished\n"
     ]
    }
   ],
   "source": [
    "fitted_gs=gs.fit(X_train,y_train)"
   ]
  },
  {
   "cell_type": "code",
   "execution_count": 31,
   "metadata": {},
   "outputs": [
    {
     "data": {
      "text/plain": [
       "Pipeline(memory='C:\\\\Users\\\\zesha\\\\AppData\\\\Local\\\\Temp\\\\tmpgcyy8_pw',\n",
       "         steps=[('model', LinearRegression(fit_intercept=False))])"
      ]
     },
     "execution_count": 31,
     "metadata": {},
     "output_type": "execute_result"
    }
   ],
   "source": [
    "fitted_gs.best_estimator_"
   ]
  },
  {
   "cell_type": "code",
   "execution_count": 32,
   "metadata": {},
   "outputs": [
    {
     "name": "stdout",
     "output_type": "stream",
     "text": [
      "R2 on train set: -1.0363363830362893\n",
      "R2 on test set: -2.416901251017641e+23\n"
     ]
    }
   ],
   "source": [
    "print(f\"R2 on train set: {fitted_gs.score(X_train, y_train)}\")\n",
    "print(f\"R2 on test set: {fitted_gs.score(X_val, y_val)}\")"
   ]
  },
  {
   "cell_type": "code",
   "execution_count": 85,
   "metadata": {},
   "outputs": [
    {
     "name": "stdout",
     "output_type": "stream",
     "text": [
      "Linear Regression GridSearchCV k-folds =5 R2 score for train set: -1.0363363830362893\n",
      "Linear Regression GridSearchCV k-folds =5 R2 score for val set:  -2.416901251017641e+23\n",
      "Linear Regression GridSearchCV k-folds =5 MAE for val set: 27650779301329.016\n",
      "Linear Regression GridSearchCV k-folds =5 RMSE for val set: 6246812259427129.0\n",
      "Linear Regression GridSearchCV k-folds =5 MSE for val set: 3.902266340452907e+31\n",
      "Linear Regression runtime: 0.17916411999999582\n"
     ]
    }
   ],
   "source": [
    "t0 = perf_counter()\n",
    "lr_model_gs = LinearRegression(fit_intercept=False)\n",
    "lr_model_gs.fit(X_train,y_train)\n",
    "lr_gs_predict = lr_model_gs.predict(X_val)\n",
    "\n",
    "\n",
    "lr_gs_r2 = lr_model_gs.score(X_val,y_val)\n",
    "lr_gs_mse = mean_squared_error(y_val, lr_gs_predict)\n",
    "lr_gs_mae = mean_absolute_error(y_val, lr_gs_predict)\n",
    "lr_gs_rmse = sqrt(mean_squared_error(y_val, lr_gs_predict))\n",
    "t1 = perf_counter()\n",
    "time_taken = t1 - t0\n",
    "model_score = model_score.append(pd.DataFrame({'r2':[lr_gs_r2], 'mae':[lr_gs_mae],'rmse':[lr_gs_rmse], 'mse': [lr_gs_mse],\n",
    "                                               'run_time':[(time_taken)/60]} ,index = ['Linear Regression tuned with GridSearchCV kfolds=5']))\n",
    "\n",
    "\n",
    "# Evaluate\n",
    "print(f\"Linear Regression GridSearchCV k-folds =5 R2 score for train set: {lr_model_gs.score(X_train, y_train)}\")\n",
    "print(f\"Linear Regression GridSearchCV k-folds =5 R2 score for val set:  {lr_model_gs.score(X_val,y_val)}\")\n",
    "print(f\"Linear Regression GridSearchCV k-folds =5 MAE for val set: {lr_gs_mae}\")\n",
    "print(f\"Linear Regression GridSearchCV k-folds =5 RMSE for val set: {lr_gs_rmse}\" )\n",
    "print(f\"Linear Regression GridSearchCV k-folds =5 MSE for val set: {lr_gs_mse}\")\n",
    "print(f\"Linear Regression runtime: {time_taken/60}\")"
   ]
  },
  {
   "cell_type": "code",
   "execution_count": 86,
   "metadata": {},
   "outputs": [
    {
     "data": {
      "text/html": [
       "<div>\n",
       "<style scoped>\n",
       "    .dataframe tbody tr th:only-of-type {\n",
       "        vertical-align: middle;\n",
       "    }\n",
       "\n",
       "    .dataframe tbody tr th {\n",
       "        vertical-align: top;\n",
       "    }\n",
       "\n",
       "    .dataframe thead th {\n",
       "        text-align: right;\n",
       "    }\n",
       "</style>\n",
       "<table border=\"1\" class=\"dataframe\">\n",
       "  <thead>\n",
       "    <tr style=\"text-align: right;\">\n",
       "      <th></th>\n",
       "      <th>r2</th>\n",
       "      <th>mae</th>\n",
       "      <th>rmse</th>\n",
       "      <th>mse</th>\n",
       "      <th>run_time</th>\n",
       "    </tr>\n",
       "  </thead>\n",
       "  <tbody>\n",
       "    <tr>\n",
       "      <th>Linear Regression tf-idf</th>\n",
       "      <td>-4.244417e+17</td>\n",
       "      <td>3.664266e+10</td>\n",
       "      <td>8.278240e+12</td>\n",
       "      <td>6.852926e+25</td>\n",
       "      <td>0.182721</td>\n",
       "    </tr>\n",
       "    <tr>\n",
       "      <th>Linear Regression tuned with GridSearchCV kfolds=5</th>\n",
       "      <td>-2.416901e+23</td>\n",
       "      <td>2.765078e+13</td>\n",
       "      <td>6.246812e+15</td>\n",
       "      <td>3.902266e+31</td>\n",
       "      <td>0.179164</td>\n",
       "    </tr>\n",
       "  </tbody>\n",
       "</table>\n",
       "</div>"
      ],
      "text/plain": [
       "                                                              r2  \\\n",
       "Linear Regression tf-idf                           -4.244417e+17   \n",
       "Linear Regression tuned with GridSearchCV kfolds=5 -2.416901e+23   \n",
       "\n",
       "                                                             mae  \\\n",
       "Linear Regression tf-idf                            3.664266e+10   \n",
       "Linear Regression tuned with GridSearchCV kfolds=5  2.765078e+13   \n",
       "\n",
       "                                                            rmse  \\\n",
       "Linear Regression tf-idf                            8.278240e+12   \n",
       "Linear Regression tuned with GridSearchCV kfolds=5  6.246812e+15   \n",
       "\n",
       "                                                             mse  run_time  \n",
       "Linear Regression tf-idf                            6.852926e+25  0.182721  \n",
       "Linear Regression tuned with GridSearchCV kfolds=5  3.902266e+31  0.179164  "
      ]
     },
     "execution_count": 86,
     "metadata": {},
     "output_type": "execute_result"
    }
   ],
   "source": [
    "model_score"
   ]
  },
  {
   "cell_type": "code",
   "execution_count": 87,
   "metadata": {},
   "outputs": [],
   "source": [
    "model_score.to_csv('data/model_scores.csv', mode='a', index=False, header=False)"
   ]
  }
 ],
 "metadata": {
  "kernelspec": {
   "display_name": "Python 3",
   "language": "python",
   "name": "python3"
  },
  "language_info": {
   "codemirror_mode": {
    "name": "ipython",
    "version": 3
   },
   "file_extension": ".py",
   "mimetype": "text/x-python",
   "name": "python",
   "nbconvert_exporter": "python",
   "pygments_lexer": "ipython3",
   "version": "3.8.5"
  }
 },
 "nbformat": 4,
 "nbformat_minor": 4
}
