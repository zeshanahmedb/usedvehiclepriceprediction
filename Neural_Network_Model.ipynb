{
 "cells": [
  {
   "cell_type": "code",
   "execution_count": 67,
   "metadata": {},
   "outputs": [],
   "source": [
    "import numpy as np\n",
    "import pandas as pd\n",
    "import matplotlib.pyplot as plt\n",
    "\n",
    "# Import tensorflow\n",
    "import tensorflow as tf\n",
    "from tensorflow import keras\n",
    "from tensorflow.keras import layers\n",
    "import matplotlib.pyplot as plt\n",
    "import seaborn as sns\n",
    "\n",
    "%matplotlib inline\n",
    "from sklearn.metrics import confusion_matrix\n",
    "import itertools\n",
    "from time import perf_counter\n",
    "from sklearn.metrics import r2_score\n",
    "from sklearn import metrics\n",
    "import math \n",
    "from sklearn.metrics import mean_absolute_error\n",
    "from sklearn.metrics import mean_squared_error\n",
    "from math import sqrt"
   ]
  },
  {
   "cell_type": "code",
   "execution_count": 2,
   "metadata": {},
   "outputs": [],
   "source": [
    "X_train = pd.read_csv('data/X_train.csv', index_col=0) \n",
    "X_val = pd.read_csv('data/X_val.csv', index_col=0) \n",
    "X_test = pd.read_csv('data/X_test.csv', index_col=0) \n",
    "y_train = pd.read_csv('data/y_train.csv', index_col=0) \n",
    "y_val = pd.read_csv('data/y_val.csv', index_col=0)\n",
    "y_test = pd.read_csv('data/y_test.csv', index_col=0)"
   ]
  },
  {
   "cell_type": "code",
   "execution_count": 3,
   "metadata": {},
   "outputs": [],
   "source": [
    "y_train = y_train.iloc[:, 0]\n",
    "y_val = y_val.iloc[:, 0]\n",
    "y_test = y_test.iloc[:, 0]"
   ]
  },
  {
   "cell_type": "code",
   "execution_count": 4,
   "metadata": {},
   "outputs": [],
   "source": [
    "X_train.drop(['description'], axis = 1, inplace = True)\n",
    "X_val.drop(['description'], axis = 1, inplace = True)\n",
    "X_test.drop(['description'], axis = 1, inplace = True)"
   ]
  },
  {
   "cell_type": "code",
   "execution_count": 5,
   "metadata": {},
   "outputs": [],
   "source": [
    "index = X_train.columns\n",
    "model_score = pd.DataFrame(columns=('r2', 'mae','rmse', 'mse', 'run_time' ))"
   ]
  },
  {
   "cell_type": "code",
   "execution_count": 6,
   "metadata": {},
   "outputs": [
    {
     "name": "stdout",
     "output_type": "stream",
     "text": [
      "X_train Shape: (204156, 350)\n",
      "y_train Shape: (204156,)\n",
      "X_test Shape: (63799, 350)\n",
      "y_test Shape: (63799,)\n",
      "X_val Shape: (51039, 350)\n",
      "y_val Shape: (51039,)\n"
     ]
    }
   ],
   "source": [
    "#analyzing shape to find if there any discrepancy before starting to model\n",
    "print(f'X_train Shape: {X_train.shape}')\n",
    "print(f'y_train Shape: {y_train.shape}')\n",
    "print(f'X_test Shape: {X_test.shape}') \n",
    "print(f'y_test Shape: {y_test.shape}') \n",
    "print(f'X_val Shape: {X_val.shape}') \n",
    "print(f'y_val Shape: {y_val.shape}')"
   ]
  },
  {
   "cell_type": "code",
   "execution_count": 9,
   "metadata": {},
   "outputs": [],
   "source": [
    "from sklearn.preprocessing import StandardScaler\n",
    "# Scaling Data\n",
    "ss_scaler = StandardScaler()\n",
    "ss_scaler.fit(X_train)\n",
    "\n",
    "# Transform\n",
    "X_train = ss_scaler.transform(X_train)\n",
    "X_test = ss_scaler.transform(X_test)\n",
    "X_val = ss_scaler.transform(X_val)"
   ]
  },
  {
   "cell_type": "code",
   "execution_count": 14,
   "metadata": {},
   "outputs": [
    {
     "name": "stdout",
     "output_type": "stream",
     "text": [
      "Wall time: 22.9 ms\n"
     ]
    }
   ],
   "source": [
    "%%time\n",
    "# Sequential model\n",
    "#building model with 10 hidden layers having drop out rate of 10% and structure as diamond\n",
    "model = keras.Sequential()\n",
    "\n",
    "# Add dense layers with dropout\n",
    "model.add(layers.Dense(20, activation='relu'))\n",
    "model.add(layers.Dropout(0.1))\n",
    "model.add(layers.Dense(40, activation='relu'))\n",
    "model.add(layers.Dropout(0.1))\n",
    "model.add(layers.Dense(60, activation='relu'))\n",
    "model.add(layers.Dropout(0.1))\n",
    "model.add(layers.Dense(80, activation='relu'))\n",
    "model.add(layers.Dropout(0.1))\n",
    "model.add(layers.Dense(100, activation='relu'))\n",
    "model.add(layers.Dropout(0.1))\n",
    "model.add(layers.Dense(100, activation='relu'))\n",
    "model.add(layers.Dropout(0.1))\n",
    "model.add(layers.Dense(80, activation='relu'))\n",
    "model.add(layers.Dropout(0.1))\n",
    "model.add(layers.Dense(60, activation='relu'))\n",
    "model.add(layers.Dropout(0.1))\n",
    "model.add(layers.Dense(40, activation='relu'))\n",
    "model.add(layers.Dropout(0.1))\n",
    "model.add(layers.Dense(20, activation='relu'))\n",
    "model.add(layers.Dropout(0.1))\n",
    "\n",
    "\n",
    "# Output layer\n",
    "model.add(layers.Dense(1))\n",
    "\n",
    "# Compile the model\n",
    "model.compile(\n",
    "    # Optimizer\n",
    "    optimizer=keras.optimizers.Adam(),  \n",
    "    # Loss function to minimize\n",
    "    loss=keras.losses.MeanAbsoluteError(),\n",
    "    #loss=keras.losses.MeanSquaredError(),\n",
    "    metrics= keras.metrics.MeanAbsoluteError()\n",
    ")"
   ]
  },
  {
   "cell_type": "code",
   "execution_count": 15,
   "metadata": {},
   "outputs": [
    {
     "name": "stdout",
     "output_type": "stream",
     "text": [
      "Epoch 1/100\n",
      "Epoch 2/100\n",
      "Epoch 3/100\n",
      "Epoch 4/100\n",
      "Epoch 5/100\n",
      "Epoch 6/100\n",
      "Epoch 7/100\n",
      "Epoch 8/100\n",
      "Epoch 9/100\n",
      "Epoch 10/100\n",
      "Epoch 11/100\n",
      "Epoch 12/100\n",
      "Epoch 13/100\n",
      "Epoch 14/100\n",
      "Epoch 15/100\n",
      "Epoch 16/100\n",
      "Epoch 17/100\n",
      "Epoch 18/100\n",
      "Epoch 19/100\n",
      "Epoch 20/100\n",
      "Epoch 21/100\n",
      "Epoch 22/100\n",
      "Epoch 23/100\n",
      "Epoch 24/100\n",
      "Epoch 25/100\n",
      "Epoch 26/100\n",
      "Epoch 27/100\n",
      "Epoch 28/100\n",
      "Epoch 29/100\n",
      "Epoch 30/100\n",
      "Epoch 31/100\n",
      "Epoch 32/100\n",
      "Epoch 33/100\n",
      "Epoch 34/100\n",
      "Epoch 35/100\n",
      "Epoch 36/100\n",
      "Epoch 37/100\n",
      "Epoch 38/100\n",
      "Epoch 39/100\n",
      "Epoch 40/100\n",
      "Epoch 41/100\n",
      "Epoch 42/100\n",
      "Epoch 43/100\n",
      "Epoch 44/100\n",
      "Epoch 45/100\n",
      "Epoch 46/100\n",
      "Epoch 47/100\n",
      "Epoch 48/100\n",
      "Epoch 49/100\n",
      "Epoch 50/100\n",
      "Epoch 51/100\n",
      "Epoch 52/100\n",
      "Epoch 53/100\n",
      "Epoch 54/100\n",
      "Epoch 55/100\n",
      "Epoch 56/100\n",
      "Epoch 57/100\n",
      "Epoch 58/100\n",
      "Epoch 59/100\n",
      "Epoch 60/100\n",
      "Epoch 61/100\n",
      "Epoch 62/100\n",
      "Epoch 63/100\n",
      "Epoch 64/100\n",
      "Epoch 65/100\n",
      "Epoch 66/100\n",
      "Epoch 67/100\n",
      "Epoch 68/100\n",
      "Epoch 69/100\n",
      "Epoch 70/100\n",
      "Epoch 71/100\n",
      "Epoch 72/100\n",
      "Epoch 73/100\n",
      "Epoch 74/100\n",
      "Epoch 75/100\n",
      "Epoch 76/100\n",
      "Epoch 77/100\n",
      "Epoch 78/100\n",
      "Epoch 79/100\n",
      "Epoch 80/100\n",
      "Epoch 81/100\n",
      "Epoch 82/100\n",
      "Epoch 83/100\n",
      "Epoch 84/100\n",
      "Epoch 85/100\n",
      "Epoch 86/100\n",
      "Epoch 87/100\n",
      "Epoch 88/100\n",
      "Epoch 89/100\n",
      "Epoch 90/100\n",
      "Epoch 91/100\n",
      "Epoch 92/100\n",
      "Epoch 93/100\n",
      "Epoch 94/100\n",
      "Epoch 95/100\n",
      "Epoch 96/100\n",
      "Epoch 97/100\n",
      "Epoch 98/100\n",
      "Epoch 99/100\n",
      "Epoch 100/100\n",
      "Wall time: 20min 21s\n"
     ]
    }
   ],
   "source": [
    "%%time\n",
    "# Train\n",
    "history = model.fit(X_train, y_train, epochs=100, verbose=5)"
   ]
  },
  {
   "cell_type": "code",
   "execution_count": 16,
   "metadata": {},
   "outputs": [],
   "source": [
    "from sklearn.metrics import r2_score\n",
    "from sklearn import metrics\n",
    "import math \n",
    "from sklearn.metrics import mean_absolute_error\n",
    "from sklearn.metrics import mean_squared_error\n",
    "from math import sqrt"
   ]
  },
  {
   "cell_type": "code",
   "execution_count": 100,
   "metadata": {},
   "outputs": [],
   "source": [
    "model_score = pd.DataFrame(columns=('r2', 'mae','rmse', 'mse', 'run_time' ))"
   ]
  },
  {
   "cell_type": "code",
   "execution_count": 27,
   "metadata": {},
   "outputs": [
    {
     "name": "stdout",
     "output_type": "stream",
     "text": [
      "Train Loss: 3082.6646\n",
      "Val Loss: 3215569.0000\n"
     ]
    }
   ],
   "source": [
    "# Evaluate the model using the test data and generate predictions\n",
    "train_loss = history.history[\"loss\"][-1]\n",
    "result = model.evaluate(X_val, y_val, verbose=0)\n",
    "\n",
    "print(f\"Train Loss: {train_loss:.4f}\")\n",
    "print(f\"Val Loss: {result[0]:.4f}\")"
   ]
  },
  {
   "cell_type": "code",
   "execution_count": 70,
   "metadata": {},
   "outputs": [
    {
     "data": {
      "text/plain": [
       "-87899.709731155"
      ]
     },
     "execution_count": 70,
     "metadata": {},
     "output_type": "execute_result"
    }
   ],
   "source": [
    "model_predict = model.predict(X_val)\n",
    "\n",
    "r2_score(y_val,model_predict)"
   ]
  },
  {
   "cell_type": "code",
   "execution_count": 102,
   "metadata": {},
   "outputs": [
    {
     "name": "stdout",
     "output_type": "stream",
     "text": [
      "Neural Network R2 score for val set:  -87899.709731155\n",
      "Neural Network MAE for val set: 3215563.798173185\n",
      "Neural Network RMSE for val set: 3767256.5055786422\n",
      "Neural Network MSE for val set: 14192221578824.604\n"
     ]
    }
   ],
   "source": [
    "model_predict = model.predict(X_val)\n",
    "\n",
    "\n",
    "model_r2= r2_score(y_val,model_predict)\n",
    "\n",
    "model_mse = mean_squared_error(y_val, model_predict)\n",
    "model_mae = mean_absolute_error(y_val, model_predict)\n",
    "model_rmse = sqrt(mean_squared_error(y_val, model_predict))\n",
    "\n",
    "model_score = model_score.append(pd.DataFrame({'r2':[model_r2], 'mae':[model_mae],'rmse':[model_rmse], 'mse': [model_mse]},\n",
    "                                               index = ['Neural Network 10 hidden layers having drop out rate of 10% and structure as diamond']))\n",
    "# Evaluate\n",
    "print(f\"Neural Network R2 score for val set:  {r2_score(y_val,model_predict)}\")\n",
    "print(f\"Neural Network MAE for val set: {model_mae}\")\n",
    "print(f\"Neural Network RMSE for val set: {model_rmse}\" )\n",
    "print(f\"Neural Network MSE for val set: {model_mse}\")"
   ]
  },
  {
   "cell_type": "code",
   "execution_count": 24,
   "metadata": {},
   "outputs": [],
   "source": [
    "from matplotlib import pyplot"
   ]
  },
  {
   "cell_type": "code",
   "execution_count": 28,
   "metadata": {},
   "outputs": [
    {
     "data": {
      "image/png": "[encoded data removed]",
      "text/plain": [
       "<Figure size 432x288 with 1 Axes>"
      ]
     },
     "metadata": {
      "needs_background": "light"
     },
     "output_type": "display_data"
    }
   ],
   "source": [
    "# plot metrics\n",
    "#pyplot.plot(history.history['mean_squared_error'])\n",
    "pyplot.plot(history.history['mean_absolute_error'])\n",
    "pyplot.show()"
   ]
  },
  {
   "cell_type": "code",
   "execution_count": 34,
   "metadata": {},
   "outputs": [
    {
     "data": {
      "text/plain": [
       "-87899.709731155"
      ]
     },
     "execution_count": 34,
     "metadata": {},
     "output_type": "execute_result"
    }
   ],
   "source": [
    "from sklearn.metrics import r2_score\n",
    "model_predict = model.predict(X_val)\n",
    "r2_score(y_val,model_predict)"
   ]
  },
  {
   "cell_type": "code",
   "execution_count": 31,
   "metadata": {},
   "outputs": [
    {
     "name": "stdout",
     "output_type": "stream",
     "text": [
      "Epoch 1/100\n",
      "6380/6380 [==============================] - 19s 3ms/step - loss: 4652.1694 - mean_squared_error: 61992541.4562 - mean_absolute_error: 4652.1694 - mean_absolute_percentage_error: 32.8031 - cosine_proximity: 0.9972 - val_loss: 16630882.0000 - val_mean_squared_error: 407231015157760.0000 - val_mean_absolute_error: 16630882.0000 - val_mean_absolute_percentage_error: 226540.5781 - val_cosine_proximity: 1.0000\n",
      "Epoch 2/100\n",
      "6380/6380 [==============================] - 20s 3ms/step - loss: 3334.5174 - mean_squared_error: 29020786.1348 - mean_absolute_error: 3334.5174 - mean_absolute_percentage_error: 23.6571 - cosine_proximity: 1.0000 - val_loss: 22102098.0000 - val_mean_squared_error: 721215538855936.0000 - val_mean_absolute_error: 22102098.0000 - val_mean_absolute_percentage_error: 301377.6562 - val_cosine_proximity: 1.0000\n",
      "Epoch 3/100\n",
      "6380/6380 [==============================] - 21s 3ms/step - loss: 3291.9017 - mean_squared_error: 28013267.6593 - mean_absolute_error: 3291.9017 - mean_absolute_percentage_error: 23.4941 - cosine_proximity: 1.0000 - val_loss: 20501726.0000 - val_mean_squared_error: 618047136071680.0000 - val_mean_absolute_error: 20501726.0000 - val_mean_absolute_percentage_error: 279142.9688 - val_cosine_proximity: 1.0000\n",
      "Epoch 4/100\n",
      "6380/6380 [==============================] - 21s 3ms/step - loss: 3247.7116 - mean_squared_error: 27186467.3136 - mean_absolute_error: 3247.7116 - mean_absolute_percentage_error: 23.0367 - cosine_proximity: 1.0000 - val_loss: 23170956.0000 - val_mean_squared_error: 790815349669888.0000 - val_mean_absolute_error: 23170956.0000 - val_mean_absolute_percentage_error: 315673.8750 - val_cosine_proximity: 1.0000\n",
      "Epoch 5/100\n",
      "6380/6380 [==============================] - 21s 3ms/step - loss: 3219.7677 - mean_squared_error: 26910496.1718 - mean_absolute_error: 3219.7677 - mean_absolute_percentage_error: 23.0480 - cosine_proximity: 1.0000 - val_loss: 18393438.0000 - val_mean_squared_error: 495369213444096.0000 - val_mean_absolute_error: 18393438.0000 - val_mean_absolute_percentage_error: 250008.0781 - val_cosine_proximity: 1.0000\n",
      "Epoch 6/100\n",
      "6380/6380 [==============================] - 20s 3ms/step - loss: 3199.9633 - mean_squared_error: 26484230.3335 - mean_absolute_error: 3199.9633 - mean_absolute_percentage_error: 22.8745 - cosine_proximity: 1.0000 - val_loss: 21301998.0000 - val_mean_squared_error: 663883094163456.0000 - val_mean_absolute_error: 21301998.0000 - val_mean_absolute_percentage_error: 289538.8438 - val_cosine_proximity: 1.0000\n",
      "Epoch 7/100\n",
      "6380/6380 [==============================] - 19s 3ms/step - loss: 3214.7631 - mean_squared_error: 27637878.3586 - mean_absolute_error: 3214.7631 - mean_absolute_percentage_error: 22.7040 - cosine_proximity: 1.0000 - val_loss: 22456726.0000 - val_mean_squared_error: 738895570403328.0000 - val_mean_absolute_error: 22456726.0000 - val_mean_absolute_percentage_error: 305415.8438 - val_cosine_proximity: 1.0000\n",
      "Epoch 8/100\n",
      "6380/6380 [==============================] - 19s 3ms/step - loss: 3167.2815 - mean_squared_error: 26269404.8713 - mean_absolute_error: 3167.2815 - mean_absolute_percentage_error: 22.5751 - cosine_proximity: 1.0000 - val_loss: 23611986.0000 - val_mean_squared_error: 816021237661696.0000 - val_mean_absolute_error: 23611986.0000 - val_mean_absolute_percentage_error: 320987.0938 - val_cosine_proximity: 1.0000\n",
      "Epoch 9/100\n",
      "6380/6380 [==============================] - 19s 3ms/step - loss: 3153.9518 - mean_squared_error: 26087750.7287 - mean_absolute_error: 3153.9518 - mean_absolute_percentage_error: 22.4952 - cosine_proximity: 1.0000 - val_loss: 22095580.0000 - val_mean_squared_error: 709521617977344.0000 - val_mean_absolute_error: 22095580.0000 - val_mean_absolute_percentage_error: 299578.8125 - val_cosine_proximity: 1.0000\n",
      "Epoch 10/100\n",
      "6380/6380 [==============================] - 20s 3ms/step - loss: 3151.7653 - mean_squared_error: 25568504.9669 - mean_absolute_error: 3151.7653 - mean_absolute_percentage_error: 22.4048 - cosine_proximity: 1.0000 - val_loss: 27681318.0000 - val_mean_squared_error: 1121009079943168.0000 - val_mean_absolute_error: 27681318.0000 - val_mean_absolute_percentage_error: 376172.1250 - val_cosine_proximity: 1.0000\n",
      "Epoch 11/100\n",
      "6380/6380 [==============================] - 21s 3ms/step - loss: 3122.9903 - mean_squared_error: 25023746.5457 - mean_absolute_error: 3122.9903 - mean_absolute_percentage_error: 22.1309 - cosine_proximity: 1.0000 - val_loss: 27489106.0000 - val_mean_squared_error: 1108190951374848.0000 - val_mean_absolute_error: 27489106.0000 - val_mean_absolute_percentage_error: 373847.1250 - val_cosine_proximity: 1.0000\n",
      "Epoch 12/100\n",
      "6380/6380 [==============================] - 20s 3ms/step - loss: 3134.8840 - mean_squared_error: 26192872.3404 - mean_absolute_error: 3134.8840 - mean_absolute_percentage_error: 22.1487 - cosine_proximity: 1.0000 - val_loss: 25547846.0000 - val_mean_squared_error: 947114242736128.0000 - val_mean_absolute_error: 25547846.0000 - val_mean_absolute_percentage_error: 346198.2188 - val_cosine_proximity: 1.0000\n",
      "Epoch 13/100\n",
      "6380/6380 [==============================] - 20s 3ms/step - loss: 3136.1906 - mean_squared_error: 26054527.4587 - mean_absolute_error: 3136.1906 - mean_absolute_percentage_error: 22.2081 - cosine_proximity: 1.0000 - val_loss: 24352492.0000 - val_mean_squared_error: 860884922531840.0000 - val_mean_absolute_error: 24352492.0000 - val_mean_absolute_percentage_error: 330109.5625 - val_cosine_proximity: 1.0000\n",
      "Epoch 14/100\n",
      "6380/6380 [==============================] - 20s 3ms/step - loss: 3086.9140 - mean_squared_error: 24579751.5429 - mean_absolute_error: 3086.9140 - mean_absolute_percentage_error: 22.0279 - cosine_proximity: 1.0000 - val_loss: 28016220.0000 - val_mean_squared_error: 1135700485341184.0000 - val_mean_absolute_error: 28016220.0000 - val_mean_absolute_percentage_error: 379255.2188 - val_cosine_proximity: 1.0000\n",
      "Epoch 15/100\n",
      "6380/6380 [==============================] - 20s 3ms/step - loss: 3108.1591 - mean_squared_error: 25217859.2711 - mean_absolute_error: 3108.1591 - mean_absolute_percentage_error: 22.0724 - cosine_proximity: 1.0000 - val_loss: 26304098.0000 - val_mean_squared_error: 991447096492032.0000 - val_mean_absolute_error: 26304098.0000 - val_mean_absolute_percentage_error: 354877.1875 - val_cosine_proximity: 1.0000\n",
      "Epoch 16/100\n",
      "6380/6380 [==============================] - 19s 3ms/step - loss: 3102.7989 - mean_squared_error: 25073007.9190 - mean_absolute_error: 3102.7989 - mean_absolute_percentage_error: 21.9264 - cosine_proximity: 1.0000 - val_loss: 26510910.0000 - val_mean_squared_error: 1015441401053184.0000 - val_mean_absolute_error: 26510910.0000 - val_mean_absolute_percentage_error: 358774.1875 - val_cosine_proximity: 1.0000\n",
      "Epoch 17/100\n",
      "6380/6380 [==============================] - 21s 3ms/step - loss: 3086.3580 - mean_squared_error: 24732616.3103 - mean_absolute_error: 3086.3580 - mean_absolute_percentage_error: 22.0386 - cosine_proximity: 1.0000 - val_loss: 27748100.0000 - val_mean_squared_error: 1111586525675520.0000 - val_mean_absolute_error: 27748100.0000 - val_mean_absolute_percentage_error: 375338.3750 - val_cosine_proximity: 1.0000\n",
      "Epoch 18/100\n",
      "6380/6380 [==============================] - 20s 3ms/step - loss: 3088.3775 - mean_squared_error: 24739864.3028 - mean_absolute_error: 3088.3775 - mean_absolute_percentage_error: 21.8954 - cosine_proximity: 1.0000 - val_loss: 27494498.0000 - val_mean_squared_error: 1090191078981632.0000 - val_mean_absolute_error: 27494498.0000 - val_mean_absolute_percentage_error: 371732.5000 - val_cosine_proximity: 1.0000\n",
      "Epoch 19/100\n",
      "6380/6380 [==============================] - 19s 3ms/step - loss: 3089.7147 - mean_squared_error: 25684581.0152 - mean_absolute_error: 3089.7147 - mean_absolute_percentage_error: 21.9408 - cosine_proximity: 1.0000 - val_loss: 26811658.0000 - val_mean_squared_error: 1037090989015040.0000 - val_mean_absolute_error: 26811658.0000 - val_mean_absolute_percentage_error: 362633.4688 - val_cosine_proximity: 1.0000\n",
      "Epoch 20/100\n",
      "6380/6380 [==============================] - 19s 3ms/step - loss: 3061.0799 - mean_squared_error: 24235200.1758 - mean_absolute_error: 3061.0799 - mean_absolute_percentage_error: 21.9569 - cosine_proximity: 1.0000 - val_loss: 27497588.0000 - val_mean_squared_error: 1092448084295680.0000 - val_mean_absolute_error: 27497588.0000 - val_mean_absolute_percentage_error: 372055.9062 - val_cosine_proximity: 1.0000\n",
      "Epoch 21/100\n",
      "6380/6380 [==============================] - 19s 3ms/step - loss: 3074.2033 - mean_squared_error: 24366167.2760 - mean_absolute_error: 3074.2033 - mean_absolute_percentage_error: 21.9194 - cosine_proximity: 1.0000 - val_loss: 30171334.0000 - val_mean_squared_error: 1310066359664640.0000 - val_mean_absolute_error: 30171334.0000 - val_mean_absolute_percentage_error: 407674.8125 - val_cosine_proximity: 1.0000\n",
      "Epoch 22/100\n",
      "6380/6380 [==============================] - 20s 3ms/step - loss: 3058.9781 - mean_squared_error: 24176372.4720 - mean_absolute_error: 3058.9781 - mean_absolute_percentage_error: 21.7876 - cosine_proximity: 1.0000 - val_loss: 29816920.0000 - val_mean_squared_error: 1279577192136704.0000 - val_mean_absolute_error: 29816920.0000 - val_mean_absolute_percentage_error: 402893.0000 - val_cosine_proximity: 1.0000\n",
      "Epoch 23/100\n",
      "6380/6380 [==============================] - 21s 3ms/step - loss: 3068.2862 - mean_squared_error: 24117083.2985 - mean_absolute_error: 3068.2862 - mean_absolute_percentage_error: 22.0084 - cosine_proximity: 1.0000 - val_loss: 28229920.0000 - val_mean_squared_error: 1144742733676544.0000 - val_mean_absolute_error: 28229920.0000 - val_mean_absolute_percentage_error: 381212.2188 - val_cosine_proximity: 1.0000\n",
      "Epoch 24/100\n",
      "6380/6380 [==============================] - 20s 3ms/step - loss: 3063.3446 - mean_squared_error: 24454658.8773 - mean_absolute_error: 3063.3446 - mean_absolute_percentage_error: 21.6957 - cosine_proximity: 1.0000 - val_loss: 27242174.0000 - val_mean_squared_error: 1066007124770816.0000 - val_mean_absolute_error: 27242174.0000 - val_mean_absolute_percentage_error: 367827.5938 - val_cosine_proximity: 1.0000\n",
      "Epoch 25/100\n",
      "6380/6380 [==============================] - 19s 3ms/step - loss: 3039.7503 - mean_squared_error: 23911844.6831 - mean_absolute_error: 3039.7503 - mean_absolute_percentage_error: 21.6602 - cosine_proximity: 1.0000 - val_loss: 28828966.0000 - val_mean_squared_error: 1193061249974272.0000 - val_mean_absolute_error: 28828966.0000 - val_mean_absolute_percentage_error: 389133.0000 - val_cosine_proximity: 1.0000\n",
      "Epoch 26/100\n",
      "6380/6380 [==============================] - 20s 3ms/step - loss: 3045.8392 - mean_squared_error: 24278181.0183 - mean_absolute_error: 3045.8392 - mean_absolute_percentage_error: 21.6446 - cosine_proximity: 1.0000 - val_loss: 29587832.0000 - val_mean_squared_error: 1261176612716544.0000 - val_mean_absolute_error: 29587832.0000 - val_mean_absolute_percentage_error: 399846.1562 - val_cosine_proximity: 1.0000\n",
      "Epoch 27/100\n",
      "6380/6380 [==============================] - 20s 3ms/step - loss: 3059.1910 - mean_squared_error: 24562740.4134 - mean_absolute_error: 3059.1910 - mean_absolute_percentage_error: 21.9771 - cosine_proximity: 1.0000 - val_loss: 27146108.0000 - val_mean_squared_error: 1051987680428032.0000 - val_mean_absolute_error: 27146108.0000 - val_mean_absolute_percentage_error: 365728.6875 - val_cosine_proximity: 1.0000\n",
      "Epoch 28/100\n",
      "6380/6380 [==============================] - 20s 3ms/step - loss: 3038.0540 - mean_squared_error: 24072195.6261 - mean_absolute_error: 3038.0540 - mean_absolute_percentage_error: 21.6276 - cosine_proximity: 1.0000 - val_loss: 29504354.0000 - val_mean_squared_error: 1245941692628992.0000 - val_mean_absolute_error: 29504354.0000 - val_mean_absolute_percentage_error: 397847.9688 - val_cosine_proximity: 1.0000\n",
      "Epoch 29/100\n",
      "6380/6380 [==============================] - 20s 3ms/step - loss: 3030.3907 - mean_squared_error: 23689055.7306 - mean_absolute_error: 3030.3907 - mean_absolute_percentage_error: 21.4954 - cosine_proximity: 1.0000 - val_loss: 28104010.0000 - val_mean_squared_error: 1124262786105344.0000 - val_mean_absolute_error: 28104010.0000 - val_mean_absolute_percentage_error: 378180.6562 - val_cosine_proximity: 1.0000\n",
      "Epoch 30/100\n",
      "6380/6380 [==============================] - 20s 3ms/step - loss: 3030.1362 - mean_squared_error: 23642150.6562 - mean_absolute_error: 3030.1362 - mean_absolute_percentage_error: 21.6173 - cosine_proximity: 1.0000 - val_loss: 29282818.0000 - val_mean_squared_error: 1221590838673408.0000 - val_mean_absolute_error: 29282818.0000 - val_mean_absolute_percentage_error: 394140.3125 - val_cosine_proximity: 1.0000\n",
      "Epoch 31/100\n",
      "6380/6380 [==============================] - 19s 3ms/step - loss: 3024.8342 - mean_squared_error: 23672293.7942 - mean_absolute_error: 3024.8342 - mean_absolute_percentage_error: 21.5686 - cosine_proximity: 1.0000 - val_loss: 34911168.0000 - val_mean_squared_error: 1757684898463744.0000 - val_mean_absolute_error: 34911168.0000 - val_mean_absolute_percentage_error: 471788.2812 - val_cosine_proximity: 1.0000\n",
      "Epoch 32/100\n",
      "6380/6380 [==============================] - 20s 3ms/step - loss: 3018.0037 - mean_squared_error: 23968857.7784 - mean_absolute_error: 3018.0037 - mean_absolute_percentage_error: 21.5778 - cosine_proximity: 1.0000 - val_loss: 30254212.0000 - val_mean_squared_error: 1308966042730496.0000 - val_mean_absolute_error: 30254212.0000 - val_mean_absolute_percentage_error: 407745.4375 - val_cosine_proximity: 1.0000\n",
      "Epoch 33/100\n",
      "6380/6380 [==============================] - 19s 3ms/step - loss: 3032.3123 - mean_squared_error: 23934046.0135 - mean_absolute_error: 3032.3123 - mean_absolute_percentage_error: 21.6147 - cosine_proximity: 1.0000 - val_loss: 34856976.0000 - val_mean_squared_error: 1750577801330688.0000 - val_mean_absolute_error: 34856976.0000 - val_mean_absolute_percentage_error: 470956.7500 - val_cosine_proximity: 1.0000\n",
      "Epoch 34/100\n",
      "6380/6380 [==============================] - 20s 3ms/step - loss: 3031.9191 - mean_squared_error: 24115061.9171 - mean_absolute_error: 3031.9191 - mean_absolute_percentage_error: 21.3850 - cosine_proximity: 1.0000 - val_loss: 31458888.0000 - val_mean_squared_error: 1414919933132800.0000 - val_mean_absolute_error: 31458888.0000 - val_mean_absolute_percentage_error: 424027.7188 - val_cosine_proximity: 1.0000\n",
      "Epoch 35/100\n",
      "6380/6380 [==============================] - 21s 3ms/step - loss: 3016.5323 - mean_squared_error: 23882587.5922 - mean_absolute_error: 3016.5323 - mean_absolute_percentage_error: 21.4961 - cosine_proximity: 1.0000 - val_loss: 34037028.0000 - val_mean_squared_error: 1658128227631104.0000 - val_mean_absolute_error: 34037028.0000 - val_mean_absolute_percentage_error: 458869.8125 - val_cosine_proximity: 1.0000\n",
      "Epoch 36/100\n",
      "6380/6380 [==============================] - 22s 3ms/step - loss: 2996.8605 - mean_squared_error: 23313852.5886 - mean_absolute_error: 2996.8605 - mean_absolute_percentage_error: 21.2942 - cosine_proximity: 1.0000 - val_loss: 31962400.0000 - val_mean_squared_error: 1465153602191360.0000 - val_mean_absolute_error: 31962400.0000 - val_mean_absolute_percentage_error: 431140.2500 - val_cosine_proximity: 1.0000\n",
      "Epoch 37/100\n",
      "6380/6380 [==============================] - 20s 3ms/step - loss: 3003.2768 - mean_squared_error: 23818363.8119 - mean_absolute_error: 3003.2768 - mean_absolute_percentage_error: 21.4401 - cosine_proximity: 1.0000 - val_loss: 31808922.0000 - val_mean_squared_error: 1438883434725376.0000 - val_mean_absolute_error: 31808922.0000 - val_mean_absolute_percentage_error: 428081.9688 - val_cosine_proximity: 1.0000\n",
      "Epoch 38/100\n",
      "6380/6380 [==============================] - 20s 3ms/step - loss: 2989.2098 - mean_squared_error: 23090555.8254 - mean_absolute_error: 2989.2098 - mean_absolute_percentage_error: 21.3370 - cosine_proximity: 1.0000 - val_loss: 31295268.0000 - val_mean_squared_error: 1386730586374144.0000 - val_mean_absolute_error: 31295268.0000 - val_mean_absolute_percentage_error: 420421.5625 - val_cosine_proximity: 1.0000\n",
      "Epoch 39/100\n",
      "6380/6380 [==============================] - 20s 3ms/step - loss: 3008.3906 - mean_squared_error: 24070030.8994 - mean_absolute_error: 3008.3906 - mean_absolute_percentage_error: 21.3563 - cosine_proximity: 1.0000 - val_loss: 33321446.0000 - val_mean_squared_error: 1577331705511936.0000 - val_mean_absolute_error: 33321446.0000 - val_mean_absolute_percentage_error: 448060.1250 - val_cosine_proximity: 1.0000\n",
      "Epoch 40/100\n",
      "6380/6380 [==============================] - 20s 3ms/step - loss: 2999.6807 - mean_squared_error: 23421862.6090 - mean_absolute_error: 2999.6807 - mean_absolute_percentage_error: 21.4334 - cosine_proximity: 1.0000 - val_loss: 31398830.0000 - val_mean_squared_error: 1387641790529536.0000 - val_mean_absolute_error: 31398830.0000 - val_mean_absolute_percentage_error: 420865.2500 - val_cosine_proximity: 1.0000\n",
      "Epoch 41/100\n",
      "6380/6380 [==============================] - 21s 3ms/step - loss: 2977.9331 - mean_squared_error: 23244804.0986 - mean_absolute_error: 2977.9331 - mean_absolute_percentage_error: 21.1758 - cosine_proximity: 1.0000 - val_loss: 34195480.0000 - val_mean_squared_error: 1666606761508864.0000 - val_mean_absolute_error: 34195480.0000 - val_mean_absolute_percentage_error: 460286.7812 - val_cosine_proximity: 1.0000\n",
      "Epoch 42/100\n",
      "6380/6380 [==============================] - 20s 3ms/step - loss: 2992.9002 - mean_squared_error: 23689184.2442 - mean_absolute_error: 2992.9002 - mean_absolute_percentage_error: 21.1738 - cosine_proximity: 1.0000 - val_loss: 29596638.0000 - val_mean_squared_error: 1235677928751104.0000 - val_mean_absolute_error: 29596638.0000 - val_mean_absolute_percentage_error: 397020.8125 - val_cosine_proximity: 1.0000\n",
      "Epoch 43/100\n",
      "6380/6380 [==============================] - 22s 3ms/step - loss: 3009.8103 - mean_squared_error: 23808621.9113 - mean_absolute_error: 3009.8103 - mean_absolute_percentage_error: 21.4796 - cosine_proximity: 1.0000 - val_loss: 31161978.0000 - val_mean_squared_error: 1366298755858432.0000 - val_mean_absolute_error: 31161978.0000 - val_mean_absolute_percentage_error: 417625.5312 - val_cosine_proximity: 1.0000\n",
      "Epoch 44/100\n",
      "6380/6380 [==============================] - 20s 3ms/step - loss: 2992.4580 - mean_squared_error: 23445749.4278 - mean_absolute_error: 2992.4580 - mean_absolute_percentage_error: 21.3505 - cosine_proximity: 1.0000 - val_loss: 33092526.0000 - val_mean_squared_error: 1551762825674752.0000 - val_mean_absolute_error: 33092526.0000 - val_mean_absolute_percentage_error: 444646.0938 - val_cosine_proximity: 1.0000\n",
      "Epoch 45/100\n",
      "6380/6380 [==============================] - 21s 3ms/step - loss: 2988.0020 - mean_squared_error: 23447549.6316 - mean_absolute_error: 2988.0020 - mean_absolute_percentage_error: 21.2519 - cosine_proximity: 1.0000 - val_loss: 29708382.0000 - val_mean_squared_error: 1231761455448064.0000 - val_mean_absolute_error: 29708382.0000 - val_mean_absolute_percentage_error: 396950.0312 - val_cosine_proximity: 1.0000\n",
      "Epoch 46/100\n",
      "6380/6380 [==============================] - 20s 3ms/step - loss: 2976.8309 - mean_squared_error: 22822736.2606 - mean_absolute_error: 2976.8309 - mean_absolute_percentage_error: 21.3935 - cosine_proximity: 1.0000 - val_loss: 38414116.0000 - val_mean_squared_error: 2096060138782720.0000 - val_mean_absolute_error: 38414116.0000 - val_mean_absolute_percentage_error: 516457.6250 - val_cosine_proximity: 1.0000\n",
      "Epoch 47/100\n",
      "6380/6380 [==============================] - 22s 3ms/step - loss: 2986.2856 - mean_squared_error: 23392104.9771 - mean_absolute_error: 2986.2856 - mean_absolute_percentage_error: 21.2254 - cosine_proximity: 1.0000 - val_loss: 36835984.0000 - val_mean_squared_error: 1937758650105856.0000 - val_mean_absolute_error: 36835984.0000 - val_mean_absolute_percentage_error: 496047.1875 - val_cosine_proximity: 1.0000\n",
      "Epoch 48/100\n",
      "6380/6380 [==============================] - 20s 3ms/step - loss: 2973.1062 - mean_squared_error: 22998277.6787 - mean_absolute_error: 2973.1062 - mean_absolute_percentage_error: 21.1949 - cosine_proximity: 1.0000 - val_loss: 34441724.0000 - val_mean_squared_error: 1658513298292736.0000 - val_mean_absolute_error: 34441724.0000 - val_mean_absolute_percentage_error: 460549.1250 - val_cosine_proximity: 1.0000\n",
      "Epoch 49/100\n",
      "6380/6380 [==============================] - 20s 3ms/step - loss: 2988.8883 - mean_squared_error: 23350787.0885 - mean_absolute_error: 2988.8883 - mean_absolute_percentage_error: 21.1958 - cosine_proximity: 1.0000 - val_loss: 34479560.0000 - val_mean_squared_error: 1668222474518528.0000 - val_mean_absolute_error: 34479560.0000 - val_mean_absolute_percentage_error: 461569.0625 - val_cosine_proximity: 1.0000\n",
      "Epoch 50/100\n",
      "6380/6380 [==============================] - 20s 3ms/step - loss: 2979.7217 - mean_squared_error: 23174045.5872 - mean_absolute_error: 2979.7217 - mean_absolute_percentage_error: 21.2134 - cosine_proximity: 1.0000 - val_loss: 28928062.0000 - val_mean_squared_error: 1150013866508288.0000 - val_mean_absolute_error: 28928062.0000 - val_mean_absolute_percentage_error: 384373.2812 - val_cosine_proximity: 1.0000\n",
      "Epoch 51/100\n",
      "6380/6380 [==============================] - 21s 3ms/step - loss: 2964.9522 - mean_squared_error: 22825409.6392 - mean_absolute_error: 2964.9522 - mean_absolute_percentage_error: 21.2555 - cosine_proximity: 1.0000 - val_loss: 36764348.0000 - val_mean_squared_error: 1911752488910848.0000 - val_mean_absolute_error: 36764348.0000 - val_mean_absolute_percentage_error: 493776.9375 - val_cosine_proximity: 1.0000\n",
      "Epoch 52/100\n",
      "6380/6380 [==============================] - 20s 3ms/step - loss: 2963.5525 - mean_squared_error: 22486004.1619 - mean_absolute_error: 2963.5525 - mean_absolute_percentage_error: 21.1954 - cosine_proximity: 1.0000 - val_loss: 30406434.0000 - val_mean_squared_error: 1276750835220480.0000 - val_mean_absolute_error: 30406434.0000 - val_mean_absolute_percentage_error: 404947.5000 - val_cosine_proximity: 1.0000\n",
      "Epoch 53/100\n",
      "6380/6380 [==============================] - 22s 3ms/step - loss: 2957.8840 - mean_squared_error: 22725459.2312 - mean_absolute_error: 2957.8840 - mean_absolute_percentage_error: 21.0403 - cosine_proximity: 1.0000 - val_loss: 34544348.0000 - val_mean_squared_error: 1659325315547136.0000 - val_mean_absolute_error: 34544348.0000 - val_mean_absolute_percentage_error: 461104.0312 - val_cosine_proximity: 1.0000\n",
      "Epoch 54/100\n",
      "6380/6380 [==============================] - 20s 3ms/step - loss: 2961.3759 - mean_squared_error: 22811268.2028 - mean_absolute_error: 2961.3759 - mean_absolute_percentage_error: 21.1881 - cosine_proximity: 1.0000 - val_loss: 31556778.0000 - val_mean_squared_error: 1386186467704832.0000 - val_mean_absolute_error: 31556778.0000 - val_mean_absolute_percentage_error: 421390.1250 - val_cosine_proximity: 1.0000\n",
      "Epoch 55/100\n",
      "6380/6380 [==============================] - 20s 3ms/step - loss: 2953.5763 - mean_squared_error: 22702107.9909 - mean_absolute_error: 2953.5763 - mean_absolute_percentage_error: 21.1843 - cosine_proximity: 1.0000 - val_loss: 31224738.0000 - val_mean_squared_error: 1355607240081408.0000 - val_mean_absolute_error: 31224738.0000 - val_mean_absolute_percentage_error: 416673.2500 - val_cosine_proximity: 1.0000\n",
      "Epoch 56/100\n",
      "6380/6380 [==============================] - 20s 3ms/step - loss: 2963.6106 - mean_squared_error: 23187757.4299 - mean_absolute_error: 2963.6106 - mean_absolute_percentage_error: 21.0626 - cosine_proximity: 1.0000 - val_loss: 34835856.0000 - val_mean_squared_error: 1703408323002368.0000 - val_mean_absolute_error: 34835856.0000 - val_mean_absolute_percentage_error: 466362.0625 - val_cosine_proximity: 1.0000\n",
      "Epoch 57/100\n",
      "6380/6380 [==============================] - 20s 3ms/step - loss: 2983.4984 - mean_squared_error: 23058832.0533 - mean_absolute_error: 2983.4984 - mean_absolute_percentage_error: 21.2707 - cosine_proximity: 1.0000 - val_loss: 31274296.0000 - val_mean_squared_error: 1356588371673088.0000 - val_mean_absolute_error: 31274296.0000 - val_mean_absolute_percentage_error: 417417.9375 - val_cosine_proximity: 1.0000\n",
      "Epoch 58/100\n",
      "6380/6380 [==============================] - 20s 3ms/step - loss: 2958.2632 - mean_squared_error: 23075572.8140 - mean_absolute_error: 2958.2632 - mean_absolute_percentage_error: 21.1464 - cosine_proximity: 1.0000 - val_loss: 31877108.0000 - val_mean_squared_error: 1401065442377728.0000 - val_mean_absolute_error: 31877108.0000 - val_mean_absolute_percentage_error: 424328.6875 - val_cosine_proximity: 1.0000\n",
      "Epoch 59/100\n",
      "6380/6380 [==============================] - 22s 3ms/step - loss: 2975.5136 - mean_squared_error: 23036572.3329 - mean_absolute_error: 2975.5136 - mean_absolute_percentage_error: 21.1402 - cosine_proximity: 1.0000 - val_loss: 30526052.0000 - val_mean_squared_error: 1259707868119040.0000 - val_mean_absolute_error: 30526052.0000 - val_mean_absolute_percentage_error: 403110.7500 - val_cosine_proximity: 1.0000\n",
      "Epoch 60/100\n",
      "6380/6380 [==============================] - 20s 3ms/step - loss: 2955.8845 - mean_squared_error: 22499194.6099 - mean_absolute_error: 2955.8845 - mean_absolute_percentage_error: 21.1246 - cosine_proximity: 1.0000 - val_loss: 33026682.0000 - val_mean_squared_error: 1505048613879808.0000 - val_mean_absolute_error: 33026682.0000 - val_mean_absolute_percentage_error: 439881.0938 - val_cosine_proximity: 1.0000\n",
      "Epoch 61/100\n",
      "6380/6380 [==============================] - 20s 3ms/step - loss: 2969.3333 - mean_squared_error: 23289153.2374 - mean_absolute_error: 2969.3333 - mean_absolute_percentage_error: 21.1089 - cosine_proximity: 1.0000 - val_loss: 32814880.0000 - val_mean_squared_error: 1469108193329152.0000 - val_mean_absolute_error: 32814880.0000 - val_mean_absolute_percentage_error: 434760.6875 - val_cosine_proximity: 1.0000\n",
      "Epoch 62/100\n",
      "6380/6380 [==============================] - 20s 3ms/step - loss: 2964.7891 - mean_squared_error: 23045006.2191 - mean_absolute_error: 2964.7891 - mean_absolute_percentage_error: 21.0364 - cosine_proximity: 1.0000 - val_loss: 35295240.0000 - val_mean_squared_error: 1711378037473280.0000 - val_mean_absolute_error: 35295240.0000 - val_mean_absolute_percentage_error: 468991.0312 - val_cosine_proximity: 1.0000\n",
      "Epoch 63/100\n",
      "6380/6380 [==============================] - 20s 3ms/step - loss: 2945.3778 - mean_squared_error: 22264844.7775 - mean_absolute_error: 2945.3778 - mean_absolute_percentage_error: 21.0219 - cosine_proximity: 1.0000 - val_loss: 35090312.0000 - val_mean_squared_error: 1699926580920320.0000 - val_mean_absolute_error: 35090312.0000 - val_mean_absolute_percentage_error: 467110.4688 - val_cosine_proximity: 1.0000\n",
      "Epoch 64/100\n",
      "6380/6380 [==============================] - 20s 3ms/step - loss: 2961.8577 - mean_squared_error: 22786344.2677 - mean_absolute_error: 2961.8577 - mean_absolute_percentage_error: 21.0247 - cosine_proximity: 1.0000 - val_loss: 32730670.0000 - val_mean_squared_error: 1463703916511232.0000 - val_mean_absolute_error: 32730670.0000 - val_mean_absolute_percentage_error: 434026.5000 - val_cosine_proximity: 1.0000\n",
      "Epoch 65/100\n",
      "6380/6380 [==============================] - 22s 3ms/step - loss: 2961.8762 - mean_squared_error: 22947552.6419 - mean_absolute_error: 2961.8762 - mean_absolute_percentage_error: 20.9992 - cosine_proximity: 1.0000 - val_loss: 36697396.0000 - val_mean_squared_error: 1869792671694848.0000 - val_mean_absolute_error: 36697396.0000 - val_mean_absolute_percentage_error: 489712.8125 - val_cosine_proximity: 1.0000\n",
      "Epoch 66/100\n",
      "6380/6380 [==============================] - 20s 3ms/step - loss: 2937.5473 - mean_squared_error: 22558323.8430 - mean_absolute_error: 2937.5473 - mean_absolute_percentage_error: 21.0403 - cosine_proximity: 1.0000 - val_loss: 36798332.0000 - val_mean_squared_error: 1889250752593920.0000 - val_mean_absolute_error: 36798332.0000 - val_mean_absolute_percentage_error: 492044.5625 - val_cosine_proximity: 1.0000\n",
      "Epoch 67/100\n",
      "6380/6380 [==============================] - 20s 3ms/step - loss: 2945.1579 - mean_squared_error: 23088883.6765 - mean_absolute_error: 2945.1579 - mean_absolute_percentage_error: 20.7576 - cosine_proximity: 1.0000 - val_loss: 37217220.0000 - val_mean_squared_error: 1916838535495680.0000 - val_mean_absolute_error: 37217220.0000 - val_mean_absolute_percentage_error: 496005.5312 - val_cosine_proximity: 1.0000\n",
      "Epoch 68/100\n",
      "6380/6380 [==============================] - 20s 3ms/step - loss: 2932.6562 - mean_squared_error: 21995982.4391 - mean_absolute_error: 2932.6562 - mean_absolute_percentage_error: 20.7865 - cosine_proximity: 1.0000 - val_loss: 30965986.0000 - val_mean_squared_error: 1292140508348416.0000 - val_mean_absolute_error: 30965986.0000 - val_mean_absolute_percentage_error: 408536.3750 - val_cosine_proximity: 1.0000\n",
      "Epoch 69/100\n",
      "6380/6380 [==============================] - 21s 3ms/step - loss: 2945.7663 - mean_squared_error: 22799780.4239 - mean_absolute_error: 2945.7663 - mean_absolute_percentage_error: 21.0811 - cosine_proximity: 1.0000 - val_loss: 34188520.0000 - val_mean_squared_error: 1599520311869440.0000 - val_mean_absolute_error: 34188520.0000 - val_mean_absolute_percentage_error: 453752.3125 - val_cosine_proximity: 1.0000\n",
      "Epoch 70/100\n",
      "6380/6380 [==============================] - 24s 4ms/step - loss: 2944.7575 - mean_squared_error: 23114008.4531 - mean_absolute_error: 2944.7575 - mean_absolute_percentage_error: 20.8746 - cosine_proximity: 1.0000 - val_loss: 40136444.0000 - val_mean_squared_error: 2252575055282176.0000 - val_mean_absolute_error: 40136444.0000 - val_mean_absolute_percentage_error: 536881.3125 - val_cosine_proximity: 1.0000\n",
      "Epoch 71/100\n",
      "6380/6380 [==============================] - 24s 4ms/step - loss: 2956.5866 - mean_squared_error: 22480594.0914 - mean_absolute_error: 2956.5866 - mean_absolute_percentage_error: 20.8938 - cosine_proximity: 1.0000 - val_loss: 33156364.0000 - val_mean_squared_error: 1494344615854080.0000 - val_mean_absolute_error: 33156364.0000 - val_mean_absolute_percentage_error: 439009.0312 - val_cosine_proximity: 1.0000\n",
      "Epoch 72/100\n",
      "6380/6380 [==============================] - 21s 3ms/step - loss: 2957.7480 - mean_squared_error: 22953542.0754 - mean_absolute_error: 2957.7480 - mean_absolute_percentage_error: 20.9241 - cosine_proximity: 1.0000 - val_loss: 36010184.0000 - val_mean_squared_error: 1801960642576384.0000 - val_mean_absolute_error: 36010184.0000 - val_mean_absolute_percentage_error: 480374.8750 - val_cosine_proximity: 1.0000\n",
      "Epoch 73/100\n",
      "6380/6380 [==============================] - 20s 3ms/step - loss: 2945.0047 - mean_squared_error: 22948261.1876 - mean_absolute_error: 2945.0047 - mean_absolute_percentage_error: 20.9433 - cosine_proximity: 1.0000 - val_loss: 29080180.0000 - val_mean_squared_error: 1162498531131392.0000 - val_mean_absolute_error: 29080180.0000 - val_mean_absolute_percentage_error: 387088.6250 - val_cosine_proximity: 1.0000\n",
      "Epoch 74/100\n",
      "6380/6380 [==============================] - 20s 3ms/step - loss: 2941.1534 - mean_squared_error: 22450251.8254 - mean_absolute_error: 2941.1534 - mean_absolute_percentage_error: 20.8149 - cosine_proximity: 1.0000 - val_loss: 34322968.0000 - val_mean_squared_error: 1653993516302336.0000 - val_mean_absolute_error: 34322968.0000 - val_mean_absolute_percentage_error: 460076.5938 - val_cosine_proximity: 1.0000\n",
      "Epoch 75/100\n",
      "6380/6380 [==============================] - 20s 3ms/step - loss: 2946.4313 - mean_squared_error: 22665282.1674 - mean_absolute_error: 2946.4313 - mean_absolute_percentage_error: 20.9027 - cosine_proximity: 1.0000 - val_loss: 34723124.0000 - val_mean_squared_error: 1683608121114624.0000 - val_mean_absolute_error: 34723124.0000 - val_mean_absolute_percentage_error: 464650.5625 - val_cosine_proximity: 1.0000\n",
      "Epoch 76/100\n",
      "6380/6380 [==============================] - 21s 3ms/step - loss: 2943.7676 - mean_squared_error: 22527130.4894 - mean_absolute_error: 2943.7676 - mean_absolute_percentage_error: 20.9238 - cosine_proximity: 1.0000 - val_loss: 38903660.0000 - val_mean_squared_error: 2126990345764864.0000 - val_mean_absolute_error: 38903660.0000 - val_mean_absolute_percentage_error: 521706.0312 - val_cosine_proximity: 1.0000\n",
      "Epoch 77/100\n",
      "6380/6380 [==============================] - 21s 3ms/step - loss: 2929.8794 - mean_squared_error: 22300832.0704 - mean_absolute_error: 2929.8794 - mean_absolute_percentage_error: 20.9047 - cosine_proximity: 1.0000 - val_loss: 35637892.0000 - val_mean_squared_error: 1789918628020224.0000 - val_mean_absolute_error: 35637892.0000 - val_mean_absolute_percentage_error: 479148.8125 - val_cosine_proximity: 1.0000\n",
      "Epoch 78/100\n",
      "6380/6380 [==============================] - 20s 3ms/step - loss: 2930.1680 - mean_squared_error: 22598874.2752 - mean_absolute_error: 2930.1680 - mean_absolute_percentage_error: 20.6816 - cosine_proximity: 1.0000 - val_loss: 32911630.0000 - val_mean_squared_error: 1511164378873856.0000 - val_mean_absolute_error: 32911630.0000 - val_mean_absolute_percentage_error: 440784.9375 - val_cosine_proximity: 1.0000\n",
      "Epoch 79/100\n",
      "6380/6380 [==============================] - 20s 3ms/step - loss: 2930.0958 - mean_squared_error: 21913911.7386 - mean_absolute_error: 2930.0958 - mean_absolute_percentage_error: 20.9198 - cosine_proximity: 1.0000 - val_loss: 33005010.0000 - val_mean_squared_error: 1521691880587264.0000 - val_mean_absolute_error: 33005010.0000 - val_mean_absolute_percentage_error: 442003.2500 - val_cosine_proximity: 1.0000\n",
      "Epoch 80/100\n",
      "6380/6380 [==============================] - 20s 3ms/step - loss: 2938.8460 - mean_squared_error: 22095762.0276 - mean_absolute_error: 2938.8460 - mean_absolute_percentage_error: 20.8380 - cosine_proximity: 1.0000 - val_loss: 37327488.0000 - val_mean_squared_error: 1965364686618624.0000 - val_mean_absolute_error: 37327488.0000 - val_mean_absolute_percentage_error: 501735.3125 - val_cosine_proximity: 1.0000\n",
      "Epoch 81/100\n",
      "6380/6380 [==============================] - 20s 3ms/step - loss: 2935.0715 - mean_squared_error: 22659879.3029 - mean_absolute_error: 2935.0715 - mean_absolute_percentage_error: 20.9918 - cosine_proximity: 1.0000 - val_loss: 33993376.0000 - val_mean_squared_error: 1640307200360448.0000 - val_mean_absolute_error: 33993376.0000 - val_mean_absolute_percentage_error: 458951.7812 - val_cosine_proximity: 1.0000\n",
      "Epoch 82/100\n",
      "6380/6380 [==============================] - 21s 3ms/step - loss: 2934.6847 - mean_squared_error: 22614233.3916 - mean_absolute_error: 2934.6847 - mean_absolute_percentage_error: 20.8771 - cosine_proximity: 1.0000 - val_loss: 33904896.0000 - val_mean_squared_error: 1600950938632192.0000 - val_mean_absolute_error: 33904896.0000 - val_mean_absolute_percentage_error: 453809.9375 - val_cosine_proximity: 1.0000\n",
      "Epoch 83/100\n",
      "6380/6380 [==============================] - 20s 3ms/step - loss: 2917.5148 - mean_squared_error: 21984546.7553 - mean_absolute_error: 2917.5148 - mean_absolute_percentage_error: 20.8027 - cosine_proximity: 1.0000 - val_loss: 38089488.0000 - val_mean_squared_error: 2080482829271040.0000 - val_mean_absolute_error: 38089488.0000 - val_mean_absolute_percentage_error: 515356.2188 - val_cosine_proximity: 1.0000\n",
      "Epoch 84/100\n",
      "6380/6380 [==============================] - 20s 3ms/step - loss: 2920.9999 - mean_squared_error: 22045416.5789 - mean_absolute_error: 2920.9999 - mean_absolute_percentage_error: 20.8307 - cosine_proximity: 1.0000 - val_loss: 33647356.0000 - val_mean_squared_error: 1630823912570880.0000 - val_mean_absolute_error: 33647356.0000 - val_mean_absolute_percentage_error: 456476.5938 - val_cosine_proximity: 1.0000\n",
      "Epoch 85/100\n",
      "6380/6380 [==============================] - 20s 3ms/step - loss: 2931.6139 - mean_squared_error: 22620487.2606 - mean_absolute_error: 2931.6139 - mean_absolute_percentage_error: 20.8956 - cosine_proximity: 1.0000 - val_loss: 41366624.0000 - val_mean_squared_error: 2433036964593664.0000 - val_mean_absolute_error: 41366624.0000 - val_mean_absolute_percentage_error: 558683.5000 - val_cosine_proximity: 1.0000\n",
      "Epoch 86/100\n",
      "6380/6380 [==============================] - 20s 3ms/step - loss: 2947.0676 - mean_squared_error: 23003936.1362 - mean_absolute_error: 2947.0676 - mean_absolute_percentage_error: 20.7834 - cosine_proximity: 1.0000 - val_loss: 30985200.0000 - val_mean_squared_error: 1361138889523200.0000 - val_mean_absolute_error: 30985200.0000 - val_mean_absolute_percentage_error: 417956.1250 - val_cosine_proximity: 1.0000\n",
      "Epoch 87/100\n",
      "6380/6380 [==============================] - 20s 3ms/step - loss: 2927.4291 - mean_squared_error: 22547182.2591 - mean_absolute_error: 2927.4291 - mean_absolute_percentage_error: 20.8265 - cosine_proximity: 1.0000 - val_loss: 37988180.0000 - val_mean_squared_error: 2053417824419840.0000 - val_mean_absolute_error: 37988180.0000 - val_mean_absolute_percentage_error: 513954.6250 - val_cosine_proximity: 1.0000\n",
      "Epoch 88/100\n",
      "6380/6380 [==============================] - 22s 3ms/step - loss: 2921.9053 - mean_squared_error: 22125709.3918 - mean_absolute_error: 2921.9053 - mean_absolute_percentage_error: 20.7680 - cosine_proximity: 1.0000 - val_loss: 32555718.0000 - val_mean_squared_error: 1495348161806336.0000 - val_mean_absolute_error: 32555718.0000 - val_mean_absolute_percentage_error: 439667.1875 - val_cosine_proximity: 1.0000\n",
      "Epoch 89/100\n",
      "6380/6380 [==============================] - 20s 3ms/step - loss: 2925.1312 - mean_squared_error: 21859189.2286 - mean_absolute_error: 2925.1312 - mean_absolute_percentage_error: 20.9413 - cosine_proximity: 1.0000 - val_loss: 33065686.0000 - val_mean_squared_error: 1541674081714176.0000 - val_mean_absolute_error: 33065686.0000 - val_mean_absolute_percentage_error: 446010.1250 - val_cosine_proximity: 1.0000\n",
      "Epoch 90/100\n",
      "6380/6380 [==============================] - 20s 3ms/step - loss: 2927.9819 - mean_squared_error: 22655264.2617 - mean_absolute_error: 2927.9819 - mean_absolute_percentage_error: 20.7307 - cosine_proximity: 1.0000 - val_loss: 42874724.0000 - val_mean_squared_error: 2685003100061696.0000 - val_mean_absolute_error: 42874724.0000 - val_mean_absolute_percentage_error: 583221.9375 - val_cosine_proximity: 1.0000\n",
      "Epoch 91/100\n",
      "6380/6380 [==============================] - 20s 3ms/step - loss: 2934.3732 - mean_squared_error: 22334681.8386 - mean_absolute_error: 2934.3732 - mean_absolute_percentage_error: 20.8338 - cosine_proximity: 1.0000 - val_loss: 34372712.0000 - val_mean_squared_error: 1711986177998848.0000 - val_mean_absolute_error: 34372712.0000 - val_mean_absolute_percentage_error: 466652.0312 - val_cosine_proximity: 1.0000\n",
      "Epoch 92/100\n",
      "6380/6380 [==============================] - 20s 3ms/step - loss: 2912.0592 - mean_squared_error: 22170663.8278 - mean_absolute_error: 2912.0592 - mean_absolute_percentage_error: 20.6855 - cosine_proximity: 1.0000 - val_loss: 33238724.0000 - val_mean_squared_error: 1544414807719936.0000 - val_mean_absolute_error: 33238724.0000 - val_mean_absolute_percentage_error: 446393.3125 - val_cosine_proximity: 1.0000\n",
      "Epoch 93/100\n",
      "6380/6380 [==============================] - 20s 3ms/step - loss: 2907.2708 - mean_squared_error: 21847294.3213 - mean_absolute_error: 2907.2708 - mean_absolute_percentage_error: 20.7925 - cosine_proximity: 1.0000 - val_loss: 34042488.0000 - val_mean_squared_error: 1672695817175040.0000 - val_mean_absolute_error: 34042488.0000 - val_mean_absolute_percentage_error: 461140.6562 - val_cosine_proximity: 1.0000\n",
      "Epoch 94/100\n",
      "6380/6380 [==============================] - 21s 3ms/step - loss: 2904.0973 - mean_squared_error: 21952626.5929 - mean_absolute_error: 2904.0973 - mean_absolute_percentage_error: 20.6303 - cosine_proximity: 1.0000 - val_loss: 37526628.0000 - val_mean_squared_error: 1998527337070592.0000 - val_mean_absolute_error: 37526628.0000 - val_mean_absolute_percentage_error: 506339.5625 - val_cosine_proximity: 1.0000\n",
      "Epoch 95/100\n",
      "6380/6380 [==============================] - 20s 3ms/step - loss: 2919.3334 - mean_squared_error: 22421485.2092 - mean_absolute_error: 2919.3334 - mean_absolute_percentage_error: 20.8574 - cosine_proximity: 1.0000 - val_loss: 29335464.0000 - val_mean_squared_error: 1205530211123200.0000 - val_mean_absolute_error: 29335464.0000 - val_mean_absolute_percentage_error: 394107.8125 - val_cosine_proximity: 1.0000\n",
      "Epoch 96/100\n",
      "6380/6380 [==============================] - 20s 3ms/step - loss: 2901.2169 - mean_squared_error: 22110784.1729 - mean_absolute_error: 2901.2169 - mean_absolute_percentage_error: 20.6444 - cosine_proximity: 1.0000 - val_loss: 33901116.0000 - val_mean_squared_error: 1646144866222080.0000 - val_mean_absolute_error: 33901116.0000 - val_mean_absolute_percentage_error: 459250.6562 - val_cosine_proximity: 1.0000\n",
      "Epoch 97/100\n",
      "6380/6380 [==============================] - 20s 3ms/step - loss: 2898.8542 - mean_squared_error: 22138949.2605 - mean_absolute_error: 2898.8542 - mean_absolute_percentage_error: 20.5879 - cosine_proximity: 1.0000 - val_loss: 38522464.0000 - val_mean_squared_error: 2171352257658880.0000 - val_mean_absolute_error: 38522464.0000 - val_mean_absolute_percentage_error: 523819.3125 - val_cosine_proximity: 1.0000\n",
      "Epoch 98/100\n",
      "6380/6380 [==============================] - 20s 3ms/step - loss: 2902.8005 - mean_squared_error: 21918942.1600 - mean_absolute_error: 2902.8005 - mean_absolute_percentage_error: 20.7083 - cosine_proximity: 1.0000 - val_loss: 33765320.0000 - val_mean_squared_error: 1647183040348160.0000 - val_mean_absolute_error: 33765320.0000 - val_mean_absolute_percentage_error: 457115.6250 - val_cosine_proximity: 1.0000\n",
      "Epoch 99/100\n",
      "6380/6380 [==============================] - 20s 3ms/step - loss: 2904.1118 - mean_squared_error: 21972236.3570 - mean_absolute_error: 2904.1118 - mean_absolute_percentage_error: 20.7068 - cosine_proximity: 1.0000 - val_loss: 34274060.0000 - val_mean_squared_error: 1689456524394496.0000 - val_mean_absolute_error: 34274060.0000 - val_mean_absolute_percentage_error: 463276.2188 - val_cosine_proximity: 1.0000\n",
      "Epoch 100/100\n",
      "6380/6380 [==============================] - 21s 3ms/step - loss: 2917.1579 - mean_squared_error: 21941474.0559 - mean_absolute_error: 2917.1579 - mean_absolute_percentage_error: 20.8018 - cosine_proximity: 1.0000 - val_loss: 32931048.0000 - val_mean_squared_error: 1555040825245696.0000 - val_mean_absolute_error: 32931048.0000 - val_mean_absolute_percentage_error: 444518.0000 - val_cosine_proximity: 1.0000\n"
     ]
    }
   ],
   "source": [
    "t0 = perf_counter()\n",
    "\n",
    "# Create a new sequential model\n",
    "cone_model = keras.Sequential()\n",
    "\n",
    "# Add 4 dense layers with dropout 20%\n",
    "# Add dense layers\n",
    "cone_model.add(layers.Dense(300, activation='relu'))\n",
    "cone_model.add(layers.Dropout(0.2))\n",
    "cone_model.add(layers.Dense(200, activation='relu'))\n",
    "cone_model.add(layers.Dropout(0.2))\n",
    "cone_model.add(layers.Dense(100, activation='relu'))\n",
    "cone_model.add(layers.Dropout(0.2))\n",
    "cone_model.add(layers.Dense(50, activation='relu'))\n",
    "cone_model.add(layers.Dropout(0.2))\n",
    "\n",
    "\n",
    "# Output layer\n",
    "cone_model.add(layers.Dense(1))\n",
    "\n",
    "# Compile the model\n",
    "cone_model.compile(\n",
    "    # Optimizer\n",
    "    optimizer=keras.optimizers.Adam(),  \n",
    "    # Loss function to minimize\n",
    "    loss=keras.losses.MeanAbsoluteError(),\n",
    "    metrics=['mean_squared_error', 'mean_absolute_error', 'mean_absolute_percentage_error', 'cosine_proximity']\n",
    ")\n",
    "\n",
    "\n",
    "# Train the model\n",
    "history_cone = cone_model.fit(X_train, \n",
    "                    y_train, \n",
    "                    epochs=100, \n",
    "                    verbose=1, \n",
    "                    # Pass in a validation data set to test each epoch.\n",
    "                    validation_data=(X_val, y_val)) \n",
    "t1 = perf_counter()\n",
    "time_taken = t1 - t0"
   ]
  },
  {
   "cell_type": "code",
   "execution_count": 35,
   "metadata": {},
   "outputs": [
    {
     "name": "stdout",
     "output_type": "stream",
     "text": [
      "Train Loss: 3082.6646\n",
      "Val Loss: 32931048.0000\n"
     ]
    }
   ],
   "source": [
    "# Evaluate the model using the test data and generate predictions\n",
    "train_loss = history.history[\"loss\"][-1]\n",
    "result = cone_model.evaluate(X_val, y_val, verbose=0)\n",
    "\n",
    "print(f\"Train Loss: {train_loss:.4f}\")\n",
    "print(f\"Val Loss: {result[0]:.4f}\")"
   ]
  },
  {
   "cell_type": "code",
   "execution_count": 82,
   "metadata": {},
   "outputs": [
    {
     "data": {
      "text/plain": [
       "2026.5737467"
      ]
     },
     "execution_count": 82,
     "metadata": {},
     "output_type": "execute_result"
    }
   ],
   "source": [
    "time_taken"
   ]
  },
  {
   "cell_type": "code",
   "execution_count": 103,
   "metadata": {},
   "outputs": [
    {
     "name": "stdout",
     "output_type": "stream",
     "text": [
      "Neural Network R2 score for val set:  -12616567.623048631\n",
      "Neural Network MAE for val set: 38846402.43697956\n",
      "Neural Network RMSE for val set: 45133563.85264738\n",
      "Neural Network MSE for val set: 2037038586040998.2\n"
     ]
    }
   ],
   "source": [
    "cone_model_predict = cone_model.predict(X_val)\n",
    "\n",
    "\n",
    "cone_model_r2= r2_score(y_val,cone_model_predict)\n",
    "\n",
    "cone_model_mse = mean_squared_error(y_val, cone_model_predict)\n",
    "cone_model_mae = mean_absolute_error(y_val, cone_model_predict)\n",
    "cone_model_rmse = sqrt(mean_squared_error(y_val, cone_model_predict))\n",
    "\n",
    "model_score = model_score.append(pd.DataFrame({'r2':[cone_model_r2], 'mae':[cone_model_mae],'rmse':[cone_model_rmse], 'mse': [cone_model_mse],\n",
    "                                               'run_time':[(time_taken)/60]},\n",
    "                                               index = ['Neural Network 4 hidden layers having drop out rate of 20% and structure as cone']))\n",
    "# Evaluate\n",
    "print(f\"Neural Network R2 score for val set:  {cone_model_r2}\")\n",
    "print(f\"Neural Network MAE for val set: {cone_model_mae}\")\n",
    "print(f\"Neural Network RMSE for val set: {cone_model_rmse}\" )\n",
    "print(f\"Neural Network MSE for val set: {cone_model_mse}\")"
   ]
  },
  {
   "cell_type": "code",
   "execution_count": 39,
   "metadata": {},
   "outputs": [
    {
     "data": {
      "image/png": "[encoded data removed]",
      "text/plain": [
       "<Figure size 432x288 with 1 Axes>"
      ]
     },
     "metadata": {
      "needs_background": "light"
     },
     "output_type": "display_data"
    }
   ],
   "source": [
    "pyplot.plot(history.history['mean_absolute_error'])\n",
    "#pyplot.plot(history.history['mean_squared_error'])\n",
    "#pyplot.plot(history.history['val_mean_absolute_error'])\n",
    "#pyplot.plot(history.history['val_mean_absolute_percentage_error'])\n",
    "pyplot.show()"
   ]
  },
  {
   "cell_type": "code",
   "execution_count": null,
   "metadata": {},
   "outputs": [],
   "source": []
  },
  {
   "cell_type": "code",
   "execution_count": 50,
   "metadata": {},
   "outputs": [],
   "source": [
    "# Sequential model\n",
    "\n",
    "cone3_model = keras.Sequential()\n",
    "\n",
    "\n",
    "# Add 6 dense layers with dropout 10%\n",
    "# Add dense layers\n",
    "cone3_model.add(layers.Dense(350, activation='relu'))\n",
    "cone3_model.add(layers.Dropout(0.1))\n",
    "cone3_model.add(layers.Dense(300, activation='relu'))\n",
    "cone3_model.add(layers.Dropout(0.1))\n",
    "cone3_model.add(layers.Dense(200, activation='relu'))\n",
    "cone3_model.add(layers.Dropout(0.1))\n",
    "cone3_model.add(layers.Dense(100, activation='relu'))\n",
    "cone3_model.add(layers.Dropout(0.1))\n",
    "cone3_model.add(layers.Dense(50, activation='relu'))\n",
    "cone3_model.add(layers.Dropout(0.1))\n",
    "cone3_model.add(layers.Dense(25, activation='relu'))\n",
    "cone3_model.add(layers.Dropout(0.1))\n",
    "\n",
    "# Output layer\n",
    "cone3_model.add(layers.Dense(1))\n",
    "\n",
    "# Compile the model\n",
    "cone3_model.compile(\n",
    "    # Optimizer\n",
    "    optimizer=keras.optimizers.Adam(),  \n",
    "    # Loss function to minimize\n",
    "    loss=keras.losses.MeanSquaredError(),\n",
    "    metrics= keras.metrics.MeanSquaredError()\n",
    ")"
   ]
  },
  {
   "cell_type": "code",
   "execution_count": 108,
   "metadata": {},
   "outputs": [
    {
     "name": "stdout",
     "output_type": "stream",
     "text": [
      "Train Loss: 15569038.0000\n",
      "Val Loss: 5802057361522688.0000\n",
      "Train Loss: 15569038.0000\n",
      "Val Loss: 5802057361522688.0000\n",
      "Train Loss: 15569038.0000\n",
      "Val Loss: 5802057361522688.0000\n",
      "Train Loss: 15569038.0000\n",
      "Val Loss: 5802057361522688.0000\n",
      "Train Loss: 15569038.0000\n",
      "Val Loss: 5802057361522688.0000\n",
      "Train Loss: 15569038.0000\n",
      "Val Loss: 5802057361522688.0000\n",
      "Train Loss: 15569038.0000\n",
      "Val Loss: 5802057361522688.0000\n",
      "Train Loss: 15569038.0000\n",
      "Val Loss: 5802057361522688.0000\n",
      "1.96 s ± 162 ms per loop (mean ± std. dev. of 7 runs, 1 loop each)\n"
     ]
    }
   ],
   "source": [
    "%%timeit\n",
    "# Evaluate the model using the test data and generate predictions\n",
    "cone3_train_loss = history_cone3.history[\"loss\"][-1]\n",
    "cone3_result = cone3_model.evaluate(X_val, y_val, verbose=0)\n",
    "\n",
    "print(f\"Train Loss: {cone3_train_loss:.4f}\")\n",
    "print(f\"Val Loss: {cone3_result[0]:.4f}\")\n",
    "\n",
    "y_pred_cone3 = cone2_model.predict(X_val)"
   ]
  },
  {
   "cell_type": "code",
   "execution_count": 110,
   "metadata": {},
   "outputs": [
    {
     "name": "stdout",
     "output_type": "stream",
     "text": [
      "Neural Network R2 score for val set:  -35935538.06025182\n",
      "Neural Network MAE for val set: 68430519.4393503\n",
      "Neural Network RMSE for val set: 76171250.01422517\n",
      "Neural Network MSE for val set: 5802059328729597.0\n"
     ]
    }
   ],
   "source": [
    "cone3_model_predict = cone3_model.predict(X_val)\n",
    "\n",
    "\n",
    "cone3_model_r2= r2_score(y_val,cone3_model_predict)\n",
    "\n",
    "cone3_model_mse = mean_squared_error(y_val, cone3_model_predict)\n",
    "cone3_model_mae = mean_absolute_error(y_val, cone3_model_predict)\n",
    "cone3_model_rmse = sqrt(mean_squared_error(y_val, cone3_model_predict))\n",
    "\n",
    "model_score = model_score.append(pd.DataFrame({'r2':[cone3_model_r2], 'mae':[cone3_model_mae],'rmse':[cone3_model_rmse], 'mse': [cone3_model_mse]},\n",
    "                                               index = ['Neural Network 6 hidden layers having drop out rate of 10% and structure shape as cone']))\n",
    "# Evaluate\n",
    "print(f\"Neural Network R2 score for val set:  {cone3_model_r2}\")\n",
    "print(f\"Neural Network MAE for val set: {cone3_model_mae}\")\n",
    "print(f\"Neural Network RMSE for val set: {cone3_model_rmse}\" )\n",
    "print(f\"Neural Network MSE for val set: {cone3_model_mse}\")"
   ]
  },
  {
   "cell_type": "code",
   "execution_count": null,
   "metadata": {},
   "outputs": [],
   "source": []
  },
  {
   "cell_type": "code",
   "execution_count": null,
   "metadata": {},
   "outputs": [],
   "source": []
  },
  {
   "cell_type": "code",
   "execution_count": 61,
   "metadata": {},
   "outputs": [],
   "source": [
    "# Sequential model\n",
    "\n",
    "cone4_model = keras.Sequential()\n",
    "\n",
    "\n",
    "# Add dense layers with dropout \n",
    "#Neural Network 6 hidden layers having drop out rate of 10%, starting from 100 and structure shape as cone\n",
    "# Add dense layers\n",
    "cone4_model.add(layers.Dense(100, activation='relu'))\n",
    "cone4_model.add(layers.Dropout(0.1))\n",
    "cone4_model.add(layers.Dense(80, activation='relu'))\n",
    "cone4_model.add(layers.Dropout(0.1))\n",
    "cone4_model.add(layers.Dense(60, activation='relu'))\n",
    "cone4_model.add(layers.Dropout(0.1))\n",
    "cone4_model.add(layers.Dense(40, activation='relu'))\n",
    "cone4_model.add(layers.Dropout(0.1))\n",
    "cone4_model.add(layers.Dense(20, activation='relu'))\n",
    "cone4_model.add(layers.Dropout(0.1))\n",
    "cone4_model.add(layers.Dense(10, activation='relu'))\n",
    "cone4_model.add(layers.Dropout(0.1))\n",
    "\n",
    "# Output layer\n",
    "cone4_model.add(layers.Dense(1))\n",
    "\n",
    "# Compile the model\n",
    "cone4_model.compile(\n",
    "    # Optimizer\n",
    "    optimizer=keras.optimizers.Adam(),  \n",
    "    # Loss function to minimize\n",
    "    loss=keras.losses.MeanSquaredError(),\n",
    "    metrics= keras.metrics.MeanSquaredError()\n",
    ")"
   ]
  },
  {
   "cell_type": "code",
   "execution_count": 57,
   "metadata": {},
   "outputs": [
    {
     "name": "stdout",
     "output_type": "stream",
     "text": [
      "Epoch 1/100\n",
      "Epoch 2/100\n",
      "Epoch 3/100\n",
      "Epoch 4/100\n",
      "Epoch 5/100\n",
      "Epoch 6/100\n",
      "Epoch 7/100\n",
      "Epoch 8/100\n",
      "Epoch 9/100\n",
      "Epoch 10/100\n",
      "Epoch 11/100\n",
      "Epoch 12/100\n",
      "Epoch 13/100\n",
      "Epoch 14/100\n",
      "Epoch 15/100\n",
      "Epoch 16/100\n",
      "Epoch 17/100\n",
      "Epoch 18/100\n",
      "Epoch 19/100\n",
      "Epoch 20/100\n",
      "Epoch 21/100\n",
      "Epoch 22/100\n",
      "Epoch 23/100\n",
      "Epoch 24/100\n",
      "Epoch 25/100\n",
      "Epoch 26/100\n",
      "Epoch 27/100\n",
      "Epoch 28/100\n",
      "Epoch 29/100\n",
      "Epoch 30/100\n",
      "Epoch 31/100\n",
      "Epoch 32/100\n",
      "Epoch 33/100\n",
      "Epoch 34/100\n",
      "Epoch 35/100\n",
      "Epoch 36/100\n",
      "Epoch 37/100\n",
      "Epoch 38/100\n",
      "Epoch 39/100\n",
      "Epoch 40/100\n",
      "Epoch 41/100\n",
      "Epoch 42/100\n",
      "Epoch 43/100\n",
      "Epoch 44/100\n",
      "Epoch 45/100\n",
      "Epoch 46/100\n",
      "Epoch 47/100\n",
      "Epoch 48/100\n",
      "Epoch 49/100\n",
      "Epoch 50/100\n",
      "Epoch 51/100\n",
      "Epoch 52/100\n",
      "Epoch 53/100\n",
      "Epoch 54/100\n",
      "Epoch 55/100\n",
      "Epoch 56/100\n",
      "Epoch 57/100\n",
      "Epoch 58/100\n",
      "Epoch 59/100\n",
      "Epoch 60/100\n",
      "Epoch 61/100\n",
      "Epoch 62/100\n",
      "Epoch 63/100\n",
      "Epoch 64/100\n",
      "Epoch 65/100\n",
      "Epoch 66/100\n",
      "Epoch 67/100\n",
      "Epoch 68/100\n",
      "Epoch 69/100\n",
      "Epoch 70/100\n",
      "Epoch 71/100\n",
      "Epoch 72/100\n",
      "Epoch 73/100\n",
      "Epoch 74/100\n",
      "Epoch 75/100\n",
      "Epoch 76/100\n",
      "Epoch 77/100\n",
      "Epoch 78/100\n",
      "Epoch 79/100\n",
      "Epoch 80/100\n",
      "Epoch 81/100\n",
      "Epoch 82/100\n",
      "Epoch 83/100\n",
      "Epoch 84/100\n",
      "Epoch 85/100\n",
      "Epoch 86/100\n",
      "Epoch 87/100\n",
      "Epoch 88/100\n",
      "Epoch 89/100\n",
      "Epoch 90/100\n",
      "Epoch 91/100\n",
      "Epoch 92/100\n",
      "Epoch 93/100\n",
      "Epoch 94/100\n",
      "Epoch 95/100\n",
      "Epoch 96/100\n",
      "Epoch 97/100\n",
      "Epoch 98/100\n",
      "Epoch 99/100\n",
      "Epoch 100/100\n",
      "Wall time: 23min\n"
     ]
    }
   ],
   "source": [
    "%%time\n",
    "history_cone4 = cone4_model.fit(X_train, y_train, epochs=100, verbose=5)"
   ]
  },
  {
   "cell_type": "code",
   "execution_count": 58,
   "metadata": {},
   "outputs": [
    {
     "name": "stdout",
     "output_type": "stream",
     "text": [
      "Train Loss: 24070874.0000\n",
      "Val Loss: 957855150637056.0000\n"
     ]
    }
   ],
   "source": [
    "# Evaluate the model using the test data and generate predictions\n",
    "cone4_train_loss = history_cone4.history[\"loss\"][-1]\n",
    "cone4_result = cone4_model.evaluate(X_val, y_val, verbose=0)\n",
    "\n",
    "print(f\"Train Loss: {cone4_train_loss:.4f}\")\n",
    "print(f\"Val Loss: {cone4_result[0]:.4f}\")\n",
    "\n",
    "y_pred_cone4 = cone4_model.predict(X_val)"
   ]
  },
  {
   "cell_type": "code",
   "execution_count": 105,
   "metadata": {},
   "outputs": [
    {
     "name": "stdout",
     "output_type": "stream",
     "text": [
      "Neural Network R2 score for val set:  -5932559.2364157485\n",
      "Neural Network MAE for val set: 25945316.47253081\n",
      "Neural Network RMSE for val set: 30949246.423895244\n",
      "Neural Network MSE for val set: 957855854206992.5\n"
     ]
    }
   ],
   "source": [
    "cone4_model_r2= r2_score(y_val,y_pred_cone4)\n",
    "\n",
    "cone4_model_mse = mean_squared_error(y_val, y_pred_cone4)\n",
    "cone4_model_mae = mean_absolute_error(y_val, y_pred_cone4)\n",
    "cone4_model_rmse = sqrt(mean_squared_error(y_val, y_pred_cone4))\n",
    "\n",
    "model_score = model_score.append(pd.DataFrame({'r2':[cone4_model_r2], 'mae':[cone4_model_mae],'rmse':[cone4_model_rmse], 'mse': [cone4_model_mse]},\n",
    "                                               index = ['Neural Network 6 hidden layers having drop out rate of 10%, starting from 100 and structure shape as cone']))\n",
    "# Evaluate\n",
    "print(f\"Neural Network R2 score for val set:  {cone4_model_r2}\")\n",
    "print(f\"Neural Network MAE for val set: {cone4_model_mae}\")\n",
    "print(f\"Neural Network RMSE for val set: {cone4_model_rmse}\" )\n",
    "print(f\"Neural Network MSE for val set: {cone4_model_mse}\")"
   ]
  },
  {
   "cell_type": "code",
   "execution_count": 59,
   "metadata": {},
   "outputs": [
    {
     "data": {
      "text/plain": [
       "array([[ 6261029.5],\n",
       "       [50954116. ],\n",
       "       [37271760. ],\n",
       "       ...,\n",
       "       [10722392. ],\n",
       "       [11226592. ],\n",
       "       [ 8659778. ]], dtype=float32)"
      ]
     },
     "execution_count": 59,
     "metadata": {},
     "output_type": "execute_result"
    }
   ],
   "source": [
    "y_pred_cone4"
   ]
  },
  {
   "cell_type": "code",
   "execution_count": 62,
   "metadata": {},
   "outputs": [
    {
     "data": {
      "text/plain": [
       "-5932559.2364157485"
      ]
     },
     "execution_count": 62,
     "metadata": {},
     "output_type": "execute_result"
    }
   ],
   "source": [
    "r2_score(y_val,y_pred_cone4)"
   ]
  },
  {
   "cell_type": "code",
   "execution_count": 106,
   "metadata": {},
   "outputs": [
    {
     "data": {
      "text/html": [
       "<div>\n",
       "<style scoped>\n",
       "    .dataframe tbody tr th:only-of-type {\n",
       "        vertical-align: middle;\n",
       "    }\n",
       "\n",
       "    .dataframe tbody tr th {\n",
       "        vertical-align: top;\n",
       "    }\n",
       "\n",
       "    .dataframe thead th {\n",
       "        text-align: right;\n",
       "    }\n",
       "</style>\n",
       "<table border=\"1\" class=\"dataframe\">\n",
       "  <thead>\n",
       "    <tr style=\"text-align: right;\">\n",
       "      <th></th>\n",
       "      <th>r2</th>\n",
       "      <th>mae</th>\n",
       "      <th>rmse</th>\n",
       "      <th>mse</th>\n",
       "      <th>run_time</th>\n",
       "    </tr>\n",
       "  </thead>\n",
       "  <tbody>\n",
       "    <tr>\n",
       "      <th>Neural Network 10 hidden layers having drop out rate of 10% and structure as diamond</th>\n",
       "      <td>-8.789971e+04</td>\n",
       "      <td>3.215564e+06</td>\n",
       "      <td>3.767257e+06</td>\n",
       "      <td>1.419222e+13</td>\n",
       "      <td>NaN</td>\n",
       "    </tr>\n",
       "    <tr>\n",
       "      <th>Neural Network 4 hidden layers having drop out rate of 20% and structure as cone</th>\n",
       "      <td>-1.261657e+07</td>\n",
       "      <td>3.884640e+07</td>\n",
       "      <td>4.513356e+07</td>\n",
       "      <td>2.037039e+15</td>\n",
       "      <td>33.776229</td>\n",
       "    </tr>\n",
       "    <tr>\n",
       "      <th>Neural Network 6 hidden layers having drop out rate of 10% and structure shape as cone</th>\n",
       "      <td>-3.593554e+07</td>\n",
       "      <td>6.843052e+07</td>\n",
       "      <td>7.617125e+07</td>\n",
       "      <td>5.802059e+15</td>\n",
       "      <td>NaN</td>\n",
       "    </tr>\n",
       "    <tr>\n",
       "      <th>Neural Network 6 hidden layers having drop out rate of 10%, starting from 100 and structure shape as cone</th>\n",
       "      <td>-5.932559e+06</td>\n",
       "      <td>2.594532e+07</td>\n",
       "      <td>3.094925e+07</td>\n",
       "      <td>9.578559e+14</td>\n",
       "      <td>NaN</td>\n",
       "    </tr>\n",
       "  </tbody>\n",
       "</table>\n",
       "</div>"
      ],
      "text/plain": [
       "                                                              r2  \\\n",
       "Neural Network 10 hidden layers having drop out... -8.789971e+04   \n",
       "Neural Network 4 hidden layers having drop out ... -1.261657e+07   \n",
       "Neural Network 6 hidden layers having drop out ... -3.593554e+07   \n",
       "Neural Network 6 hidden layers having drop out ... -5.932559e+06   \n",
       "\n",
       "                                                             mae  \\\n",
       "Neural Network 10 hidden layers having drop out...  3.215564e+06   \n",
       "Neural Network 4 hidden layers having drop out ...  3.884640e+07   \n",
       "Neural Network 6 hidden layers having drop out ...  6.843052e+07   \n",
       "Neural Network 6 hidden layers having drop out ...  2.594532e+07   \n",
       "\n",
       "                                                            rmse  \\\n",
       "Neural Network 10 hidden layers having drop out...  3.767257e+06   \n",
       "Neural Network 4 hidden layers having drop out ...  4.513356e+07   \n",
       "Neural Network 6 hidden layers having drop out ...  7.617125e+07   \n",
       "Neural Network 6 hidden layers having drop out ...  3.094925e+07   \n",
       "\n",
       "                                                             mse   run_time  \n",
       "Neural Network 10 hidden layers having drop out...  1.419222e+13        NaN  \n",
       "Neural Network 4 hidden layers having drop out ...  2.037039e+15  33.776229  \n",
       "Neural Network 6 hidden layers having drop out ...  5.802059e+15        NaN  \n",
       "Neural Network 6 hidden layers having drop out ...  9.578559e+14        NaN  "
      ]
     },
     "execution_count": 106,
     "metadata": {},
     "output_type": "execute_result"
    }
   ],
   "source": [
    "model_score"
   ]
  },
  {
   "cell_type": "code",
   "execution_count": 107,
   "metadata": {},
   "outputs": [],
   "source": [
    "model_score.to_csv('data/model_scores.csv', mode='a', index=False, header=False)"
   ]
  },
  {
   "cell_type": "code",
   "execution_count": null,
   "metadata": {},
   "outputs": [],
   "source": []
  }
 ],
 "metadata": {
  "kernelspec": {
   "display_name": "deeplearning",
   "language": "python",
   "name": "deeplearning"
  },
  "language_info": {
   "codemirror_mode": {
    "name": "ipython",
    "version": 3
   },
   "file_extension": ".py",
   "mimetype": "text/x-python",
   "name": "python",
   "nbconvert_exporter": "python",
   "pygments_lexer": "ipython3",
   "version": "3.8.5"
  }
 },
 "nbformat": 4,
 "nbformat_minor": 4
}
