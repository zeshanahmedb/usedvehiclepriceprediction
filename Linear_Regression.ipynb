{
 "cells": [
  {
   "cell_type": "code",
   "execution_count": 1,
   "metadata": {},
   "outputs": [],
   "source": [
    "import pandas as pd\n",
    "import time\n",
    "from time import perf_counter"
   ]
  },
  {
   "cell_type": "code",
   "execution_count": 2,
   "metadata": {},
   "outputs": [],
   "source": [
    "X_train = pd.read_csv('data/X_train.csv', index_col=0) \n",
    "X_test = pd.read_csv('data/X_test.csv', index_col=0) \n",
    "X_val = pd.read_csv('data/X_val.csv', index_col=0) \n",
    "y_train = pd.read_csv('data/y_train.csv', index_col=0) \n",
    "y_test = pd.read_csv('data/y_test.csv', index_col=0)\n",
    "y_val = pd.read_csv('data/y_val.csv', index_col=0)"
   ]
  },
  {
   "cell_type": "code",
   "execution_count": 3,
   "metadata": {},
   "outputs": [],
   "source": [
    "y_train = y_train.iloc[:, 0]\n",
    "y_val = y_val.iloc[:, 0]\n",
    "y_test = y_test.iloc[:, 0]"
   ]
  },
  {
   "cell_type": "code",
   "execution_count": 4,
   "metadata": {},
   "outputs": [
    {
     "data": {
      "text/html": [
       "<div>\n",
       "<style scoped>\n",
       "    .dataframe tbody tr th:only-of-type {\n",
       "        vertical-align: middle;\n",
       "    }\n",
       "\n",
       "    .dataframe tbody tr th {\n",
       "        vertical-align: top;\n",
       "    }\n",
       "\n",
       "    .dataframe thead th {\n",
       "        text-align: right;\n",
       "    }\n",
       "</style>\n",
       "<table border=\"1\" class=\"dataframe\">\n",
       "  <thead>\n",
       "    <tr style=\"text-align: right;\">\n",
       "      <th></th>\n",
       "      <th>year</th>\n",
       "      <th>cylinders</th>\n",
       "      <th>odometer</th>\n",
       "      <th>description</th>\n",
       "      <th>lat</th>\n",
       "      <th>long</th>\n",
       "      <th>posting_weekday</th>\n",
       "      <th>posting_month</th>\n",
       "      <th>posting_year</th>\n",
       "      <th>condition_excellent</th>\n",
       "      <th>...</th>\n",
       "      <th>car_model_volkswagen passat</th>\n",
       "      <th>car_model_volkswagen tiguan</th>\n",
       "      <th>car_model_volvo s60</th>\n",
       "      <th>car_model_volvo xc60</th>\n",
       "      <th>car_model_volvo xc70</th>\n",
       "      <th>car_model_volvo xc90</th>\n",
       "      <th>state_midwest</th>\n",
       "      <th>state_northeast</th>\n",
       "      <th>state_south</th>\n",
       "      <th>state_west</th>\n",
       "    </tr>\n",
       "  </thead>\n",
       "  <tbody>\n",
       "    <tr>\n",
       "      <th>322098</th>\n",
       "      <td>2017.0</td>\n",
       "      <td>8</td>\n",
       "      <td>74863.0</td>\n",
       "      <td>LANDERS MOTORS:Landers Motors(503) 381-6150415...</td>\n",
       "      <td>45.519861</td>\n",
       "      <td>-122.434111</td>\n",
       "      <td>3</td>\n",
       "      <td>11</td>\n",
       "      <td>2020</td>\n",
       "      <td>0</td>\n",
       "      <td>...</td>\n",
       "      <td>0</td>\n",
       "      <td>0</td>\n",
       "      <td>0</td>\n",
       "      <td>0</td>\n",
       "      <td>0</td>\n",
       "      <td>0</td>\n",
       "      <td>0</td>\n",
       "      <td>0</td>\n",
       "      <td>0</td>\n",
       "      <td>1</td>\n",
       "    </tr>\n",
       "    <tr>\n",
       "      <th>344532</th>\n",
       "      <td>2019.0</td>\n",
       "      <td>4</td>\n",
       "      <td>4142.0</td>\n",
       "      <td>Carvana is the safer way to buy a car During t...</td>\n",
       "      <td>41.400000</td>\n",
       "      <td>-75.660000</td>\n",
       "      <td>1</td>\n",
       "      <td>11</td>\n",
       "      <td>2020</td>\n",
       "      <td>0</td>\n",
       "      <td>...</td>\n",
       "      <td>0</td>\n",
       "      <td>0</td>\n",
       "      <td>0</td>\n",
       "      <td>0</td>\n",
       "      <td>0</td>\n",
       "      <td>0</td>\n",
       "      <td>0</td>\n",
       "      <td>1</td>\n",
       "      <td>0</td>\n",
       "      <td>0</td>\n",
       "    </tr>\n",
       "    <tr>\n",
       "      <th>13565</th>\n",
       "      <td>2013.0</td>\n",
       "      <td>4</td>\n",
       "      <td>61674.0</td>\n",
       "      <td>Carvana is the safer way to buy a car During t...</td>\n",
       "      <td>34.620000</td>\n",
       "      <td>-112.420000</td>\n",
       "      <td>3</td>\n",
       "      <td>11</td>\n",
       "      <td>2020</td>\n",
       "      <td>0</td>\n",
       "      <td>...</td>\n",
       "      <td>0</td>\n",
       "      <td>0</td>\n",
       "      <td>0</td>\n",
       "      <td>0</td>\n",
       "      <td>0</td>\n",
       "      <td>0</td>\n",
       "      <td>0</td>\n",
       "      <td>0</td>\n",
       "      <td>0</td>\n",
       "      <td>1</td>\n",
       "    </tr>\n",
       "  </tbody>\n",
       "</table>\n",
       "<p>3 rows × 351 columns</p>\n",
       "</div>"
      ],
      "text/plain": [
       "          year  cylinders  odometer  \\\n",
       "322098  2017.0          8   74863.0   \n",
       "344532  2019.0          4    4142.0   \n",
       "13565   2013.0          4   61674.0   \n",
       "\n",
       "                                              description        lat  \\\n",
       "322098  LANDERS MOTORS:Landers Motors(503) 381-6150415...  45.519861   \n",
       "344532  Carvana is the safer way to buy a car During t...  41.400000   \n",
       "13565   Carvana is the safer way to buy a car During t...  34.620000   \n",
       "\n",
       "              long  posting_weekday  posting_month  posting_year  \\\n",
       "322098 -122.434111                3             11          2020   \n",
       "344532  -75.660000                1             11          2020   \n",
       "13565  -112.420000                3             11          2020   \n",
       "\n",
       "        condition_excellent  ...  car_model_volkswagen passat  \\\n",
       "322098                    0  ...                            0   \n",
       "344532                    0  ...                            0   \n",
       "13565                     0  ...                            0   \n",
       "\n",
       "        car_model_volkswagen tiguan  car_model_volvo s60  \\\n",
       "322098                            0                    0   \n",
       "344532                            0                    0   \n",
       "13565                             0                    0   \n",
       "\n",
       "        car_model_volvo xc60  car_model_volvo xc70  car_model_volvo xc90  \\\n",
       "322098                     0                     0                     0   \n",
       "344532                     0                     0                     0   \n",
       "13565                      0                     0                     0   \n",
       "\n",
       "        state_midwest  state_northeast  state_south  state_west  \n",
       "322098              0                0            0           1  \n",
       "344532              0                1            0           0  \n",
       "13565               0                0            0           1  \n",
       "\n",
       "[3 rows x 351 columns]"
      ]
     },
     "execution_count": 4,
     "metadata": {},
     "output_type": "execute_result"
    }
   ],
   "source": [
    "X_train.head(3)"
   ]
  },
  {
   "cell_type": "code",
   "execution_count": 5,
   "metadata": {},
   "outputs": [],
   "source": [
    "X_train.drop(['description'], axis = 1, inplace = True)\n",
    "X_val.drop(['description'], axis = 1, inplace = True)\n",
    "X_test.drop(['description'], axis = 1, inplace = True)"
   ]
  },
  {
   "cell_type": "code",
   "execution_count": 6,
   "metadata": {},
   "outputs": [],
   "source": [
    "index = X_train.columns\n",
    "model_score = pd.DataFrame(columns=('r2', 'mae','rmse', 'mse', 'run_time' ))"
   ]
  },
  {
   "cell_type": "code",
   "execution_count": 7,
   "metadata": {},
   "outputs": [
    {
     "name": "stdout",
     "output_type": "stream",
     "text": [
      "X_train Shape: (204156, 350)\n",
      "y_train Shape: (204156,)\n",
      "X_test Shape: (63799, 350)\n",
      "y_test Shape: (63799,)\n",
      "X_val Shape: (51039, 350)\n",
      "y_val Shape: (51039,)\n"
     ]
    }
   ],
   "source": [
    "#analyzing shape to find if there any discrepancy before starting to model\n",
    "print(f'X_train Shape: {X_train.shape}')\n",
    "print(f'y_train Shape: {y_train.shape}')\n",
    "print(f'X_test Shape: {X_test.shape}') \n",
    "print(f'y_test Shape: {y_test.shape}') \n",
    "print(f'X_val Shape: {X_val.shape}') \n",
    "print(f'y_val Shape: {y_val.shape}')"
   ]
  },
  {
   "cell_type": "code",
   "execution_count": 8,
   "metadata": {},
   "outputs": [],
   "source": [
    "import sklearn\n",
    "from sklearn.linear_model import LinearRegression\n",
    "from sklearn.metrics import r2_score\n",
    "from sklearn import metrics\n",
    "import math \n",
    "from sklearn.metrics import mean_absolute_error\n",
    "from sklearn.metrics import mean_squared_error\n",
    "from math import sqrt"
   ]
  },
  {
   "cell_type": "code",
   "execution_count": 9,
   "metadata": {},
   "outputs": [],
   "source": [
    "from sklearn.preprocessing import StandardScaler\n",
    "# Scaling data\n",
    "scaler = StandardScaler()\n",
    "scaler.fit(X_train)\n",
    "X_train = scaler.transform(X_train)\n",
    "X_test = scaler.transform(X_test)\n",
    "X_val = scaler.transform(X_val)"
   ]
  },
  {
   "cell_type": "code",
   "execution_count": 10,
   "metadata": {},
   "outputs": [
    {
     "name": "stdout",
     "output_type": "stream",
     "text": [
      "Linear Regression R2 score for train set: 0.7966507338896778\n",
      "Linear Regression R2 score for val set:  0.7968935934751198\n",
      "Linear Regression MAE for val set: 3803.299559983011\n",
      "Linear Regression RMSE for val set: 5726.520396391912\n",
      "Linear Regression MSE for val set: 32793035.850292582\n",
      "Linear Regression runtime: 0.07852507333333326\n"
     ]
    }
   ],
   "source": [
    "t0 = perf_counter()\n",
    "lr_model = LinearRegression()\n",
    "lr_model.fit(X_train,y_train)\n",
    "lr_predict = lr_model.predict(X_val)\n",
    "\n",
    "\n",
    "lr_r2 = lr_model.score(X_val,y_val)\n",
    "lr_mse = mean_squared_error(y_val, lr_predict)\n",
    "lr_mae = mean_absolute_error(y_val, lr_predict)\n",
    "lr_rmse = sqrt(mean_squared_error(y_val, lr_predict))\n",
    "t1 = perf_counter()\n",
    "time_taken = t1 - t0\n",
    "model_score = model_score.append(pd.DataFrame({'r2':[lr_r2], 'mae':[lr_mae],'rmse':[lr_rmse], 'mse': [lr_mse],\n",
    "                                               'run_time':[(time_taken)/60]} ,index = ['Linear Regression']))\n",
    "\n",
    "\n",
    "# Evaluate\n",
    "print(f\"Linear Regression R2 score for train set: {lr_model.score(X_train, y_train)}\")\n",
    "print(f\"Linear Regression R2 score for val set:  {lr_model.score(X_val,y_val)}\")\n",
    "print(f\"Linear Regression MAE for val set: {lr_mae}\")\n",
    "print(f\"Linear Regression RMSE for val set: {lr_rmse}\" )\n",
    "print(f\"Linear Regression MSE for val set: {lr_mse}\")\n",
    "print(f\"Linear Regression runtime: {time_taken/60}\")"
   ]
  },
  {
   "cell_type": "code",
   "execution_count": 11,
   "metadata": {},
   "outputs": [],
   "source": [
    "import numpy as np \n",
    "import matplotlib.pyplot as plt\n",
    "import seaborn as sns\n",
    "color = sns.color_palette()\n",
    "%matplotlib inline"
   ]
  },
  {
   "cell_type": "code",
   "execution_count": 52,
   "metadata": {},
   "outputs": [
    {
     "data": {
      "text/plain": [
       "<matplotlib.collections.PathCollection at 0x267ba82f3a0>"
      ]
     },
     "execution_count": 52,
     "metadata": {},
     "output_type": "execute_result"
    },
    {
     "data": {
      "image/png": "[encoded data removed]",
      "text/plain": [
       "<Figure size 1080x576 with 1 Axes>"
      ]
     },
     "metadata": {
      "needs_background": "light"
     },
     "output_type": "display_data"
    }
   ],
   "source": [
    "fig, ax = plt.subplots(figsize=(15,8))\n",
    "ax.set_title('Comparison between predicted prices and actual prices in val set, linear regrssion')\n",
    "plt.scatter(y_val, lr_predict)"
   ]
  },
  {
   "cell_type": "markdown",
   "metadata": {},
   "source": [
    "We can see that linear regression model does not perform well in the dataset. To show whether it is overfitting, we calculate the score for the training set:"
   ]
  },
  {
   "cell_type": "code",
   "execution_count": 13,
   "metadata": {},
   "outputs": [
    {
     "data": {
      "text/plain": [
       "<bound method BaseEstimator.get_params of LinearRegression()>"
      ]
     },
     "execution_count": 13,
     "metadata": {},
     "output_type": "execute_result"
    }
   ],
   "source": [
    "lr_model.get_params"
   ]
  },
  {
   "cell_type": "code",
   "execution_count": 14,
   "metadata": {},
   "outputs": [
    {
     "data": {
      "text/plain": [
       "{'copy_X': True, 'fit_intercept': True, 'n_jobs': None, 'normalize': False}"
      ]
     },
     "execution_count": 14,
     "metadata": {},
     "output_type": "execute_result"
    }
   ],
   "source": [
    "lr_model.get_params()"
   ]
  },
  {
   "cell_type": "markdown",
   "metadata": {},
   "source": [
    "Parameters\n",
    "fit_interceptbool, default=True\n",
    "Whether to calculate the intercept for this model. If set to False, no intercept will be used in calculations (i.e. data is expected to be centered).\n",
    "\n",
    "normalizebool, default=False\n",
    "This parameter is ignored when fit_intercept is set to False. If True, the regressors X will be normalized before regression by subtracting the mean and dividing by the l2-norm. If you wish to standardize, please use StandardScaler before calling fit on an estimator with normalize=False.\n",
    "\n",
    "copy_Xbool, default=True\n",
    "If True, X will be copied; else, it may be overwritten.\n",
    "\n",
    "n_jobsint, default=None\n",
    "The number of jobs to use for the computation. This will only provide speedup for n_targets > 1 and sufficient large problems. None means 1 unless in a joblib.parallel_backend context. -1 means using all processors. See Glossary for more details.\n",
    "\n",
    "positivebool, default=False\n",
    "When set to True, forces the coefficients to be positive. This option is only supported for dense arrays.\n"
   ]
  },
  {
   "cell_type": "code",
   "execution_count": 40,
   "metadata": {},
   "outputs": [],
   "source": [
    "from sklearn.model_selection import GridSearchCV\n",
    "from sklearn.model_selection import RandomizedSearchCV"
   ]
  },
  {
   "cell_type": "code",
   "execution_count": 25,
   "metadata": {},
   "outputs": [],
   "source": [
    "from tempfile import mkdtemp\n",
    "from sklearn.pipeline import Pipeline\n",
    "cachedir=mkdtemp()\n",
    "\n",
    "my_pipeline = Pipeline(steps=[('model', LinearRegression())], memory=cachedir )"
   ]
  },
  {
   "cell_type": "code",
   "execution_count": 26,
   "metadata": {},
   "outputs": [
    {
     "data": {
      "text/plain": [
       "dict_keys(['memory', 'steps', 'verbose', 'model', 'model__copy_X', 'model__fit_intercept', 'model__n_jobs', 'model__normalize'])"
      ]
     },
     "execution_count": 26,
     "metadata": {},
     "output_type": "execute_result"
    }
   ],
   "source": [
    "estimator=my_pipeline\n",
    "estimator.get_params().keys()"
   ]
  },
  {
   "cell_type": "code",
   "execution_count": 33,
   "metadata": {},
   "outputs": [],
   "source": [
    "lr_params = {\"model__fit_intercept\": [True, False],\n",
    "             }"
   ]
  },
  {
   "cell_type": "code",
   "execution_count": 38,
   "metadata": {},
   "outputs": [],
   "source": [
    "#clf3 = GridSearchCV(reg, parameters, n_jobs=-1, n_iter=100)\n",
    "rs=RandomizedSearchCV(estimator, lr_params, cv=5, n_jobs=-1, verbose=20, n_iter=100)"
   ]
  },
  {
   "cell_type": "code",
   "execution_count": 39,
   "metadata": {},
   "outputs": [
    {
     "name": "stderr",
     "output_type": "stream",
     "text": [
      "C:\\Users\\zesha\\anaconda3\\lib\\site-packages\\sklearn\\model_selection\\_search.py:278: UserWarning: The total space of parameters 2 is smaller than n_iter=100. Running 2 iterations. For exhaustive searches, use GridSearchCV.\n",
      "  warnings.warn(\n",
      "[Parallel(n_jobs=-1)]: Using backend LokyBackend with 8 concurrent workers.\n"
     ]
    },
    {
     "name": "stdout",
     "output_type": "stream",
     "text": [
      "Fitting 5 folds for each of 2 candidates, totalling 10 fits\n"
     ]
    },
    {
     "name": "stderr",
     "output_type": "stream",
     "text": [
      "[Parallel(n_jobs=-1)]: Done   1 tasks      | elapsed:   22.0s\n",
      "[Parallel(n_jobs=-1)]: Done   2 out of  10 | elapsed:   22.2s remaining:  1.5min\n",
      "[Parallel(n_jobs=-1)]: Done   3 out of  10 | elapsed:   22.6s remaining:   52.9s\n",
      "[Parallel(n_jobs=-1)]: Done   4 out of  10 | elapsed:   24.5s remaining:   36.8s\n",
      "[Parallel(n_jobs=-1)]: Done   5 out of  10 | elapsed:   24.6s remaining:   24.6s\n",
      "[Parallel(n_jobs=-1)]: Done   6 out of  10 | elapsed:   27.6s remaining:   18.4s\n",
      "[Parallel(n_jobs=-1)]: Done   7 out of  10 | elapsed:   33.5s remaining:   14.3s\n",
      "[Parallel(n_jobs=-1)]: Done   8 out of  10 | elapsed:   34.0s remaining:    8.4s\n",
      "[Parallel(n_jobs=-1)]: Done  10 out of  10 | elapsed:   36.2s remaining:    0.0s\n",
      "[Parallel(n_jobs=-1)]: Done  10 out of  10 | elapsed:   36.2s finished\n"
     ]
    }
   ],
   "source": [
    "fitted_rs=rs.fit(X_train,y_train)"
   ]
  },
  {
   "cell_type": "code",
   "execution_count": 41,
   "metadata": {},
   "outputs": [
    {
     "data": {
      "text/plain": [
       "Pipeline(memory='C:\\\\Users\\\\zesha\\\\AppData\\\\Local\\\\Temp\\\\tmps8_hx5t7',\n",
       "         steps=[('model', LinearRegression())])"
      ]
     },
     "execution_count": 41,
     "metadata": {},
     "output_type": "execute_result"
    }
   ],
   "source": [
    "fitted_rs.best_estimator_"
   ]
  },
  {
   "cell_type": "code",
   "execution_count": 42,
   "metadata": {},
   "outputs": [
    {
     "name": "stdout",
     "output_type": "stream",
     "text": [
      "R2 on train set: 0.7966507338896778\n",
      "R2 on test set: 0.7968935934751198\n"
     ]
    }
   ],
   "source": [
    "print(f\"R2 on train set: {fitted_rs.score(X_train, y_train)}\")\n",
    "print(f\"R2 on test set: {fitted_rs.score(X_val, y_val)}\")"
   ]
  },
  {
   "cell_type": "code",
   "execution_count": 43,
   "metadata": {},
   "outputs": [],
   "source": [
    "lr_params = {\"model__fit_intercept\": [True, False],\n",
    "             \"model__copy_X\":[True, False]\n",
    "             }"
   ]
  },
  {
   "cell_type": "code",
   "execution_count": 45,
   "metadata": {},
   "outputs": [],
   "source": [
    "gs=GridSearchCV(estimator, lr_params, cv=5, n_jobs=-1, verbose=20)"
   ]
  },
  {
   "cell_type": "code",
   "execution_count": 53,
   "metadata": {},
   "outputs": [
    {
     "name": "stdout",
     "output_type": "stream",
     "text": [
      "Fitting 5 folds for each of 4 candidates, totalling 20 fits\n"
     ]
    },
    {
     "name": "stderr",
     "output_type": "stream",
     "text": [
      "[Parallel(n_jobs=-1)]: Using backend LokyBackend with 8 concurrent workers.\n",
      "[Parallel(n_jobs=-1)]: Done   1 tasks      | elapsed:  1.9min\n",
      "[Parallel(n_jobs=-1)]: Done   2 tasks      | elapsed:  2.1min\n",
      "[Parallel(n_jobs=-1)]: Done   3 tasks      | elapsed:  3.5min\n",
      "[Parallel(n_jobs=-1)]: Done   4 tasks      | elapsed:  3.5min\n",
      "[Parallel(n_jobs=-1)]: Done   5 tasks      | elapsed:  3.5min\n",
      "[Parallel(n_jobs=-1)]: Done   7 out of  20 | elapsed:  3.5min remaining:  6.6min\n",
      "[Parallel(n_jobs=-1)]: Done   9 out of  20 | elapsed:  3.8min remaining:  4.6min\n",
      "[Parallel(n_jobs=-1)]: Done  11 out of  20 | elapsed:  4.0min remaining:  3.3min\n",
      "[Parallel(n_jobs=-1)]: Done  13 out of  20 | elapsed:  4.2min remaining:  2.2min\n",
      "[Parallel(n_jobs=-1)]: Done  15 out of  20 | elapsed:  4.4min remaining:  1.5min\n",
      "[Parallel(n_jobs=-1)]: Done  17 out of  20 | elapsed:  4.6min remaining:   48.5s\n",
      "[Parallel(n_jobs=-1)]: Done  20 out of  20 | elapsed:  4.6min finished\n"
     ]
    }
   ],
   "source": [
    "fitted_gs=gs.fit(X_train,y_train)"
   ]
  },
  {
   "cell_type": "code",
   "execution_count": 54,
   "metadata": {},
   "outputs": [
    {
     "data": {
      "text/plain": [
       "Pipeline(memory='C:\\\\Users\\\\zesha\\\\AppData\\\\Local\\\\Temp\\\\tmps8_hx5t7',\n",
       "         steps=[('model', LinearRegression())])"
      ]
     },
     "execution_count": 54,
     "metadata": {},
     "output_type": "execute_result"
    }
   ],
   "source": [
    "fitted_gs.best_estimator_"
   ]
  },
  {
   "cell_type": "code",
   "execution_count": 55,
   "metadata": {},
   "outputs": [
    {
     "name": "stdout",
     "output_type": "stream",
     "text": [
      "R2 on train set: 0.7966507338896778\n",
      "R2 on test set: 0.7968935934751198\n"
     ]
    }
   ],
   "source": [
    "print(f\"R2 on train set: {fitted_gs.score(X_train, y_train)}\")\n",
    "print(f\"R2 on test set: {fitted_gs.score(X_val, y_val)}\")"
   ]
  },
  {
   "cell_type": "code",
   "execution_count": 49,
   "metadata": {},
   "outputs": [
    {
     "data": {
      "text/html": [
       "<div>\n",
       "<style scoped>\n",
       "    .dataframe tbody tr th:only-of-type {\n",
       "        vertical-align: middle;\n",
       "    }\n",
       "\n",
       "    .dataframe tbody tr th {\n",
       "        vertical-align: top;\n",
       "    }\n",
       "\n",
       "    .dataframe thead th {\n",
       "        text-align: right;\n",
       "    }\n",
       "</style>\n",
       "<table border=\"1\" class=\"dataframe\">\n",
       "  <thead>\n",
       "    <tr style=\"text-align: right;\">\n",
       "      <th></th>\n",
       "      <th>r2</th>\n",
       "      <th>mae</th>\n",
       "      <th>rmse</th>\n",
       "      <th>mse</th>\n",
       "      <th>run_time</th>\n",
       "    </tr>\n",
       "  </thead>\n",
       "  <tbody>\n",
       "    <tr>\n",
       "      <th>Linear Regression</th>\n",
       "      <td>0.796894</td>\n",
       "      <td>3803.29956</td>\n",
       "      <td>5726.520396</td>\n",
       "      <td>3.279304e+07</td>\n",
       "      <td>0.078525</td>\n",
       "    </tr>\n",
       "  </tbody>\n",
       "</table>\n",
       "</div>"
      ],
      "text/plain": [
       "                         r2         mae         rmse           mse  run_time\n",
       "Linear Regression  0.796894  3803.29956  5726.520396  3.279304e+07  0.078525"
      ]
     },
     "execution_count": 49,
     "metadata": {},
     "output_type": "execute_result"
    }
   ],
   "source": [
    "model_score"
   ]
  },
  {
   "cell_type": "code",
   "execution_count": 50,
   "metadata": {},
   "outputs": [],
   "source": [
    "model_score.to_csv('data/model_scores.csv')"
   ]
  },
  {
   "cell_type": "code",
   "execution_count": 57,
   "metadata": {},
   "outputs": [
    {
     "name": "stdout",
     "output_type": "stream",
     "text": [
      "R2 on test set: 0.7940986716594325\n"
     ]
    }
   ],
   "source": [
    "\n",
    "print(f\"R2 on test set: {fitted_gs.score(X_test, y_test)}\")"
   ]
  },
  {
   "cell_type": "markdown",
   "metadata": {},
   "source": [
    "This is the first model and R2 and MAE values are the highest in this model which is the reason we would not choose Linear Regression to move forward with"
   ]
  },
  {
   "cell_type": "code",
   "execution_count": null,
   "metadata": {},
   "outputs": [],
   "source": []
  }
 ],
 "metadata": {
  "kernelspec": {
   "display_name": "Python 3",
   "language": "python",
   "name": "python3"
  },
  "language_info": {
   "codemirror_mode": {
    "name": "ipython",
    "version": 3
   },
   "file_extension": ".py",
   "mimetype": "text/x-python",
   "name": "python",
   "nbconvert_exporter": "python",
   "pygments_lexer": "ipython3",
   "version": "3.8.5"
  }
 },
 "nbformat": 4,
 "nbformat_minor": 4
}
