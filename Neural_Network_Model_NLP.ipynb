{
 "cells": [
  {
   "cell_type": "code",
   "execution_count": 45,
   "metadata": {},
   "outputs": [],
   "source": [
    "import numpy as np\n",
    "import pandas as pd\n",
    "import matplotlib.pyplot as plt\n",
    "\n",
    "# Import tensorflow\n",
    "import tensorflow as tf\n",
    "from tensorflow import keras\n",
    "from tensorflow.keras import layers\n",
    "import matplotlib.pyplot as plt\n",
    "import seaborn as sns\n",
    "\n",
    "%matplotlib inline\n",
    "from sklearn.metrics import confusion_matrix\n",
    "import itertools\n",
    "from sklearn.metrics import r2_score\n",
    "from sklearn import metrics\n",
    "import math \n",
    "from sklearn.metrics import mean_absolute_error\n",
    "from sklearn.metrics import mean_squared_error\n",
    "from math import sqrt"
   ]
  },
  {
   "cell_type": "code",
   "execution_count": 65,
   "metadata": {},
   "outputs": [],
   "source": [
    "model_score = pd.DataFrame(columns=('r2', 'mae','rmse', 'mse', 'run_time' ))"
   ]
  },
  {
   "cell_type": "code",
   "execution_count": 10,
   "metadata": {},
   "outputs": [],
   "source": [
    "X_train = pd.read_csv('data/X_train_tfidf.csv', index_col=0) \n",
    "X_test = pd.read_csv('data/X_test_tfidf.csv', index_col=0) \n",
    "X_val = pd.read_csv('data/X_val_tfidf.csv', index_col=0) \n",
    "y_train = pd.read_csv('data/y_train.csv', index_col=0) \n",
    "y_test = pd.read_csv('data/y_test.csv', index_col=0)\n",
    "y_val = pd.read_csv('data/y_val.csv', index_col=0)"
   ]
  },
  {
   "cell_type": "code",
   "execution_count": 11,
   "metadata": {},
   "outputs": [],
   "source": [
    "y_train = y_train.iloc[:, 0]\n",
    "y_val = y_val.iloc[:, 0]\n",
    "y_test = y_test.iloc[:, 0]"
   ]
  },
  {
   "cell_type": "code",
   "execution_count": 12,
   "metadata": {},
   "outputs": [],
   "source": [
    "#dropping description column\n",
    "X_train.drop(['index'], axis = 1, inplace = True)\n",
    "X_val.drop(['index'], axis = 1, inplace = True)\n",
    "X_test.drop(['index'], axis = 1, inplace = True)"
   ]
  },
  {
   "cell_type": "code",
   "execution_count": 13,
   "metadata": {},
   "outputs": [],
   "source": [
    "index = X_train.columns"
   ]
  },
  {
   "cell_type": "code",
   "execution_count": 14,
   "metadata": {},
   "outputs": [
    {
     "name": "stdout",
     "output_type": "stream",
     "text": [
      "X_train Shape: (204156, 795)\n",
      "y_train Shape: (204156,)\n",
      "X_test Shape: (63799, 795)\n",
      "y_test Shape: (63799,)\n",
      "X_val Shape: (51039, 795)\n",
      "y_val Shape: (51039,)\n"
     ]
    }
   ],
   "source": [
    "#analyzing shape to find if there any discrepancy before starting to model\n",
    "print(f'X_train Shape: {X_train.shape}')\n",
    "print(f'y_train Shape: {y_train.shape}')\n",
    "print(f'X_test Shape: {X_test.shape}') \n",
    "print(f'y_test Shape: {y_test.shape}') \n",
    "print(f'X_val Shape: {X_val.shape}') \n",
    "print(f'y_val Shape: {y_val.shape}')"
   ]
  },
  {
   "cell_type": "code",
   "execution_count": 15,
   "metadata": {},
   "outputs": [],
   "source": [
    "from sklearn.preprocessing import StandardScaler\n",
    "# Scaling data\n",
    "scaler = StandardScaler()\n",
    "scaler.fit(X_train)\n",
    "X_train = scaler.transform(X_train)\n",
    "X_test = scaler.transform(X_test)\n",
    "X_val = scaler.transform(X_val)"
   ]
  },
  {
   "cell_type": "code",
   "execution_count": 16,
   "metadata": {},
   "outputs": [],
   "source": [
    "# Sequential model\n",
    "model = keras.Sequential()\n",
    "\n",
    "# Add dense layers with dropout\n",
    "model.add(layers.Dense(20, activation='relu'))\n",
    "model.add(layers.Dropout(0.1))\n",
    "model.add(layers.Dense(40, activation='relu'))\n",
    "model.add(layers.Dropout(0.1))\n",
    "model.add(layers.Dense(60, activation='relu'))\n",
    "model.add(layers.Dropout(0.1))\n",
    "model.add(layers.Dense(80, activation='relu'))\n",
    "model.add(layers.Dropout(0.1))\n",
    "model.add(layers.Dense(100, activation='relu'))\n",
    "model.add(layers.Dropout(0.1))\n",
    "model.add(layers.Dense(100, activation='relu'))\n",
    "model.add(layers.Dropout(0.1))\n",
    "model.add(layers.Dense(80, activation='relu'))\n",
    "model.add(layers.Dropout(0.1))\n",
    "model.add(layers.Dense(60, activation='relu'))\n",
    "model.add(layers.Dropout(0.1))\n",
    "model.add(layers.Dense(40, activation='relu'))\n",
    "model.add(layers.Dropout(0.1))\n",
    "model.add(layers.Dense(20, activation='relu'))\n",
    "model.add(layers.Dropout(0.1))\n",
    "\n",
    "# Output layer\n",
    "model.add(layers.Dense(1))\n",
    "\n",
    "# Compile the model\n",
    "model.compile(\n",
    "    # Optimizer\n",
    "    optimizer=keras.optimizers.Adam(),  \n",
    "    # Loss function to minimize\n",
    "    loss=keras.losses.MeanSquaredError(),\n",
    "    metrics= keras.metrics.MeanSquaredError()\n",
    ")"
   ]
  },
  {
   "cell_type": "code",
   "execution_count": 17,
   "metadata": {},
   "outputs": [],
   "source": [
    "# Train\n",
    "history_model = model.fit(X_train, y_train, epochs=50, verbose=0)"
   ]
  },
  {
   "cell_type": "code",
   "execution_count": 20,
   "metadata": {},
   "outputs": [
    {
     "name": "stdout",
     "output_type": "stream",
     "text": [
      "Train Loss: 20602318.0000\n",
      "Test Loss: 19438358.0000\n"
     ]
    }
   ],
   "source": [
    "# Evaluate the model using the test data and generate predictions\n",
    "train_loss = history_model.history[\"loss\"][-1]\n",
    "result = model.evaluate(X_val, y_val, verbose=0)\n",
    "\n",
    "print(f\"Train Loss: {train_loss:.4f}\")\n",
    "print(f\"Test Loss: {result[0]:.4f}\")\n",
    "\n",
    "y_pred = model.predict(X_val)"
   ]
  },
  {
   "cell_type": "code",
   "execution_count": 21,
   "metadata": {},
   "outputs": [
    {
     "data": {
      "text/plain": [
       "0.8796069658505583"
      ]
     },
     "execution_count": 21,
     "metadata": {},
     "output_type": "execute_result"
    }
   ],
   "source": [
    "from sklearn.metrics import r2_score\n",
    "\n",
    "r2_score(y_val,y_pred)"
   ]
  },
  {
   "cell_type": "code",
   "execution_count": 66,
   "metadata": {},
   "outputs": [
    {
     "name": "stdout",
     "output_type": "stream",
     "text": [
      "Neural Network R2 score for val set:  0.8796069658505583\n",
      "Neural Network MAE for val set: 2669.962623538342\n",
      "Neural Network RMSE for val set: 4408.89423370382\n",
      "Neural Network MSE for val set: 19438348.36398679\n"
     ]
    }
   ],
   "source": [
    "model_predict = model.predict(X_val)\n",
    "\n",
    "\n",
    "model_r2= r2_score(y_val,model_predict)\n",
    "\n",
    "model_mse = mean_squared_error(y_val, model_predict)\n",
    "model_mae = mean_absolute_error(y_val, model_predict)\n",
    "model_rmse = sqrt(mean_squared_error(y_val, model_predict))\n",
    "\n",
    "model_score = model_score.append(pd.DataFrame({'r2':[model_r2], 'mae':[model_mae],'rmse':[model_rmse], 'mse': [model_mse]},\n",
    "                                               index = ['Neural Network with tfidf 10 hidden layers having drop out rate of 10% and structure as diamond']))\n",
    "# Evaluate\n",
    "print(f\"Neural Network R2 score for val set:  {r2_score(y_val,model_predict)}\")\n",
    "print(f\"Neural Network MAE for val set: {model_mae}\")\n",
    "print(f\"Neural Network RMSE for val set: {model_rmse}\" )\n",
    "print(f\"Neural Network MSE for val set: {model_mse}\")"
   ]
  },
  {
   "cell_type": "code",
   "execution_count": null,
   "metadata": {},
   "outputs": [],
   "source": []
  },
  {
   "cell_type": "code",
   "execution_count": 24,
   "metadata": {},
   "outputs": [],
   "source": [
    "# Sequential model\n",
    "\n",
    "cone_model = keras.Sequential()\n",
    "\n",
    "\n",
    "# Add dense layers with dropout\n",
    "# Add dense layers\n",
    "cone_model.add(layers.Dense(300, activation='relu'))\n",
    "cone_model.add(layers.Dropout(0.1))\n",
    "cone_model.add(layers.Dense(200, activation='relu'))\n",
    "cone_model.add(layers.Dropout(0.1))\n",
    "cone_model.add(layers.Dense(100, activation='relu'))\n",
    "cone_model.add(layers.Dropout(0.1))\n",
    "cone_model.add(layers.Dense(50, activation='relu'))\n",
    "cone_model.add(layers.Dropout(0.1))\n",
    "\n",
    "\n",
    "# Output layer\n",
    "cone_model.add(layers.Dense(1))\n",
    "\n",
    "# Compile the model\n",
    "cone_model.compile(\n",
    "    # Optimizer\n",
    "    optimizer=keras.optimizers.Adam(),  \n",
    "    # Loss function to minimize\n",
    "    loss=keras.losses.MeanSquaredError(),\n",
    "    metrics= keras.metrics.MeanSquaredError()\n",
    ")"
   ]
  },
  {
   "cell_type": "code",
   "execution_count": 25,
   "metadata": {},
   "outputs": [
    {
     "name": "stdout",
     "output_type": "stream",
     "text": [
      "Epoch 1/100\n",
      "Epoch 2/100\n",
      "Epoch 3/100\n",
      "Epoch 4/100\n",
      "Epoch 5/100\n",
      "Epoch 6/100\n",
      "Epoch 7/100\n",
      "Epoch 8/100\n",
      "Epoch 9/100\n",
      "Epoch 10/100\n",
      "Epoch 11/100\n",
      "Epoch 12/100\n",
      "Epoch 13/100\n",
      "Epoch 14/100\n",
      "Epoch 15/100\n",
      "Epoch 16/100\n",
      "Epoch 17/100\n",
      "Epoch 18/100\n",
      "Epoch 19/100\n",
      "Epoch 20/100\n",
      "Epoch 21/100\n",
      "Epoch 22/100\n",
      "Epoch 23/100\n",
      "Epoch 24/100\n",
      "Epoch 25/100\n",
      "Epoch 26/100\n",
      "Epoch 27/100\n",
      "Epoch 28/100\n",
      "Epoch 29/100\n",
      "Epoch 30/100\n",
      "Epoch 31/100\n",
      "Epoch 32/100\n",
      "Epoch 33/100\n",
      "Epoch 34/100\n",
      "Epoch 35/100\n",
      "Epoch 36/100\n",
      "Epoch 37/100\n",
      "Epoch 38/100\n",
      "Epoch 39/100\n",
      "Epoch 40/100\n",
      "Epoch 41/100\n",
      "Epoch 42/100\n",
      "Epoch 43/100\n",
      "Epoch 44/100\n",
      "Epoch 45/100\n",
      "Epoch 46/100\n",
      "Epoch 47/100\n",
      "Epoch 48/100\n",
      "Epoch 49/100\n",
      "Epoch 50/100\n",
      "Epoch 51/100\n",
      "Epoch 52/100\n",
      "Epoch 53/100\n",
      "Epoch 54/100\n",
      "Epoch 55/100\n",
      "Epoch 56/100\n",
      "Epoch 57/100\n",
      "Epoch 58/100\n",
      "Epoch 59/100\n",
      "Epoch 60/100\n",
      "Epoch 61/100\n",
      "Epoch 62/100\n",
      "Epoch 63/100\n",
      "Epoch 64/100\n",
      "Epoch 65/100\n",
      "Epoch 66/100\n",
      "Epoch 67/100\n",
      "Epoch 68/100\n",
      "Epoch 69/100\n",
      "Epoch 70/100\n",
      "Epoch 71/100\n",
      "Epoch 72/100\n",
      "Epoch 73/100\n",
      "Epoch 74/100\n",
      "Epoch 75/100\n",
      "Epoch 76/100\n",
      "Epoch 77/100\n",
      "Epoch 78/100\n",
      "Epoch 79/100\n",
      "Epoch 80/100\n",
      "Epoch 81/100\n",
      "Epoch 82/100\n",
      "Epoch 83/100\n",
      "Epoch 84/100\n",
      "Epoch 85/100\n",
      "Epoch 86/100\n",
      "Epoch 87/100\n",
      "Epoch 88/100\n",
      "Epoch 89/100\n",
      "Epoch 90/100\n",
      "Epoch 91/100\n",
      "Epoch 92/100\n",
      "Epoch 93/100\n",
      "Epoch 94/100\n",
      "Epoch 95/100\n",
      "Epoch 96/100\n",
      "Epoch 97/100\n",
      "Epoch 98/100\n",
      "Epoch 99/100\n",
      "Epoch 100/100\n"
     ]
    }
   ],
   "source": [
    "history_cone = cone_model.fit(X_train, y_train, epochs=100, verbose=5)"
   ]
  },
  {
   "cell_type": "code",
   "execution_count": 26,
   "metadata": {},
   "outputs": [
    {
     "name": "stdout",
     "output_type": "stream",
     "text": [
      "Train Loss: 5521187.0000\n",
      "Test Loss: 7665957.5000\n"
     ]
    }
   ],
   "source": [
    "# Evaluate the model using the test data and generate predictions\n",
    "cone_train_loss = history_cone.history[\"loss\"][-1]\n",
    "cone_result = cone_model.evaluate(X_val, y_val, verbose=0)\n",
    "\n",
    "print(f\"Train Loss: {cone_train_loss:.4f}\")\n",
    "print(f\"Test Loss: {cone_result[0]:.4f}\")\n",
    "\n",
    "y_pred_cone = cone_model.predict(X_val)"
   ]
  },
  {
   "cell_type": "code",
   "execution_count": 29,
   "metadata": {},
   "outputs": [
    {
     "data": {
      "text/plain": [
       "0.9525202977433094"
      ]
     },
     "execution_count": 29,
     "metadata": {},
     "output_type": "execute_result"
    }
   ],
   "source": [
    "from sklearn.metrics import r2_score\n",
    "\n",
    "r2_score(y_val,y_pred_cone)"
   ]
  },
  {
   "cell_type": "code",
   "execution_count": 67,
   "metadata": {},
   "outputs": [
    {
     "name": "stdout",
     "output_type": "stream",
     "text": [
      "Neural Network R2 score for val set:  0.9525202977433094\n",
      "Neural Network MAE for val set: 1541.4609278422888\n",
      "Neural Network RMSE for val set: 2768.7452219748857\n",
      "Neural Network MSE for val set: 7665950.10420876\n"
     ]
    }
   ],
   "source": [
    "cone_model_predict = cone_model.predict(X_val)\n",
    "\n",
    "\n",
    "cone_model_r2= r2_score(y_val,cone_model_predict)\n",
    "\n",
    "cone_model_mse = mean_squared_error(y_val, cone_model_predict)\n",
    "cone_model_mae = mean_absolute_error(y_val, cone_model_predict)\n",
    "cone_model_rmse = sqrt(mean_squared_error(y_val, cone_model_predict))\n",
    "\n",
    "model_score = model_score.append(pd.DataFrame({'r2':[cone_model_r2], 'mae':[cone_model_mae],'rmse':[cone_model_rmse], 'mse': [cone_model_mse]},\n",
    "                                               index = ['Neural Network with tfidf 4 hidden dense layers (300,200,100,50) having drop out rate of 10% and structure as diamond']))\n",
    "# Evaluate\n",
    "print(f\"Neural Network R2 score for val set:  {cone_model_r2}\")\n",
    "print(f\"Neural Network MAE for val set: {cone_model_mae}\")\n",
    "print(f\"Neural Network RMSE for val set: {cone_model_rmse}\" )\n",
    "print(f\"Neural Network MSE for val set: {cone_model_mse}\")"
   ]
  },
  {
   "cell_type": "code",
   "execution_count": 30,
   "metadata": {},
   "outputs": [],
   "source": [
    "# Sequential model\n",
    "\n",
    "cone2_model = keras.Sequential()\n",
    "\n",
    "\n",
    "# Add dense layers with dropout\n",
    "# Add dense layers\n",
    "cone2_model.add(layers.Dense(500, activation='relu'))\n",
    "cone2_model.add(layers.Dropout(0.1))\n",
    "cone2_model.add(layers.Dense(400, activation='relu'))\n",
    "cone2_model.add(layers.Dropout(0.1))\n",
    "cone2_model.add(layers.Dense(300, activation='relu'))\n",
    "cone2_model.add(layers.Dropout(0.1))\n",
    "cone2_model.add(layers.Dense(200, activation='relu'))\n",
    "cone2_model.add(layers.Dropout(0.1))\n",
    "cone2_model.add(layers.Dense(100, activation='relu'))\n",
    "cone2_model.add(layers.Dropout(0.1))\n",
    "cone2_model.add(layers.Dense(50, activation='relu'))\n",
    "cone2_model.add(layers.Dropout(0.1))\n",
    "\n",
    "# Output layer\n",
    "cone2_model.add(layers.Dense(1))\n",
    "\n",
    "# Compile the model\n",
    "cone2_model.compile(\n",
    "    # Optimizer\n",
    "    optimizer=keras.optimizers.Adam(),  \n",
    "    # Loss function to minimize\n",
    "    loss=keras.losses.MeanSquaredError(),\n",
    "    metrics= keras.metrics.MeanSquaredError()\n",
    ")"
   ]
  },
  {
   "cell_type": "code",
   "execution_count": 32,
   "metadata": {},
   "outputs": [
    {
     "name": "stdout",
     "output_type": "stream",
     "text": [
      "Epoch 1/50\n",
      "Epoch 2/50\n",
      "Epoch 3/50\n",
      "Epoch 4/50\n",
      "Epoch 5/50\n",
      "Epoch 6/50\n",
      "Epoch 7/50\n",
      "Epoch 8/50\n",
      "Epoch 9/50\n",
      "Epoch 10/50\n",
      "Epoch 11/50\n",
      "Epoch 12/50\n",
      "Epoch 13/50\n",
      "Epoch 14/50\n",
      "Epoch 15/50\n",
      "Epoch 16/50\n",
      "Epoch 17/50\n",
      "Epoch 18/50\n",
      "Epoch 19/50\n",
      "Epoch 20/50\n",
      "Epoch 21/50\n",
      "Epoch 22/50\n",
      "Epoch 23/50\n",
      "Epoch 24/50\n",
      "Epoch 25/50\n",
      "Epoch 26/50\n",
      "Epoch 27/50\n",
      "Epoch 28/50\n",
      "Epoch 29/50\n",
      "Epoch 30/50\n",
      "Epoch 31/50\n",
      "Epoch 32/50\n",
      "Epoch 33/50\n",
      "Epoch 34/50\n",
      "Epoch 35/50\n",
      "Epoch 36/50\n",
      "Epoch 37/50\n",
      "Epoch 38/50\n",
      "Epoch 39/50\n",
      "Epoch 40/50\n",
      "Epoch 41/50\n",
      "Epoch 42/50\n",
      "Epoch 43/50\n",
      "Epoch 44/50\n",
      "Epoch 45/50\n",
      "Epoch 46/50\n",
      "Epoch 47/50\n",
      "Epoch 48/50\n",
      "Epoch 49/50\n",
      "Epoch 50/50\n",
      "Wall time: 43min\n"
     ]
    }
   ],
   "source": [
    "%%time\n",
    "history_cone2 = cone2_model.fit(X_train, y_train, epochs=50, verbose=5)"
   ]
  },
  {
   "cell_type": "code",
   "execution_count": 33,
   "metadata": {},
   "outputs": [
    {
     "name": "stdout",
     "output_type": "stream",
     "text": [
      "Train Loss: 7429799.5000\n",
      "Val Loss: 19730834.0000\n"
     ]
    }
   ],
   "source": [
    "# Evaluate the model using the test data and generate predictions\n",
    "cone2_train_loss = history_cone2.history[\"loss\"][-1]\n",
    "cone2_result = cone2_model.evaluate(X_val, y_val, verbose=0)\n",
    "\n",
    "print(f\"Train Loss: {cone2_train_loss:.4f}\")\n",
    "print(f\"Val Loss: {cone2_result[0]:.4f}\")\n",
    "\n",
    "y_pred_cone2 = cone2_model.predict(X_val)"
   ]
  },
  {
   "cell_type": "code",
   "execution_count": 34,
   "metadata": {},
   "outputs": [
    {
     "data": {
      "text/plain": [
       "0.9525202977433094"
      ]
     },
     "execution_count": 34,
     "metadata": {},
     "output_type": "execute_result"
    }
   ],
   "source": [
    "\n",
    "r2_score(y_val,y_pred_cone)"
   ]
  },
  {
   "cell_type": "code",
   "execution_count": 68,
   "metadata": {},
   "outputs": [
    {
     "name": "stdout",
     "output_type": "stream",
     "text": [
      "Neural Network R2 score for val set:  0.8777953931909569\n",
      "Neural Network MAE for val set: 3134.8772286352487\n",
      "Neural Network RMSE for val set: 4441.941040468385\n",
      "Neural Network MSE for val set: 19730840.20699736\n"
     ]
    }
   ],
   "source": [
    "cone2_model_predict = cone2_model.predict(X_val)\n",
    "\n",
    "\n",
    "cone2_model_r2= r2_score(y_val,cone2_model_predict)\n",
    "\n",
    "cone2_model_mse = mean_squared_error(y_val, cone2_model_predict)\n",
    "cone2_model_mae = mean_absolute_error(y_val, cone2_model_predict)\n",
    "cone2_model_rmse = sqrt(mean_squared_error(y_val, cone2_model_predict))\n",
    "\n",
    "model_score = model_score.append(pd.DataFrame({'r2':[cone2_model_r2], 'mae':[cone2_model_mae],'rmse':[cone2_model_rmse], 'mse': [cone2_model_mse]},\n",
    "                                               index = ['Neural Network with tfidf 6 hidden dense layers (500,400,300,200,100,50) having drop out rate of 10% and structure as diamond']))\n",
    "# Evaluate\n",
    "print(f\"Neural Network R2 score for val set:  {cone2_model_r2}\")\n",
    "print(f\"Neural Network MAE for val set: {cone2_model_mae}\")\n",
    "print(f\"Neural Network RMSE for val set: {cone2_model_rmse}\" )\n",
    "print(f\"Neural Network MSE for val set: {cone2_model_mse}\")"
   ]
  },
  {
   "cell_type": "code",
   "execution_count": null,
   "metadata": {},
   "outputs": [],
   "source": []
  },
  {
   "cell_type": "code",
   "execution_count": 35,
   "metadata": {},
   "outputs": [],
   "source": [
    "# Sequential model\n",
    "\n",
    "cone2a_model = keras.Sequential()\n",
    "\n",
    "\n",
    "# Add dense layers with dropout\n",
    "# Add dense layers\n",
    "cone2a_model.add(layers.Dense(500, activation='relu'))\n",
    "cone2a_model.add(layers.Dropout(0.2))\n",
    "cone2a_model.add(layers.Dense(400, activation='relu'))\n",
    "cone2a_model.add(layers.Dropout(0.2))\n",
    "cone2a_model.add(layers.Dense(300, activation='relu'))\n",
    "cone2a_model.add(layers.Dropout(0.2))\n",
    "cone2a_model.add(layers.Dense(200, activation='relu'))\n",
    "cone2a_model.add(layers.Dropout(0.2))\n",
    "cone2a_model.add(layers.Dense(100, activation='relu'))\n",
    "cone2a_model.add(layers.Dropout(0.2))\n",
    "cone2a_model.add(layers.Dense(50, activation='relu'))\n",
    "cone2a_model.add(layers.Dropout(0.2))\n",
    "\n",
    "# Output layer\n",
    "cone2a_model.add(layers.Dense(1))\n",
    "\n",
    "# Compile the model\n",
    "cone2a_model.compile(\n",
    "    # Optimizer\n",
    "    optimizer=keras.optimizers.Adam(),  \n",
    "    # Loss function to minimize\n",
    "    loss=keras.losses.MeanSquaredError(),\n",
    "    metrics= keras.metrics.MeanSquaredError()\n",
    ")"
   ]
  },
  {
   "cell_type": "code",
   "execution_count": 36,
   "metadata": {},
   "outputs": [
    {
     "name": "stdout",
     "output_type": "stream",
     "text": [
      "Epoch 1/100\n",
      "6380/6380 [==============================] - 51s 8ms/step - loss: 48678353.9677 - mean_squared_error: 48678353.9677\n",
      "Epoch 2/100\n",
      "6380/6380 [==============================] - 50s 8ms/step - loss: 27514080.8391 - mean_squared_error: 27514080.8391\n",
      "Epoch 3/100\n",
      "6380/6380 [==============================] - 49s 8ms/step - loss: 26130417.0838 - mean_squared_error: 26130417.0838\n",
      "Epoch 4/100\n",
      "6380/6380 [==============================] - 50s 8ms/step - loss: 24727645.5697 - mean_squared_error: 24727645.5697\n",
      "Epoch 5/100\n",
      "6380/6380 [==============================] - 48s 8ms/step - loss: 23964328.5137 - mean_squared_error: 23964328.5137\n",
      "Epoch 6/100\n",
      "6380/6380 [==============================] - 50s 8ms/step - loss: 23231137.2873 - mean_squared_error: 23231137.2873\n",
      "Epoch 7/100\n",
      "6380/6380 [==============================] - 49s 8ms/step - loss: 22644566.8858 - mean_squared_error: 22644566.8858\n",
      "Epoch 8/100\n",
      "6380/6380 [==============================] - 49s 8ms/step - loss: 21671338.3872 - mean_squared_error: 21671338.3872\n",
      "Epoch 9/100\n",
      "6380/6380 [==============================] - 50s 8ms/step - loss: 21760959.6214 - mean_squared_error: 21760959.6214\n",
      "Epoch 10/100\n",
      "6380/6380 [==============================] - 48s 8ms/step - loss: 20737973.6568 - mean_squared_error: 20737973.6568\n",
      "Epoch 11/100\n",
      "6380/6380 [==============================] - 46s 7ms/step - loss: 20579796.0442 - mean_squared_error: 20579796.0442\n",
      "Epoch 12/100\n",
      "6380/6380 [==============================] - 43s 7ms/step - loss: 20435072.4238 - mean_squared_error: 20435072.4238\n",
      "Epoch 13/100\n",
      "6380/6380 [==============================] - 41s 6ms/step - loss: 19374216.2774 - mean_squared_error: 19374216.2774\n",
      "Epoch 14/100\n",
      "6380/6380 [==============================] - 43s 7ms/step - loss: 19265001.9127 - mean_squared_error: 19265001.9127\n",
      "Epoch 15/100\n",
      "6380/6380 [==============================] - 40s 6ms/step - loss: 18859864.4897 - mean_squared_error: 18859864.4897\n",
      "Epoch 16/100\n",
      "6380/6380 [==============================] - 44s 7ms/step - loss: 18540617.6880 - mean_squared_error: 18540617.6880\n",
      "Epoch 17/100\n",
      "6380/6380 [==============================] - 44s 7ms/step - loss: 18184181.8071 - mean_squared_error: 18184181.8071\n",
      "Epoch 18/100\n",
      "6380/6380 [==============================] - 42s 7ms/step - loss: 18074316.2797 - mean_squared_error: 18074316.2797\n",
      "Epoch 19/100\n",
      "6380/6380 [==============================] - 42s 7ms/step - loss: 18093677.2208 - mean_squared_error: 18093677.2208\n",
      "Epoch 20/100\n",
      "6380/6380 [==============================] - 44s 7ms/step - loss: 17696105.3449 - mean_squared_error: 17696105.3449\n",
      "Epoch 21/100\n",
      "6380/6380 [==============================] - 42s 7ms/step - loss: 17270389.8651 - mean_squared_error: 17270389.8651\n",
      "Epoch 22/100\n",
      "6380/6380 [==============================] - 41s 6ms/step - loss: 17086255.3803 - mean_squared_error: 17086255.3803\n",
      "Epoch 23/100\n",
      "6380/6380 [==============================] - 40s 6ms/step - loss: 17690483.3813 - mean_squared_error: 17690483.3813\n",
      "Epoch 24/100\n",
      "6380/6380 [==============================] - 39s 6ms/step - loss: 17108526.3126 - mean_squared_error: 17108526.3126\n",
      "Epoch 25/100\n",
      "6380/6380 [==============================] - 39s 6ms/step - loss: 16801615.9544 - mean_squared_error: 16801615.9544\n",
      "Epoch 26/100\n",
      "6380/6380 [==============================] - 40s 6ms/step - loss: 16551204.8971 - mean_squared_error: 16551204.8971\n",
      "Epoch 27/100\n",
      "6380/6380 [==============================] - 39s 6ms/step - loss: 16760067.7743 - mean_squared_error: 16760067.7743\n",
      "Epoch 28/100\n",
      "6380/6380 [==============================] - 40s 6ms/step - loss: 16817776.7840 - mean_squared_error: 16817776.7840\n",
      "Epoch 29/100\n",
      "6380/6380 [==============================] - 41s 6ms/step - loss: 16847321.6883 - mean_squared_error: 16847321.6883\n",
      "Epoch 30/100\n",
      "6380/6380 [==============================] - 39s 6ms/step - loss: 16493491.4813 - mean_squared_error: 16493491.4813\n",
      "Epoch 31/100\n",
      "6380/6380 [==============================] - 39s 6ms/step - loss: 16406828.2521 - mean_squared_error: 16406828.2521\n",
      "Epoch 32/100\n",
      "6380/6380 [==============================] - 40s 6ms/step - loss: 16495889.9089 - mean_squared_error: 16495889.9089\n",
      "Epoch 33/100\n",
      "6380/6380 [==============================] - 39s 6ms/step - loss: 16064159.9936 - mean_squared_error: 16064159.9936\n",
      "Epoch 34/100\n",
      "6380/6380 [==============================] - 39s 6ms/step - loss: 16038155.1810 - mean_squared_error: 16038155.1810\n",
      "Epoch 35/100\n",
      "6380/6380 [==============================] - 40s 6ms/step - loss: 15981305.7698 - mean_squared_error: 15981305.7698\n",
      "Epoch 36/100\n",
      "6380/6380 [==============================] - 39s 6ms/step - loss: 15605576.8348 - mean_squared_error: 15605576.8348\n",
      "Epoch 37/100\n",
      "6380/6380 [==============================] - 39s 6ms/step - loss: 16139912.3065 - mean_squared_error: 16139912.3065\n",
      "Epoch 38/100\n",
      "6380/6380 [==============================] - 40s 6ms/step - loss: 16057159.2534 - mean_squared_error: 16057159.2534\n",
      "Epoch 39/100\n",
      "6380/6380 [==============================] - 39s 6ms/step - loss: 15751541.2374 - mean_squared_error: 15751541.2374\n",
      "Epoch 40/100\n",
      "6380/6380 [==============================] - 39s 6ms/step - loss: 15904708.9806 - mean_squared_error: 15904708.9806\n",
      "Epoch 41/100\n",
      "6380/6380 [==============================] - 40s 6ms/step - loss: 15933861.4734 - mean_squared_error: 15933861.4734\n",
      "Epoch 42/100\n",
      "6380/6380 [==============================] - 39s 6ms/step - loss: 15780358.7949 - mean_squared_error: 15780358.7949\n",
      "Epoch 43/100\n",
      "6380/6380 [==============================] - 39s 6ms/step - loss: 15604310.5866 - mean_squared_error: 15604310.5866\n",
      "Epoch 44/100\n",
      "6380/6380 [==============================] - 40s 6ms/step - loss: 15539048.0456 - mean_squared_error: 15539048.0456\n",
      "Epoch 45/100\n",
      "6380/6380 [==============================] - 39s 6ms/step - loss: 15905509.0694 - mean_squared_error: 15905509.0694\n",
      "Epoch 46/100\n",
      "6380/6380 [==============================] - 39s 6ms/step - loss: 15403253.2885 - mean_squared_error: 15403253.2885\n",
      "Epoch 47/100\n",
      "6380/6380 [==============================] - 40s 6ms/step - loss: 15520675.8137 - mean_squared_error: 15520675.8137\n",
      "Epoch 48/100\n",
      "6380/6380 [==============================] - 39s 6ms/step - loss: 15407677.4875 - mean_squared_error: 15407677.4875\n",
      "Epoch 49/100\n",
      "6380/6380 [==============================] - 39s 6ms/step - loss: 15352914.1072 - mean_squared_error: 15352914.1072\n",
      "Epoch 50/100\n",
      "6380/6380 [==============================] - 40s 6ms/step - loss: 15393444.4203 - mean_squared_error: 15393444.4203\n",
      "Epoch 51/100\n",
      "6380/6380 [==============================] - 39s 6ms/step - loss: 15173861.5596 - mean_squared_error: 15173861.5596\n",
      "Epoch 52/100\n",
      "6380/6380 [==============================] - 39s 6ms/step - loss: 15706227.7425 - mean_squared_error: 15706227.7425\n",
      "Epoch 53/100\n",
      "6380/6380 [==============================] - 40s 6ms/step - loss: 14634172.8323 - mean_squared_error: 14634172.8323\n",
      "Epoch 54/100\n",
      "6380/6380 [==============================] - 39s 6ms/step - loss: 14619386.8326 - mean_squared_error: 14619386.8326\n",
      "Epoch 55/100\n",
      "6380/6380 [==============================] - 39s 6ms/step - loss: 14251305.3321 - mean_squared_error: 14251305.3321\n",
      "Epoch 56/100\n",
      "6380/6380 [==============================] - 40s 6ms/step - loss: 15086357.8547 - mean_squared_error: 15086357.8547\n",
      "Epoch 57/100\n",
      "6380/6380 [==============================] - 39s 6ms/step - loss: 14487840.4504 - mean_squared_error: 14487840.4504\n",
      "Epoch 58/100\n",
      "6380/6380 [==============================] - 39s 6ms/step - loss: 14668206.1899 - mean_squared_error: 14668206.1899\n",
      "Epoch 59/100\n",
      "6380/6380 [==============================] - 40s 6ms/step - loss: 14423277.9709 - mean_squared_error: 14423277.9709\n",
      "Epoch 60/100\n",
      "6380/6380 [==============================] - 41s 6ms/step - loss: 14582951.2656 - mean_squared_error: 14582951.2656\n",
      "Epoch 61/100\n",
      "6380/6380 [==============================] - 41s 6ms/step - loss: 13858864.5140 - mean_squared_error: 13858864.5140\n",
      "Epoch 62/100\n",
      "6380/6380 [==============================] - 43s 7ms/step - loss: 14130150.1945 - mean_squared_error: 14130150.1945\n",
      "Epoch 63/100\n",
      "6380/6380 [==============================] - 41s 6ms/step - loss: 13850206.0114 - mean_squared_error: 13850206.0114\n",
      "Epoch 64/100\n",
      "6380/6380 [==============================] - 41s 6ms/step - loss: 13602573.3065 - mean_squared_error: 13602573.3065\n",
      "Epoch 65/100\n",
      "6380/6380 [==============================] - 44s 7ms/step - loss: 13767946.4314 - mean_squared_error: 13767946.4314\n",
      "Epoch 66/100\n",
      "6380/6380 [==============================] - 42s 7ms/step - loss: 13892488.1987 - mean_squared_error: 13892488.1987\n",
      "Epoch 67/100\n",
      "6380/6380 [==============================] - 40s 6ms/step - loss: 13572840.6789 - mean_squared_error: 13572840.6789\n",
      "Epoch 68/100\n",
      "6380/6380 [==============================] - 44s 7ms/step - loss: 13700647.5070 - mean_squared_error: 13700647.5070\n",
      "Epoch 69/100\n",
      "6380/6380 [==============================] - 41s 7ms/step - loss: 13649004.9654 - mean_squared_error: 13649004.9654\n",
      "Epoch 70/100\n",
      "6380/6380 [==============================] - 41s 6ms/step - loss: 13777026.3609 - mean_squared_error: 13777026.3609\n",
      "Epoch 71/100\n",
      "6380/6380 [==============================] - 44s 7ms/step - loss: 13205596.4010 - mean_squared_error: 13205596.4010\n",
      "Epoch 72/100\n",
      "6380/6380 [==============================] - 41s 6ms/step - loss: 13222206.8339 - mean_squared_error: 13222206.8339\n",
      "Epoch 73/100\n",
      "6380/6380 [==============================] - 42s 7ms/step - loss: 13599310.8953 - mean_squared_error: 13599310.8953\n",
      "Epoch 74/100\n",
      "6380/6380 [==============================] - 43s 7ms/step - loss: 13069864.1498 - mean_squared_error: 13069864.1498\n",
      "Epoch 75/100\n",
      "6380/6380 [==============================] - 42s 7ms/step - loss: 13376098.9998 - mean_squared_error: 13376098.9998\n",
      "Epoch 76/100\n",
      "6380/6380 [==============================] - 43s 7ms/step - loss: 13701976.8668 - mean_squared_error: 13701976.8668\n",
      "Epoch 77/100\n",
      "6380/6380 [==============================] - 41s 6ms/step - loss: 13707462.7682 - mean_squared_error: 13707462.7682\n",
      "Epoch 78/100\n",
      "6380/6380 [==============================] - 42s 7ms/step - loss: 12875135.3163 - mean_squared_error: 12875135.3163\n",
      "Epoch 79/100\n",
      "6380/6380 [==============================] - 41s 6ms/step - loss: 12860657.0614 - mean_squared_error: 12860657.0614\n",
      "Epoch 80/100\n",
      "6380/6380 [==============================] - 42s 7ms/step - loss: 12971781.6885 - mean_squared_error: 12971781.6885\n",
      "Epoch 81/100\n",
      "6380/6380 [==============================] - 40s 6ms/step - loss: 13163139.4998 - mean_squared_error: 13163139.4998\n",
      "Epoch 82/100\n",
      "6380/6380 [==============================] - 43s 7ms/step - loss: 12865353.1439 - mean_squared_error: 12865353.1439\n",
      "Epoch 83/100\n",
      "6380/6380 [==============================] - 42s 7ms/step - loss: 13186657.3329 - mean_squared_error: 13186657.3329 0s - loss: 13185898.1377 - mean_squared_erro\n",
      "Epoch 84/100\n",
      "6380/6380 [==============================] - 42s 7ms/step - loss: 12761874.7464 - mean_squared_error: 12761874.7464\n",
      "Epoch 85/100\n",
      "6380/6380 [==============================] - 42s 7ms/step - loss: 12600803.5454 - mean_squared_error: 12600803.5454\n",
      "Epoch 86/100\n",
      "6380/6380 [==============================] - 42s 7ms/step - loss: 12799206.2761 - mean_squared_error: 12799206.2761\n",
      "Epoch 87/100\n",
      "6380/6380 [==============================] - 41s 6ms/step - loss: 12733383.9163 - mean_squared_error: 12733383.9163\n",
      "Epoch 88/100\n",
      "6380/6380 [==============================] - 43s 7ms/step - loss: 12678445.6707 - mean_squared_error: 12678445.6707\n",
      "Epoch 89/100\n",
      "6380/6380 [==============================] - 42s 7ms/step - loss: 12819694.3656 - mean_squared_error: 12819694.3656\n",
      "Epoch 90/100\n",
      "6380/6380 [==============================] - 40s 6ms/step - loss: 12832476.1003 - mean_squared_error: 12832476.1003\n",
      "Epoch 91/100\n",
      "6380/6380 [==============================] - 43s 7ms/step - loss: 12441121.4148 - mean_squared_error: 12441121.4148\n",
      "Epoch 92/100\n",
      "6380/6380 [==============================] - 41s 6ms/step - loss: 12475134.5350 - mean_squared_error: 12475134.5350\n",
      "Epoch 93/100\n",
      "6380/6380 [==============================] - 41s 6ms/step - loss: 12672593.9937 - mean_squared_error: 12672593.9937\n",
      "Epoch 94/100\n",
      "6380/6380 [==============================] - 44s 7ms/step - loss: 12430725.7878 - mean_squared_error: 12430725.7878\n",
      "Epoch 95/100\n",
      "6380/6380 [==============================] - 41s 6ms/step - loss: 12719094.0549 - mean_squared_error: 12719094.0549\n",
      "Epoch 96/100\n",
      "6380/6380 [==============================] - 42s 7ms/step - loss: 12285419.0052 - mean_squared_error: 12285419.0052\n",
      "Epoch 97/100\n",
      "6380/6380 [==============================] - 42s 7ms/step - loss: 12464144.2208 - mean_squared_error: 12464144.2208\n",
      "Epoch 98/100\n",
      "6380/6380 [==============================] - 41s 6ms/step - loss: 12085410.3628 - mean_squared_error: 12085410.3628\n",
      "Epoch 99/100\n",
      "6380/6380 [==============================] - 43s 7ms/step - loss: 12145343.5223 - mean_squared_error: 12145343.5223\n",
      "Epoch 100/100\n",
      "6380/6380 [==============================] - 42s 7ms/step - loss: 12508933.2642 - mean_squared_error: 12508933.2642\n",
      "Wall time: 1h 9min 47s\n"
     ]
    }
   ],
   "source": [
    "%%time\n",
    "history_cone2a = cone2a_model.fit(X_train, y_train, epochs=100, verbose=1)"
   ]
  },
  {
   "cell_type": "code",
   "execution_count": 39,
   "metadata": {},
   "outputs": [
    {
     "name": "stdout",
     "output_type": "stream",
     "text": [
      "Train Loss: 12500705.0000\n",
      "Val Loss: 19730834.0000\n"
     ]
    }
   ],
   "source": [
    "# Evaluate the model using the test data and generate predictions\n",
    "cone2a_train_loss = history_cone2a.history[\"loss\"][-1]\n",
    "cone2a_result = cone2_model.evaluate(X_val, y_val, verbose=0)\n",
    "\n",
    "print(f\"Train Loss: {cone2a_train_loss:.4f}\")\n",
    "print(f\"Val Loss: {cone2a_result[0]:.4f}\")\n",
    "\n",
    "y_pred_cone2a = cone2a_model.predict(X_val)"
   ]
  },
  {
   "cell_type": "code",
   "execution_count": 69,
   "metadata": {},
   "outputs": [
    {
     "name": "stdout",
     "output_type": "stream",
     "text": [
      "Neural Network R2 score for val set:  0.7736740853024456\n",
      "Neural Network MAE for val set: 4116.267500657624\n",
      "Neural Network RMSE for val set: 6044.997739670695\n",
      "Neural Network MSE for val set: 36541997.67262381\n"
     ]
    }
   ],
   "source": [
    "cone2a_model_predict = cone2a_model.predict(X_val)\n",
    "\n",
    "\n",
    "cone2a_model_r2= r2_score(y_val,cone2a_model_predict)\n",
    "\n",
    "cone2a_model_mse = mean_squared_error(y_val, cone2a_model_predict)\n",
    "cone2a_model_mae = mean_absolute_error(y_val, cone2a_model_predict)\n",
    "cone2a_model_rmse = sqrt(mean_squared_error(y_val, cone2a_model_predict))\n",
    "\n",
    "model_score = model_score.append(pd.DataFrame({'r2':[cone2a_model_r2], 'mae':[cone2a_model_mae],'rmse':[cone2a_model_rmse], 'mse': [cone2a_model_mse]},\n",
    "                                               index = ['Neural Network with tfidf 6 hidden dense layers (500,400,300,200,100,50) having drop out rate of 20% and structure as diamond']))\n",
    "# Evaluate\n",
    "print(f\"Neural Network R2 score for val set:  {cone2a_model_r2}\")\n",
    "print(f\"Neural Network MAE for val set: {cone2a_model_mae}\")\n",
    "print(f\"Neural Network RMSE for val set: {cone2a_model_rmse}\" )\n",
    "print(f\"Neural Network MSE for val set: {cone2a_model_mse}\")"
   ]
  },
  {
   "cell_type": "code",
   "execution_count": null,
   "metadata": {},
   "outputs": [],
   "source": []
  },
  {
   "cell_type": "code",
   "execution_count": 41,
   "metadata": {},
   "outputs": [],
   "source": [
    "# Sequential model\n",
    "\n",
    "cone_mae_model = keras.Sequential()\n",
    "\n",
    "\n",
    "# Add 4 hidden dense layers with dropout rate of 10% (33,200,100,50)\n",
    "# Add dense layers\n",
    "cone_mae_model.add(layers.Dense(300, activation='relu'))\n",
    "cone_mae_model.add(layers.Dropout(0.1))\n",
    "cone_mae_model.add(layers.Dense(200, activation='relu'))\n",
    "cone_mae_model.add(layers.Dropout(0.1))\n",
    "cone_mae_model.add(layers.Dense(100, activation='relu'))\n",
    "cone_mae_model.add(layers.Dropout(0.1))\n",
    "cone_mae_model.add(layers.Dense(50, activation='relu'))\n",
    "cone_mae_model.add(layers.Dropout(0.1))\n",
    "\n",
    "\n",
    "# Output layer\n",
    "cone_mae_model.add(layers.Dense(1))\n",
    "\n",
    "# Compile the model\n",
    "cone_mae_model.compile(\n",
    "    # Optimizer\n",
    "    optimizer=keras.optimizers.Adam(),  \n",
    "    # Loss function to minimize\n",
    "    loss=keras.losses.MeanAbsoluteError(),\n",
    "    #loss=keras.losses.MeanSquaredError(),\n",
    "    metrics= keras.metrics.MeanAbsoluteError()\n",
    ")"
   ]
  },
  {
   "cell_type": "code",
   "execution_count": 42,
   "metadata": {},
   "outputs": [
    {
     "name": "stdout",
     "output_type": "stream",
     "text": [
      "Epoch 1/100\n",
      "Epoch 2/100\n",
      "Epoch 3/100\n",
      "Epoch 4/100\n",
      "Epoch 5/100\n",
      "Epoch 6/100\n",
      "Epoch 7/100\n",
      "Epoch 8/100\n",
      "Epoch 9/100\n",
      "Epoch 10/100\n",
      "Epoch 11/100\n",
      "Epoch 12/100\n",
      "Epoch 13/100\n",
      "Epoch 14/100\n",
      "Epoch 15/100\n",
      "Epoch 16/100\n",
      "Epoch 17/100\n",
      "Epoch 18/100\n",
      "Epoch 19/100\n",
      "Epoch 20/100\n",
      "Epoch 21/100\n",
      "Epoch 22/100\n",
      "Epoch 23/100\n",
      "Epoch 24/100\n",
      "Epoch 25/100\n",
      "Epoch 26/100\n",
      "Epoch 27/100\n",
      "Epoch 28/100\n",
      "Epoch 29/100\n",
      "Epoch 30/100\n",
      "Epoch 31/100\n",
      "Epoch 32/100\n",
      "Epoch 33/100\n",
      "Epoch 34/100\n",
      "Epoch 35/100\n",
      "Epoch 36/100\n",
      "Epoch 37/100\n",
      "Epoch 38/100\n",
      "Epoch 39/100\n",
      "Epoch 40/100\n",
      "Epoch 41/100\n",
      "Epoch 42/100\n",
      "Epoch 43/100\n",
      "Epoch 44/100\n",
      "Epoch 45/100\n",
      "Epoch 46/100\n",
      "Epoch 47/100\n",
      "Epoch 48/100\n",
      "Epoch 49/100\n",
      "Epoch 50/100\n",
      "Epoch 51/100\n",
      "Epoch 52/100\n",
      "Epoch 53/100\n",
      "Epoch 54/100\n",
      "Epoch 55/100\n",
      "Epoch 56/100\n",
      "Epoch 57/100\n",
      "Epoch 58/100\n",
      "Epoch 59/100\n",
      "Epoch 60/100\n",
      "Epoch 61/100\n",
      "Epoch 62/100\n",
      "Epoch 63/100\n",
      "Epoch 64/100\n",
      "Epoch 65/100\n",
      "Epoch 66/100\n",
      "Epoch 67/100\n",
      "Epoch 68/100\n",
      "Epoch 69/100\n",
      "Epoch 70/100\n",
      "Epoch 71/100\n",
      "Epoch 72/100\n",
      "Epoch 73/100\n",
      "Epoch 74/100\n",
      "Epoch 75/100\n",
      "Epoch 76/100\n",
      "Epoch 77/100\n",
      "Epoch 78/100\n",
      "Epoch 79/100\n",
      "Epoch 80/100\n",
      "Epoch 81/100\n",
      "Epoch 82/100\n",
      "Epoch 83/100\n",
      "Epoch 84/100\n",
      "Epoch 85/100\n",
      "Epoch 86/100\n",
      "Epoch 87/100\n",
      "Epoch 88/100\n",
      "Epoch 89/100\n",
      "Epoch 90/100\n",
      "Epoch 91/100\n",
      "Epoch 92/100\n",
      "Epoch 93/100\n",
      "Epoch 94/100\n",
      "Epoch 95/100\n",
      "Epoch 96/100\n",
      "Epoch 97/100\n",
      "Epoch 98/100\n",
      "Epoch 99/100\n",
      "Epoch 100/100\n",
      "Wall time: 29min 7s\n"
     ]
    }
   ],
   "source": [
    "%%time\n",
    "# Train\n",
    "history_cone_mae = cone_mae_model.fit(X_train, y_train, epochs=100, verbose=5)"
   ]
  },
  {
   "cell_type": "code",
   "execution_count": 74,
   "metadata": {},
   "outputs": [
    {
     "name": "stdout",
     "output_type": "stream",
     "text": [
      "Train Loss: 1618.8928\n",
      "Val Loss: 1729.8923\n"
     ]
    }
   ],
   "source": [
    "# Evaluate the model using the test data and generate predictions\n",
    "cone_mae_train_loss = history_cone_mae.history[\"loss\"][-1]\n",
    "cone_mae_result = cone_mae_model.evaluate(X_val, y_val, verbose=0)\n",
    "\n",
    "print(f\"Train Loss: {cone_mae_train_loss:.4f}\")\n",
    "print(f\"Val Loss: {cone_mae_result[0]:.4f}\")"
   ]
  },
  {
   "cell_type": "code",
   "execution_count": 55,
   "metadata": {},
   "outputs": [
    {
     "data": {
      "text/plain": [
       "array([[30630.428],\n",
       "       [ 8583.778],\n",
       "       [ 8294.943],\n",
       "       ...,\n",
       "       [26086.23 ],\n",
       "       [19087.78 ],\n",
       "       [33330.22 ]], dtype=float32)"
      ]
     },
     "execution_count": 55,
     "metadata": {},
     "output_type": "execute_result"
    }
   ],
   "source": [
    "cone_mae_model.predict(X_val)"
   ]
  },
  {
   "cell_type": "code",
   "execution_count": 70,
   "metadata": {},
   "outputs": [
    {
     "name": "stdout",
     "output_type": "stream",
     "text": [
      "Neural Network R2 score for val set:  0.9414915277947014\n",
      "Neural Network MAE for val set: 1729.8940073454762\n",
      "Neural Network RMSE for val set: 3073.536532556505\n",
      "Neural Network MSE for val set: 9446626.816959463\n"
     ]
    }
   ],
   "source": [
    "cone_mae_model_predict = cone_mae_model.predict(X_val)\n",
    "\n",
    "\n",
    "cone_mae_model_r2= r2_score(y_val,cone_mae_model_predict)\n",
    "\n",
    "cone_mae_model_mse = mean_squared_error(y_val, cone_mae_model_predict)\n",
    "cone_mae_model_mae = mean_absolute_error(y_val, cone_mae_model_predict)\n",
    "cone_mae_model_rmse = sqrt(mean_squared_error(y_val, cone_mae_model_predict))\n",
    "\n",
    "model_score = model_score.append(pd.DataFrame({'r2':[cone2a_model_r2], 'mae':[cone2a_model_mae],'rmse':[cone2a_model_rmse], 'mse': [cone2a_model_mse]},\n",
    "                                               index = ['Neural Network with tfidf 4 hidden dense layers (33,200,100,50) having drop out rate of 10% and structure as diamond and loss function as mae']))\n",
    "# Evaluate\n",
    "print(f\"Neural Network R2 score for val set:  {cone_mae_model_r2}\")\n",
    "print(f\"Neural Network MAE for val set: {cone_mae_model_mae}\")\n",
    "print(f\"Neural Network RMSE for val set: {cone_mae_model_rmse}\" )\n",
    "print(f\"Neural Network MSE for val set: {cone_mae_model_mse}\")"
   ]
  },
  {
   "cell_type": "code",
   "execution_count": 71,
   "metadata": {},
   "outputs": [
    {
     "data": {
      "text/html": [
       "<div>\n",
       "<style scoped>\n",
       "    .dataframe tbody tr th:only-of-type {\n",
       "        vertical-align: middle;\n",
       "    }\n",
       "\n",
       "    .dataframe tbody tr th {\n",
       "        vertical-align: top;\n",
       "    }\n",
       "\n",
       "    .dataframe thead th {\n",
       "        text-align: right;\n",
       "    }\n",
       "</style>\n",
       "<table border=\"1\" class=\"dataframe\">\n",
       "  <thead>\n",
       "    <tr style=\"text-align: right;\">\n",
       "      <th></th>\n",
       "      <th>r2</th>\n",
       "      <th>mae</th>\n",
       "      <th>rmse</th>\n",
       "      <th>mse</th>\n",
       "      <th>run_time</th>\n",
       "    </tr>\n",
       "  </thead>\n",
       "  <tbody>\n",
       "    <tr>\n",
       "      <th>Neural Network with tfidf 10 hidden layers having drop out rate of 10% and structure as diamond</th>\n",
       "      <td>0.879607</td>\n",
       "      <td>2669.962624</td>\n",
       "      <td>4408.894234</td>\n",
       "      <td>1.943835e+07</td>\n",
       "      <td>NaN</td>\n",
       "    </tr>\n",
       "    <tr>\n",
       "      <th>Neural Network with tfidf 4 hidden dense layers (300,200,100,50) having drop out rate of 10% and structure as diamond</th>\n",
       "      <td>0.952520</td>\n",
       "      <td>1541.460928</td>\n",
       "      <td>2768.745222</td>\n",
       "      <td>7.665950e+06</td>\n",
       "      <td>NaN</td>\n",
       "    </tr>\n",
       "    <tr>\n",
       "      <th>Neural Network with tfidf 6 hidden dense layers (500,400,300,200,100,50) having drop out rate of 10% and structure as diamond</th>\n",
       "      <td>0.877795</td>\n",
       "      <td>3134.877229</td>\n",
       "      <td>4441.941040</td>\n",
       "      <td>1.973084e+07</td>\n",
       "      <td>NaN</td>\n",
       "    </tr>\n",
       "    <tr>\n",
       "      <th>Neural Network with tfidf 6 hidden dense layers (500,400,300,200,100,50) having drop out rate of 20% and structure as diamond</th>\n",
       "      <td>0.773674</td>\n",
       "      <td>4116.267501</td>\n",
       "      <td>6044.997740</td>\n",
       "      <td>3.654200e+07</td>\n",
       "      <td>NaN</td>\n",
       "    </tr>\n",
       "    <tr>\n",
       "      <th>Neural Network with tfidf 4 hidden dense layers (33,200,100,50) having drop out rate of 10% and structure as diamond and loss function as mae</th>\n",
       "      <td>0.773674</td>\n",
       "      <td>4116.267501</td>\n",
       "      <td>6044.997740</td>\n",
       "      <td>3.654200e+07</td>\n",
       "      <td>NaN</td>\n",
       "    </tr>\n",
       "  </tbody>\n",
       "</table>\n",
       "</div>"
      ],
      "text/plain": [
       "                                                          r2          mae  \\\n",
       "Neural Network with tfidf 10 hidden layers havi...  0.879607  2669.962624   \n",
       "Neural Network with tfidf 4 hidden dense layers...  0.952520  1541.460928   \n",
       "Neural Network with tfidf 6 hidden dense layers...  0.877795  3134.877229   \n",
       "Neural Network with tfidf 6 hidden dense layers...  0.773674  4116.267501   \n",
       "Neural Network with tfidf 4 hidden dense layers...  0.773674  4116.267501   \n",
       "\n",
       "                                                           rmse           mse  \\\n",
       "Neural Network with tfidf 10 hidden layers havi...  4408.894234  1.943835e+07   \n",
       "Neural Network with tfidf 4 hidden dense layers...  2768.745222  7.665950e+06   \n",
       "Neural Network with tfidf 6 hidden dense layers...  4441.941040  1.973084e+07   \n",
       "Neural Network with tfidf 6 hidden dense layers...  6044.997740  3.654200e+07   \n",
       "Neural Network with tfidf 4 hidden dense layers...  6044.997740  3.654200e+07   \n",
       "\n",
       "                                                   run_time  \n",
       "Neural Network with tfidf 10 hidden layers havi...      NaN  \n",
       "Neural Network with tfidf 4 hidden dense layers...      NaN  \n",
       "Neural Network with tfidf 6 hidden dense layers...      NaN  \n",
       "Neural Network with tfidf 6 hidden dense layers...      NaN  \n",
       "Neural Network with tfidf 4 hidden dense layers...      NaN  "
      ]
     },
     "execution_count": 71,
     "metadata": {},
     "output_type": "execute_result"
    }
   ],
   "source": [
    "model_score"
   ]
  },
  {
   "cell_type": "code",
   "execution_count": null,
   "metadata": {},
   "outputs": [],
   "source": [
    "#Neural network with 4 hidden layers starting from 300 performed the best with r2 of 0.952520 and mae of 1541.46"
   ]
  },
  {
   "cell_type": "code",
   "execution_count": 72,
   "metadata": {},
   "outputs": [
    {
     "name": "stdout",
     "output_type": "stream",
     "text": [
      "Neural Network R2 score for test set:  0.9466573824004363\n",
      "Neural Network MAE for test set: 1557.8495498370462\n",
      "Neural Network RMSE for test set: 2936.5736943239644\n",
      "Neural Network MSE for test set: 8623465.062195497\n"
     ]
    }
   ],
   "source": [
    "#test predictions with the best found neural network structure\n",
    "cone_model_predict = cone_model.predict(X_test)\n",
    "\n",
    "\n",
    "cone_model_r2= r2_score(y_test,cone_model_predict)\n",
    "\n",
    "cone_model_mse = mean_squared_error(y_test, cone_model_predict)\n",
    "cone_model_mae = mean_absolute_error(y_test, cone_model_predict)\n",
    "cone_model_rmse = sqrt(mean_squared_error(y_test, cone_model_predict))\n",
    "\n",
    "model_score = model_score.append(pd.DataFrame({'r2':[cone_model_r2], 'mae':[cone_model_mae],'rmse':[cone_model_rmse], 'mse': [cone_model_mse]},\n",
    "                                               index = ['Neural Network with tfidf 4 hidden dense layers (300,200,100,50) having drop out rate of 10% and structure as diamond (Test Set) scores']))\n",
    "# Evaluate\n",
    "print(f\"Neural Network R2 score for test set:  {cone_model_r2}\")\n",
    "print(f\"Neural Network MAE for test set: {cone_model_mae}\")\n",
    "print(f\"Neural Network RMSE for test set: {cone_model_rmse}\" )\n",
    "print(f\"Neural Network MSE for test set: {cone_model_mse}\")"
   ]
  },
  {
   "cell_type": "code",
   "execution_count": 73,
   "metadata": {},
   "outputs": [],
   "source": [
    "model_score.to_csv('data/model_scores.csv', mode='a', index=False, header=False)"
   ]
  },
  {
   "cell_type": "code",
   "execution_count": 75,
   "metadata": {},
   "outputs": [
    {
     "data": {
      "text/html": [
       "<div>\n",
       "<style scoped>\n",
       "    .dataframe tbody tr th:only-of-type {\n",
       "        vertical-align: middle;\n",
       "    }\n",
       "\n",
       "    .dataframe tbody tr th {\n",
       "        vertical-align: top;\n",
       "    }\n",
       "\n",
       "    .dataframe thead th {\n",
       "        text-align: right;\n",
       "    }\n",
       "</style>\n",
       "<table border=\"1\" class=\"dataframe\">\n",
       "  <thead>\n",
       "    <tr style=\"text-align: right;\">\n",
       "      <th></th>\n",
       "      <th>r2</th>\n",
       "      <th>mae</th>\n",
       "      <th>rmse</th>\n",
       "      <th>mse</th>\n",
       "      <th>run_time</th>\n",
       "    </tr>\n",
       "  </thead>\n",
       "  <tbody>\n",
       "    <tr>\n",
       "      <th>Neural Network with tfidf 10 hidden layers having drop out rate of 10% and structure as diamond</th>\n",
       "      <td>0.879607</td>\n",
       "      <td>2669.962624</td>\n",
       "      <td>4408.894234</td>\n",
       "      <td>1.943835e+07</td>\n",
       "      <td>NaN</td>\n",
       "    </tr>\n",
       "    <tr>\n",
       "      <th>Neural Network with tfidf 4 hidden dense layers (300,200,100,50) having drop out rate of 10% and structure as diamond</th>\n",
       "      <td>0.952520</td>\n",
       "      <td>1541.460928</td>\n",
       "      <td>2768.745222</td>\n",
       "      <td>7.665950e+06</td>\n",
       "      <td>NaN</td>\n",
       "    </tr>\n",
       "    <tr>\n",
       "      <th>Neural Network with tfidf 6 hidden dense layers (500,400,300,200,100,50) having drop out rate of 10% and structure as diamond</th>\n",
       "      <td>0.877795</td>\n",
       "      <td>3134.877229</td>\n",
       "      <td>4441.941040</td>\n",
       "      <td>1.973084e+07</td>\n",
       "      <td>NaN</td>\n",
       "    </tr>\n",
       "    <tr>\n",
       "      <th>Neural Network with tfidf 6 hidden dense layers (500,400,300,200,100,50) having drop out rate of 20% and structure as diamond</th>\n",
       "      <td>0.773674</td>\n",
       "      <td>4116.267501</td>\n",
       "      <td>6044.997740</td>\n",
       "      <td>3.654200e+07</td>\n",
       "      <td>NaN</td>\n",
       "    </tr>\n",
       "    <tr>\n",
       "      <th>Neural Network with tfidf 4 hidden dense layers (33,200,100,50) having drop out rate of 10% and structure as diamond and loss function as mae</th>\n",
       "      <td>0.773674</td>\n",
       "      <td>4116.267501</td>\n",
       "      <td>6044.997740</td>\n",
       "      <td>3.654200e+07</td>\n",
       "      <td>NaN</td>\n",
       "    </tr>\n",
       "    <tr>\n",
       "      <th>Neural Network with tfidf 4 hidden dense layers (300,200,100,50) having drop out rate of 10% and structure as diamond (Test Set) scores</th>\n",
       "      <td>0.946657</td>\n",
       "      <td>1557.849550</td>\n",
       "      <td>2936.573694</td>\n",
       "      <td>8.623465e+06</td>\n",
       "      <td>NaN</td>\n",
       "    </tr>\n",
       "  </tbody>\n",
       "</table>\n",
       "</div>"
      ],
      "text/plain": [
       "                                                          r2          mae  \\\n",
       "Neural Network with tfidf 10 hidden layers havi...  0.879607  2669.962624   \n",
       "Neural Network with tfidf 4 hidden dense layers...  0.952520  1541.460928   \n",
       "Neural Network with tfidf 6 hidden dense layers...  0.877795  3134.877229   \n",
       "Neural Network with tfidf 6 hidden dense layers...  0.773674  4116.267501   \n",
       "Neural Network with tfidf 4 hidden dense layers...  0.773674  4116.267501   \n",
       "Neural Network with tfidf 4 hidden dense layers...  0.946657  1557.849550   \n",
       "\n",
       "                                                           rmse           mse  \\\n",
       "Neural Network with tfidf 10 hidden layers havi...  4408.894234  1.943835e+07   \n",
       "Neural Network with tfidf 4 hidden dense layers...  2768.745222  7.665950e+06   \n",
       "Neural Network with tfidf 6 hidden dense layers...  4441.941040  1.973084e+07   \n",
       "Neural Network with tfidf 6 hidden dense layers...  6044.997740  3.654200e+07   \n",
       "Neural Network with tfidf 4 hidden dense layers...  6044.997740  3.654200e+07   \n",
       "Neural Network with tfidf 4 hidden dense layers...  2936.573694  8.623465e+06   \n",
       "\n",
       "                                                   run_time  \n",
       "Neural Network with tfidf 10 hidden layers havi...      NaN  \n",
       "Neural Network with tfidf 4 hidden dense layers...      NaN  \n",
       "Neural Network with tfidf 6 hidden dense layers...      NaN  \n",
       "Neural Network with tfidf 6 hidden dense layers...      NaN  \n",
       "Neural Network with tfidf 4 hidden dense layers...      NaN  \n",
       "Neural Network with tfidf 4 hidden dense layers...      NaN  "
      ]
     },
     "execution_count": 75,
     "metadata": {},
     "output_type": "execute_result"
    }
   ],
   "source": [
    "model_score"
   ]
  },
  {
   "cell_type": "markdown",
   "metadata": {},
   "source": [
    "The best result is found through neural network as R2 for test set is 0.9466 and MAE is 1557 and for optimized Random Forest MAE was 1480 for test. Hence, Neural Network performed the best and would be used for predicting prices"
   ]
  },
  {
   "cell_type": "code",
   "execution_count": null,
   "metadata": {},
   "outputs": [],
   "source": []
  }
 ],
 "metadata": {
  "kernelspec": {
   "display_name": "deeplearning",
   "language": "python",
   "name": "deeplearning"
  },
  "language_info": {
   "codemirror_mode": {
    "name": "ipython",
    "version": 3
   },
   "file_extension": ".py",
   "mimetype": "text/x-python",
   "name": "python",
   "nbconvert_exporter": "python",
   "pygments_lexer": "ipython3",
   "version": "3.8.5"
  }
 },
 "nbformat": 4,
 "nbformat_minor": 4
}
